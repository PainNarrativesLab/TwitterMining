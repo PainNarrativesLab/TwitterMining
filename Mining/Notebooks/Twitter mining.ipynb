{
 "cells": [
  {
   "cell_type": "code",
   "execution_count": 1,
   "metadata": {},
   "outputs": [
    {
     "name": "stdout",
     "output_type": "stream",
     "text": [
      "/Users/adam/Dropbox/PainNarrativesLab/TwitterMining\n",
      "(bookmark:twittermining) -> /Users/adam/Dropbox/PainNarrativesLab/TwitterMining\n",
      "/Users/adam/Dropbox/PainNarrativesLab/TwitterMining\n"
     ]
    }
   ],
   "source": [
    "# %cd '/Users/Adam/Dropbox/PainNarrativesLab/TwitterMining'\n",
    "# %bookmark twittermining\n",
    "%cd twittermining"
   ]
  },
  {
   "cell_type": "code",
   "execution_count": 2,
   "metadata": {},
   "outputs": [],
   "source": [
    "import os\n",
    "import date\n",
    "from CouchDBTools import *\n",
    "import TwitterSQLService\n",
    "from TweetDataProcessors import *\n",
    "from TwitterSearchTools import *\n",
    "from ObserverAndSubscribers import *\n",
    "from Loggers import *\n",
    "from MySQLTools import *\n",
    "\n",
    "import RedisTools\n",
    "import CouchDBTools\n",
    "import ObserverAndSubscribers\n",
    "import DatabaseAccessObjects.CouchDBDAOs\n",
    "import TweetDataProcessors\n",
    "from DatabaseAccessObjects import SqlCredentials\n",
    "\n",
    "import nltk\n",
    "from nltk import word_tokenize\n",
    "\n",
    "from pandas import DataFrame, Series\n",
    "\n",
    "UPATH = os.getenv(\"HOME\")\n",
    "BASE = UPATH + '/Dropbox/PainNarrativesLab'\n",
    "DATAFOLDER = '%s/Data' % BASE\n",
    "#SQL_CREDENTIALS = \"%s/private_credentials/sql_local_credentials.xml\" % BASE\n",
    "SQL_CREDENTIALS = \"%s/private_credentials/sql_csun_write_credentials.xml\" % BASE\n",
    "MINER_CREDENTIALS = \"%s/private_credentials/sql_miner_credentials.xml\" % BASE\n",
    "LOGFILE = '%s/Desktop/twitter_miner_log.txt' % UPATH"
   ]
  },
  {
   "cell_type": "code",
   "execution_count": 3,
   "metadata": {
    "collapsed": true
   },
   "outputs": [],
   "source": [
    "\n",
    "import twitter\n",
    "\n",
    "from twitter.oauth import read_token_file\n",
    "\n",
    "def login(credentials=None):\n",
    "    APP_NAME = 'adaminshanghai_app'\n",
    "    CONSUMER_KEY = 'W3lp33ZnlUF6gba1y0FLRQ'\n",
    "    CONSUMER_SECRET = 'vupVVZ81IEnxDpcm7rcJRjRdOIMRqxpQqdhAKvD20'\n",
    "    TOKEN_FILE = 'out/twitter.oauth'\n",
    "    ACCESS_TOKEN = '14918616-eq170y0q8pGUbGPevCZTlOiukx4W4xFYejl6yz74'\n",
    "    ACCESS_TOKEN_SECRET = '9kvz4zul9fNDW831PQawO1NrpcfanDUAqv7Dz2IHw'\n",
    "    return twitter.Twitter(domain='api.twitter.com', api_version='1.1',\n",
    "                           auth=twitter.oauth.OAuth(ACCESS_TOKEN, ACCESS_TOKEN_SECRET, CONSUMER_KEY, CONSUMER_SECRET))"
   ]
  },
  {
   "cell_type": "code",
   "execution_count": 3,
   "metadata": {
    "collapsed": true
   },
   "outputs": [],
   "source": [
    "import tweepy\n",
    "APP_NAME = 'adaminshanghai_app'\n",
    "CONSUMER_KEY = 'W3lp33ZnlUF6gba1y0FLRQ'\n",
    "CONSUMER_SECRET = 'vupVVZ81IEnxDpcm7rcJRjRdOIMRqxpQqdhAKvD20'\n",
    "TOKEN_FILE = 'out/twitter.oauth'\n",
    "ACCESS_TOKEN = '14918616-eq170y0q8pGUbGPevCZTlOiukx4W4xFYejl6yz74'\n",
    "ACCESS_TOKEN_SECRET = '9kvz4zul9fNDW831PQawO1NrpcfanDUAqv7Dz2IHw'\n",
    "\n",
    "auth = tweepy.OAuthHandler(CONSUMER_KEY, CONSUMER_SECRET)\n",
    "# Redirect user to Twitter to authorize\n",
    "#redirect_user(auth.get_authorization_url())\n",
    "\n",
    "auth.set_access_token(ACCESS_TOKEN, ACCESS_TOKEN_SECRET)\n",
    "\n",
    "api = tweepy.API(auth)"
   ]
  },
  {
   "cell_type": "code",
   "execution_count": 9,
   "metadata": {
    "collapsed": true
   },
   "outputs": [],
   "source": [
    "#Get user\n",
    "r = api.get_user(3097897493)"
   ]
  },
  {
   "cell_type": "code",
   "execution_count": 11,
   "metadata": {},
   "outputs": [],
   "source": [
    "r2 = api.user_timeline(id=3097897493)"
   ]
  },
  {
   "cell_type": "code",
   "execution_count": 14,
   "metadata": {
    "scrolled": true
   },
   "outputs": [
    {
     "data": {
      "text/plain": [
       "[Status(contributors=None, truncated=False, text=u\"My night tonight..strong Painkillers. Minion pj's Netflix and few comforts #endosucks http://t.co/h5QWkIbSab\", in_reply_to_status_id=None, id=580075000683724800, favorite_count=0, _api=<tweepy.api.API object at 0x10c070f90>, author=User(follow_request_sent=False, profile_use_background_image=True, _json={u'follow_request_sent': False, u'profile_use_background_image': True, u'profile_text_color': u'333333', u'default_profile_image': False, u'id': 3097897493, u'profile_background_image_url_https': u'https://abs.twimg.com/images/themes/theme1/bg.png', u'verified': False, u'profile_location': None, u'profile_image_url_https': u'https://pbs.twimg.com/profile_images/578691022630309888/q1098UuJ_normal.jpeg', u'profile_sidebar_fill_color': u'DDEEF6', u'entities': {u'description': {u'urls': []}}, u'followers_count': 17, u'profile_sidebar_border_color': u'C0DEED', u'id_str': u'3097897493', u'profile_background_color': u'C0DEED', u'listed_count': 0, u'is_translation_enabled': False, u'utc_offset': None, u'statuses_count': 18, u'description': u\"insta: malahicks.mh .....my names Mala. I live in Scunthorpe. An 18yo girl who doesn't enjoy going out to drink. I'm an endometriosis warrior and proud of it!!!\", u'friends_count': 56, u'location': u'', u'profile_link_color': u'0084B4', u'profile_image_url': u'http://pbs.twimg.com/profile_images/578691022630309888/q1098UuJ_normal.jpeg', u'following': False, u'geo_enabled': False, u'profile_banner_url': u'https://pbs.twimg.com/profile_banners/3097897493/1427070598', u'profile_background_image_url': u'http://abs.twimg.com/images/themes/theme1/bg.png', u'name': u'Mala Chloe', u'lang': u'en', u'profile_background_tile': False, u'favourites_count': 1, u'screen_name': u'chloe_mala', u'notifications': False, u'url': None, u'created_at': u'Thu Mar 19 22:51:59 +0000 2015', u'contributors_enabled': False, u'time_zone': None, u'protected': False, u'default_profile': True, u'is_translator': False}, time_zone=None, id=3097897493, _api=<tweepy.api.API object at 0x10c070f90>, verified=False, profile_location=None, profile_image_url_https=u'https://pbs.twimg.com/profile_images/578691022630309888/q1098UuJ_normal.jpeg', profile_sidebar_fill_color=u'DDEEF6', is_translator=False, geo_enabled=False, entities={u'description': {u'urls': []}}, followers_count=17, protected=False, id_str=u'3097897493', default_profile_image=False, listed_count=0, lang=u'en', utc_offset=None, statuses_count=18, description=u\"insta: malahicks.mh .....my names Mala. I live in Scunthorpe. An 18yo girl who doesn't enjoy going out to drink. I'm an endometriosis warrior and proud of it!!!\", friends_count=56, profile_link_color=u'0084B4', profile_image_url=u'http://pbs.twimg.com/profile_images/578691022630309888/q1098UuJ_normal.jpeg', notifications=False, favourites_count=1, profile_background_image_url_https=u'https://abs.twimg.com/images/themes/theme1/bg.png', profile_background_color=u'C0DEED', profile_banner_url=u'https://pbs.twimg.com/profile_banners/3097897493/1427070598', profile_background_image_url=u'http://abs.twimg.com/images/themes/theme1/bg.png', screen_name=u'chloe_mala', is_translation_enabled=False, profile_background_tile=False, profile_text_color=u'333333', name=u'Mala Chloe', url=None, created_at=datetime.datetime(2015, 3, 19, 22, 51, 59), contributors_enabled=False, location=u'', profile_sidebar_border_color=u'C0DEED', default_profile=True, following=False), _json={u'contributors': None, u'truncated': False, u'text': u\"My night tonight..strong Painkillers. Minion pj's Netflix and few comforts #endosucks http://t.co/h5QWkIbSab\", u'in_reply_to_status_id': None, u'id': 580075000683724800, u'favorite_count': 0, u'source': u'<a href=\"http://twitter.com/download/android\" rel=\"nofollow\">Twitter for Android</a>', u'retweeted': False, u'coordinates': None, u'entities': {u'symbols': [], u'user_mentions': [], u'hashtags': [{u'indices': [75, 85], u'text': u'endosucks'}], u'urls': [], u'media': [{u'expanded_url': u'http://twitter.com/chloe_mala/status/580075000683724800/photo/1', u'display_url': u'pic.twitter.com/h5QWkIbSab', u'url': u'http://t.co/h5QWkIbSab', u'media_url_https': u'https://pbs.twimg.com/media/CAzXIm2WUAAVPpj.jpg', u'id_str': u'580074994891378688', u'sizes': {u'small': {u'h': 604, u'resize': u'fit', u'w': 340}, u'large': {u'h': 1024, u'resize': u'fit', u'w': 576}, u'medium': {u'h': 1024, u'resize': u'fit', u'w': 576}, u'thumb': {u'h': 150, u'resize': u'crop', u'w': 150}}, u'indices': [86, 108], u'type': u'photo', u'id': 580074994891378688, u'media_url': u'http://pbs.twimg.com/media/CAzXIm2WUAAVPpj.jpg'}]}, u'in_reply_to_screen_name': None, u'id_str': u'580075000683724800', u'retweet_count': 0, u'in_reply_to_user_id': None, u'favorited': False, u'user': {u'follow_request_sent': False, u'profile_use_background_image': True, u'profile_text_color': u'333333', u'default_profile_image': False, u'id': 3097897493, u'profile_background_image_url_https': u'https://abs.twimg.com/images/themes/theme1/bg.png', u'verified': False, u'profile_location': None, u'profile_image_url_https': u'https://pbs.twimg.com/profile_images/578691022630309888/q1098UuJ_normal.jpeg', u'profile_sidebar_fill_color': u'DDEEF6', u'entities': {u'description': {u'urls': []}}, u'followers_count': 17, u'profile_sidebar_border_color': u'C0DEED', u'id_str': u'3097897493', u'profile_background_color': u'C0DEED', u'listed_count': 0, u'is_translation_enabled': False, u'utc_offset': None, u'statuses_count': 18, u'description': u\"insta: malahicks.mh .....my names Mala. I live in Scunthorpe. An 18yo girl who doesn't enjoy going out to drink. I'm an endometriosis warrior and proud of it!!!\", u'friends_count': 56, u'location': u'', u'profile_link_color': u'0084B4', u'profile_image_url': u'http://pbs.twimg.com/profile_images/578691022630309888/q1098UuJ_normal.jpeg', u'following': False, u'geo_enabled': False, u'profile_banner_url': u'https://pbs.twimg.com/profile_banners/3097897493/1427070598', u'profile_background_image_url': u'http://abs.twimg.com/images/themes/theme1/bg.png', u'name': u'Mala Chloe', u'lang': u'en', u'profile_background_tile': False, u'favourites_count': 1, u'screen_name': u'chloe_mala', u'notifications': False, u'url': None, u'created_at': u'Thu Mar 19 22:51:59 +0000 2015', u'contributors_enabled': False, u'time_zone': None, u'protected': False, u'default_profile': True, u'is_translator': False}, u'geo': None, u'in_reply_to_user_id_str': None, u'possibly_sensitive': False, u'lang': u'en', u'created_at': u'Mon Mar 23 18:33:52 +0000 2015', u'in_reply_to_status_id_str': None, u'place': None, u'extended_entities': {u'media': [{u'expanded_url': u'http://twitter.com/chloe_mala/status/580075000683724800/photo/1', u'display_url': u'pic.twitter.com/h5QWkIbSab', u'url': u'http://t.co/h5QWkIbSab', u'media_url_https': u'https://pbs.twimg.com/media/CAzXIm2WUAAVPpj.jpg', u'id_str': u'580074994891378688', u'sizes': {u'small': {u'h': 604, u'resize': u'fit', u'w': 340}, u'large': {u'h': 1024, u'resize': u'fit', u'w': 576}, u'medium': {u'h': 1024, u'resize': u'fit', u'w': 576}, u'thumb': {u'h': 150, u'resize': u'crop', u'w': 150}}, u'indices': [86, 108], u'type': u'photo', u'id': 580074994891378688, u'media_url': u'http://pbs.twimg.com/media/CAzXIm2WUAAVPpj.jpg'}]}}, coordinates=None, entities={u'symbols': [], u'user_mentions': [], u'hashtags': [{u'indices': [75, 85], u'text': u'endosucks'}], u'urls': [], u'media': [{u'expanded_url': u'http://twitter.com/chloe_mala/status/580075000683724800/photo/1', u'display_url': u'pic.twitter.com/h5QWkIbSab', u'url': u'http://t.co/h5QWkIbSab', u'media_url_https': u'https://pbs.twimg.com/media/CAzXIm2WUAAVPpj.jpg', u'id_str': u'580074994891378688', u'sizes': {u'small': {u'h': 604, u'resize': u'fit', u'w': 340}, u'large': {u'h': 1024, u'resize': u'fit', u'w': 576}, u'medium': {u'h': 1024, u'resize': u'fit', u'w': 576}, u'thumb': {u'h': 150, u'resize': u'crop', u'w': 150}}, u'indices': [86, 108], u'type': u'photo', u'id': 580074994891378688, u'media_url': u'http://pbs.twimg.com/media/CAzXIm2WUAAVPpj.jpg'}]}, in_reply_to_screen_name=None, id_str=u'580075000683724800', retweet_count=0, in_reply_to_user_id=None, favorited=False, source_url=u'http://twitter.com/download/android', user=User(follow_request_sent=False, profile_use_background_image=True, _json={u'follow_request_sent': False, u'profile_use_background_image': True, u'profile_text_color': u'333333', u'default_profile_image': False, u'id': 3097897493, u'profile_background_image_url_https': u'https://abs.twimg.com/images/themes/theme1/bg.png', u'verified': False, u'profile_location': None, u'profile_image_url_https': u'https://pbs.twimg.com/profile_images/578691022630309888/q1098UuJ_normal.jpeg', u'profile_sidebar_fill_color': u'DDEEF6', u'entities': {u'description': {u'urls': []}}, u'followers_count': 17, u'profile_sidebar_border_color': u'C0DEED', u'id_str': u'3097897493', u'profile_background_color': u'C0DEED', u'listed_count': 0, u'is_translation_enabled': False, u'utc_offset': None, u'statuses_count': 18, u'description': u\"insta: malahicks.mh .....my names Mala. I live in Scunthorpe. An 18yo girl who doesn't enjoy going out to drink. I'm an endometriosis warrior and proud of it!!!\", u'friends_count': 56, u'location': u'', u'profile_link_color': u'0084B4', u'profile_image_url': u'http://pbs.twimg.com/profile_images/578691022630309888/q1098UuJ_normal.jpeg', u'following': False, u'geo_enabled': False, u'profile_banner_url': u'https://pbs.twimg.com/profile_banners/3097897493/1427070598', u'profile_background_image_url': u'http://abs.twimg.com/images/themes/theme1/bg.png', u'name': u'Mala Chloe', u'lang': u'en', u'profile_background_tile': False, u'favourites_count': 1, u'screen_name': u'chloe_mala', u'notifications': False, u'url': None, u'created_at': u'Thu Mar 19 22:51:59 +0000 2015', u'contributors_enabled': False, u'time_zone': None, u'protected': False, u'default_profile': True, u'is_translator': False}, time_zone=None, id=3097897493, _api=<tweepy.api.API object at 0x10c070f90>, verified=False, profile_location=None, profile_image_url_https=u'https://pbs.twimg.com/profile_images/578691022630309888/q1098UuJ_normal.jpeg', profile_sidebar_fill_color=u'DDEEF6', is_translator=False, geo_enabled=False, entities={u'description': {u'urls': []}}, followers_count=17, protected=False, id_str=u'3097897493', default_profile_image=False, listed_count=0, lang=u'en', utc_offset=None, statuses_count=18, description=u\"insta: malahicks.mh .....my names Mala. I live in Scunthorpe. An 18yo girl who doesn't enjoy going out to drink. I'm an endometriosis warrior and proud of it!!!\", friends_count=56, profile_link_color=u'0084B4', profile_image_url=u'http://pbs.twimg.com/profile_images/578691022630309888/q1098UuJ_normal.jpeg', notifications=False, favourites_count=1, profile_background_image_url_https=u'https://abs.twimg.com/images/themes/theme1/bg.png', profile_background_color=u'C0DEED', profile_banner_url=u'https://pbs.twimg.com/profile_banners/3097897493/1427070598', profile_background_image_url=u'http://abs.twimg.com/images/themes/theme1/bg.png', screen_name=u'chloe_mala', is_translation_enabled=False, profile_background_tile=False, profile_text_color=u'333333', name=u'Mala Chloe', url=None, created_at=datetime.datetime(2015, 3, 19, 22, 51, 59), contributors_enabled=False, location=u'', profile_sidebar_border_color=u'C0DEED', default_profile=True, following=False), geo=None, in_reply_to_user_id_str=None, possibly_sensitive=False, lang=u'en', created_at=datetime.datetime(2015, 3, 23, 18, 33, 52), in_reply_to_status_id_str=None, place=None, source=u'Twitter for Android', extended_entities={u'media': [{u'expanded_url': u'http://twitter.com/chloe_mala/status/580075000683724800/photo/1', u'display_url': u'pic.twitter.com/h5QWkIbSab', u'url': u'http://t.co/h5QWkIbSab', u'media_url_https': u'https://pbs.twimg.com/media/CAzXIm2WUAAVPpj.jpg', u'id_str': u'580074994891378688', u'sizes': {u'small': {u'h': 604, u'resize': u'fit', u'w': 340}, u'large': {u'h': 1024, u'resize': u'fit', u'w': 576}, u'medium': {u'h': 1024, u'resize': u'fit', u'w': 576}, u'thumb': {u'h': 150, u'resize': u'crop', u'w': 150}}, u'indices': [86, 108], u'type': u'photo', u'id': 580074994891378688, u'media_url': u'http://pbs.twimg.com/media/CAzXIm2WUAAVPpj.jpg'}]}, retweeted=False),\n",
       " Status(contributors=None, truncated=False, text=u'Stuck in bed for the day because of endo pain so Netflix it is... 22 Jump Street I think x', in_reply_to_status_id=None, id=579961217835528192, favorite_count=0, _api=<tweepy.api.API object at 0x10c070f90>, author=User(follow_request_sent=False, profile_use_background_image=True, _json={u'follow_request_sent': False, u'profile_use_background_image': True, u'profile_text_color': u'333333', u'default_profile_image': False, u'id': 3097897493, u'profile_background_image_url_https': u'https://abs.twimg.com/images/themes/theme1/bg.png', u'verified': False, u'profile_location': None, u'profile_image_url_https': u'https://pbs.twimg.com/profile_images/578691022630309888/q1098UuJ_normal.jpeg', u'profile_sidebar_fill_color': u'DDEEF6', u'entities': {u'description': {u'urls': []}}, u'followers_count': 17, u'profile_sidebar_border_color': u'C0DEED', u'id_str': u'3097897493', u'profile_background_color': u'C0DEED', u'listed_count': 0, u'is_translation_enabled': False, u'utc_offset': None, u'statuses_count': 18, u'description': u\"insta: malahicks.mh .....my names Mala. I live in Scunthorpe. An 18yo girl who doesn't enjoy going out to drink. I'm an endometriosis warrior and proud of it!!!\", u'friends_count': 56, u'location': u'', u'profile_link_color': u'0084B4', u'profile_image_url': u'http://pbs.twimg.com/profile_images/578691022630309888/q1098UuJ_normal.jpeg', u'following': False, u'geo_enabled': False, u'profile_banner_url': u'https://pbs.twimg.com/profile_banners/3097897493/1427070598', u'profile_background_image_url': u'http://abs.twimg.com/images/themes/theme1/bg.png', u'name': u'Mala Chloe', u'lang': u'en', u'profile_background_tile': False, u'favourites_count': 1, u'screen_name': u'chloe_mala', u'notifications': False, u'url': None, u'created_at': u'Thu Mar 19 22:51:59 +0000 2015', u'contributors_enabled': False, u'time_zone': None, u'protected': False, u'default_profile': True, u'is_translator': False}, time_zone=None, id=3097897493, _api=<tweepy.api.API object at 0x10c070f90>, verified=False, profile_location=None, profile_image_url_https=u'https://pbs.twimg.com/profile_images/578691022630309888/q1098UuJ_normal.jpeg', profile_sidebar_fill_color=u'DDEEF6', is_translator=False, geo_enabled=False, entities={u'description': {u'urls': []}}, followers_count=17, protected=False, id_str=u'3097897493', default_profile_image=False, listed_count=0, lang=u'en', utc_offset=None, statuses_count=18, description=u\"insta: malahicks.mh .....my names Mala. I live in Scunthorpe. An 18yo girl who doesn't enjoy going out to drink. I'm an endometriosis warrior and proud of it!!!\", friends_count=56, profile_link_color=u'0084B4', profile_image_url=u'http://pbs.twimg.com/profile_images/578691022630309888/q1098UuJ_normal.jpeg', notifications=False, favourites_count=1, profile_background_image_url_https=u'https://abs.twimg.com/images/themes/theme1/bg.png', profile_background_color=u'C0DEED', profile_banner_url=u'https://pbs.twimg.com/profile_banners/3097897493/1427070598', profile_background_image_url=u'http://abs.twimg.com/images/themes/theme1/bg.png', screen_name=u'chloe_mala', is_translation_enabled=False, profile_background_tile=False, profile_text_color=u'333333', name=u'Mala Chloe', url=None, created_at=datetime.datetime(2015, 3, 19, 22, 51, 59), contributors_enabled=False, location=u'', profile_sidebar_border_color=u'C0DEED', default_profile=True, following=False), _json={u'contributors': None, u'truncated': False, u'text': u'Stuck in bed for the day because of endo pain so Netflix it is... 22 Jump Street I think x', u'in_reply_to_status_id': None, u'id': 579961217835528192, u'favorite_count': 0, u'source': u'<a href=\"http://twitter.com/download/android\" rel=\"nofollow\">Twitter for Android</a>', u'retweeted': False, u'coordinates': None, u'entities': {u'symbols': [], u'user_mentions': [], u'hashtags': [], u'urls': []}, u'in_reply_to_screen_name': None, u'id_str': u'579961217835528192', u'retweet_count': 0, u'in_reply_to_user_id': None, u'favorited': False, u'user': {u'follow_request_sent': False, u'profile_use_background_image': True, u'profile_text_color': u'333333', u'default_profile_image': False, u'id': 3097897493, u'profile_background_image_url_https': u'https://abs.twimg.com/images/themes/theme1/bg.png', u'verified': False, u'profile_location': None, u'profile_image_url_https': u'https://pbs.twimg.com/profile_images/578691022630309888/q1098UuJ_normal.jpeg', u'profile_sidebar_fill_color': u'DDEEF6', u'entities': {u'description': {u'urls': []}}, u'followers_count': 17, u'profile_sidebar_border_color': u'C0DEED', u'id_str': u'3097897493', u'profile_background_color': u'C0DEED', u'listed_count': 0, u'is_translation_enabled': False, u'utc_offset': None, u'statuses_count': 18, u'description': u\"insta: malahicks.mh .....my names Mala. I live in Scunthorpe. An 18yo girl who doesn't enjoy going out to drink. I'm an endometriosis warrior and proud of it!!!\", u'friends_count': 56, u'location': u'', u'profile_link_color': u'0084B4', u'profile_image_url': u'http://pbs.twimg.com/profile_images/578691022630309888/q1098UuJ_normal.jpeg', u'following': False, u'geo_enabled': False, u'profile_banner_url': u'https://pbs.twimg.com/profile_banners/3097897493/1427070598', u'profile_background_image_url': u'http://abs.twimg.com/images/themes/theme1/bg.png', u'name': u'Mala Chloe', u'lang': u'en', u'profile_background_tile': False, u'favourites_count': 1, u'screen_name': u'chloe_mala', u'notifications': False, u'url': None, u'created_at': u'Thu Mar 19 22:51:59 +0000 2015', u'contributors_enabled': False, u'time_zone': None, u'protected': False, u'default_profile': True, u'is_translator': False}, u'geo': None, u'in_reply_to_user_id_str': None, u'lang': u'en', u'created_at': u'Mon Mar 23 11:01:44 +0000 2015', u'in_reply_to_status_id_str': None, u'place': None}, coordinates=None, entities={u'symbols': [], u'user_mentions': [], u'hashtags': [], u'urls': []}, in_reply_to_screen_name=None, id_str=u'579961217835528192', retweet_count=0, in_reply_to_user_id=None, favorited=False, source_url=u'http://twitter.com/download/android', user=User(follow_request_sent=False, profile_use_background_image=True, _json={u'follow_request_sent': False, u'profile_use_background_image': True, u'profile_text_color': u'333333', u'default_profile_image': False, u'id': 3097897493, u'profile_background_image_url_https': u'https://abs.twimg.com/images/themes/theme1/bg.png', u'verified': False, u'profile_location': None, u'profile_image_url_https': u'https://pbs.twimg.com/profile_images/578691022630309888/q1098UuJ_normal.jpeg', u'profile_sidebar_fill_color': u'DDEEF6', u'entities': {u'description': {u'urls': []}}, u'followers_count': 17, u'profile_sidebar_border_color': u'C0DEED', u'id_str': u'3097897493', u'profile_background_color': u'C0DEED', u'listed_count': 0, u'is_translation_enabled': False, u'utc_offset': None, u'statuses_count': 18, u'description': u\"insta: malahicks.mh .....my names Mala. I live in Scunthorpe. An 18yo girl who doesn't enjoy going out to drink. I'm an endometriosis warrior and proud of it!!!\", u'friends_count': 56, u'location': u'', u'profile_link_color': u'0084B4', u'profile_image_url': u'http://pbs.twimg.com/profile_images/578691022630309888/q1098UuJ_normal.jpeg', u'following': False, u'geo_enabled': False, u'profile_banner_url': u'https://pbs.twimg.com/profile_banners/3097897493/1427070598', u'profile_background_image_url': u'http://abs.twimg.com/images/themes/theme1/bg.png', u'name': u'Mala Chloe', u'lang': u'en', u'profile_background_tile': False, u'favourites_count': 1, u'screen_name': u'chloe_mala', u'notifications': False, u'url': None, u'created_at': u'Thu Mar 19 22:51:59 +0000 2015', u'contributors_enabled': False, u'time_zone': None, u'protected': False, u'default_profile': True, u'is_translator': False}, time_zone=None, id=3097897493, _api=<tweepy.api.API object at 0x10c070f90>, verified=False, profile_location=None, profile_image_url_https=u'https://pbs.twimg.com/profile_images/578691022630309888/q1098UuJ_normal.jpeg', profile_sidebar_fill_color=u'DDEEF6', is_translator=False, geo_enabled=False, entities={u'description': {u'urls': []}}, followers_count=17, protected=False, id_str=u'3097897493', default_profile_image=False, listed_count=0, lang=u'en', utc_offset=None, statuses_count=18, description=u\"insta: malahicks.mh .....my names Mala. I live in Scunthorpe. An 18yo girl who doesn't enjoy going out to drink. I'm an endometriosis warrior and proud of it!!!\", friends_count=56, profile_link_color=u'0084B4', profile_image_url=u'http://pbs.twimg.com/profile_images/578691022630309888/q1098UuJ_normal.jpeg', notifications=False, favourites_count=1, profile_background_image_url_https=u'https://abs.twimg.com/images/themes/theme1/bg.png', profile_background_color=u'C0DEED', profile_banner_url=u'https://pbs.twimg.com/profile_banners/3097897493/1427070598', profile_background_image_url=u'http://abs.twimg.com/images/themes/theme1/bg.png', screen_name=u'chloe_mala', is_translation_enabled=False, profile_background_tile=False, profile_text_color=u'333333', name=u'Mala Chloe', url=None, created_at=datetime.datetime(2015, 3, 19, 22, 51, 59), contributors_enabled=False, location=u'', profile_sidebar_border_color=u'C0DEED', default_profile=True, following=False), geo=None, in_reply_to_user_id_str=None, lang=u'en', created_at=datetime.datetime(2015, 3, 23, 11, 1, 44), in_reply_to_status_id_str=None, place=None, source=u'Twitter for Android', retweeted=False),\n",
       " Status(contributors=None, truncated=False, text=u'One of my new tops arrived today and I love it so much #dinosaur #trex http://t.co/e6X9WbSPXQ', in_reply_to_status_id=None, id=579951376781996033, favorite_count=0, _api=<tweepy.api.API object at 0x10c070f90>, author=User(follow_request_sent=False, profile_use_background_image=True, _json={u'follow_request_sent': False, u'profile_use_background_image': True, u'profile_text_color': u'333333', u'default_profile_image': False, u'id': 3097897493, u'profile_background_image_url_https': u'https://abs.twimg.com/images/themes/theme1/bg.png', u'verified': False, u'profile_location': None, u'profile_image_url_https': u'https://pbs.twimg.com/profile_images/578691022630309888/q1098UuJ_normal.jpeg', u'profile_sidebar_fill_color': u'DDEEF6', u'entities': {u'description': {u'urls': []}}, u'followers_count': 17, u'profile_sidebar_border_color': u'C0DEED', u'id_str': u'3097897493', u'profile_background_color': u'C0DEED', u'listed_count': 0, u'is_translation_enabled': False, u'utc_offset': None, u'statuses_count': 18, u'description': u\"insta: malahicks.mh .....my names Mala. I live in Scunthorpe. An 18yo girl who doesn't enjoy going out to drink. I'm an endometriosis warrior and proud of it!!!\", u'friends_count': 56, u'location': u'', u'profile_link_color': u'0084B4', u'profile_image_url': u'http://pbs.twimg.com/profile_images/578691022630309888/q1098UuJ_normal.jpeg', u'following': False, u'geo_enabled': False, u'profile_banner_url': u'https://pbs.twimg.com/profile_banners/3097897493/1427070598', u'profile_background_image_url': u'http://abs.twimg.com/images/themes/theme1/bg.png', u'name': u'Mala Chloe', u'lang': u'en', u'profile_background_tile': False, u'favourites_count': 1, u'screen_name': u'chloe_mala', u'notifications': False, u'url': None, u'created_at': u'Thu Mar 19 22:51:59 +0000 2015', u'contributors_enabled': False, u'time_zone': None, u'protected': False, u'default_profile': True, u'is_translator': False}, time_zone=None, id=3097897493, _api=<tweepy.api.API object at 0x10c070f90>, verified=False, profile_location=None, profile_image_url_https=u'https://pbs.twimg.com/profile_images/578691022630309888/q1098UuJ_normal.jpeg', profile_sidebar_fill_color=u'DDEEF6', is_translator=False, geo_enabled=False, entities={u'description': {u'urls': []}}, followers_count=17, protected=False, id_str=u'3097897493', default_profile_image=False, listed_count=0, lang=u'en', utc_offset=None, statuses_count=18, description=u\"insta: malahicks.mh .....my names Mala. I live in Scunthorpe. An 18yo girl who doesn't enjoy going out to drink. I'm an endometriosis warrior and proud of it!!!\", friends_count=56, profile_link_color=u'0084B4', profile_image_url=u'http://pbs.twimg.com/profile_images/578691022630309888/q1098UuJ_normal.jpeg', notifications=False, favourites_count=1, profile_background_image_url_https=u'https://abs.twimg.com/images/themes/theme1/bg.png', profile_background_color=u'C0DEED', profile_banner_url=u'https://pbs.twimg.com/profile_banners/3097897493/1427070598', profile_background_image_url=u'http://abs.twimg.com/images/themes/theme1/bg.png', screen_name=u'chloe_mala', is_translation_enabled=False, profile_background_tile=False, profile_text_color=u'333333', name=u'Mala Chloe', url=None, created_at=datetime.datetime(2015, 3, 19, 22, 51, 59), contributors_enabled=False, location=u'', profile_sidebar_border_color=u'C0DEED', default_profile=True, following=False), _json={u'contributors': None, u'truncated': False, u'text': u'One of my new tops arrived today and I love it so much #dinosaur #trex http://t.co/e6X9WbSPXQ', u'in_reply_to_status_id': None, u'id': 579951376781996033, u'favorite_count': 0, u'source': u'<a href=\"http://twitter.com/download/android\" rel=\"nofollow\">Twitter for Android</a>', u'retweeted': False, u'coordinates': None, u'entities': {u'symbols': [], u'user_mentions': [], u'hashtags': [{u'indices': [55, 64], u'text': u'dinosaur'}, {u'indices': [65, 70], u'text': u'trex'}], u'urls': [], u'media': [{u'expanded_url': u'http://twitter.com/chloe_mala/status/579951376781996033/photo/1', u'display_url': u'pic.twitter.com/e6X9WbSPXQ', u'url': u'http://t.co/e6X9WbSPXQ', u'media_url_https': u'https://pbs.twimg.com/media/CAxmsuaXEAAvWdd.jpg', u'id_str': u'579951370582822912', u'sizes': {u'small': {u'h': 604, u'resize': u'fit', u'w': 340}, u'large': {u'h': 1024, u'resize': u'fit', u'w': 576}, u'medium': {u'h': 1024, u'resize': u'fit', u'w': 576}, u'thumb': {u'h': 150, u'resize': u'crop', u'w': 150}}, u'indices': [71, 93], u'type': u'photo', u'id': 579951370582822912, u'media_url': u'http://pbs.twimg.com/media/CAxmsuaXEAAvWdd.jpg'}]}, u'in_reply_to_screen_name': None, u'id_str': u'579951376781996033', u'retweet_count': 0, u'in_reply_to_user_id': None, u'favorited': False, u'user': {u'follow_request_sent': False, u'profile_use_background_image': True, u'profile_text_color': u'333333', u'default_profile_image': False, u'id': 3097897493, u'profile_background_image_url_https': u'https://abs.twimg.com/images/themes/theme1/bg.png', u'verified': False, u'profile_location': None, u'profile_image_url_https': u'https://pbs.twimg.com/profile_images/578691022630309888/q1098UuJ_normal.jpeg', u'profile_sidebar_fill_color': u'DDEEF6', u'entities': {u'description': {u'urls': []}}, u'followers_count': 17, u'profile_sidebar_border_color': u'C0DEED', u'id_str': u'3097897493', u'profile_background_color': u'C0DEED', u'listed_count': 0, u'is_translation_enabled': False, u'utc_offset': None, u'statuses_count': 18, u'description': u\"insta: malahicks.mh .....my names Mala. I live in Scunthorpe. An 18yo girl who doesn't enjoy going out to drink. I'm an endometriosis warrior and proud of it!!!\", u'friends_count': 56, u'location': u'', u'profile_link_color': u'0084B4', u'profile_image_url': u'http://pbs.twimg.com/profile_images/578691022630309888/q1098UuJ_normal.jpeg', u'following': False, u'geo_enabled': False, u'profile_banner_url': u'https://pbs.twimg.com/profile_banners/3097897493/1427070598', u'profile_background_image_url': u'http://abs.twimg.com/images/themes/theme1/bg.png', u'name': u'Mala Chloe', u'lang': u'en', u'profile_background_tile': False, u'favourites_count': 1, u'screen_name': u'chloe_mala', u'notifications': False, u'url': None, u'created_at': u'Thu Mar 19 22:51:59 +0000 2015', u'contributors_enabled': False, u'time_zone': None, u'protected': False, u'default_profile': True, u'is_translator': False}, u'geo': None, u'in_reply_to_user_id_str': None, u'possibly_sensitive': False, u'lang': u'en', u'created_at': u'Mon Mar 23 10:22:37 +0000 2015', u'in_reply_to_status_id_str': None, u'place': None, u'extended_entities': {u'media': [{u'expanded_url': u'http://twitter.com/chloe_mala/status/579951376781996033/photo/1', u'display_url': u'pic.twitter.com/e6X9WbSPXQ', u'url': u'http://t.co/e6X9WbSPXQ', u'media_url_https': u'https://pbs.twimg.com/media/CAxmsuaXEAAvWdd.jpg', u'id_str': u'579951370582822912', u'sizes': {u'small': {u'h': 604, u'resize': u'fit', u'w': 340}, u'large': {u'h': 1024, u'resize': u'fit', u'w': 576}, u'medium': {u'h': 1024, u'resize': u'fit', u'w': 576}, u'thumb': {u'h': 150, u'resize': u'crop', u'w': 150}}, u'indices': [71, 93], u'type': u'photo', u'id': 579951370582822912, u'media_url': u'http://pbs.twimg.com/media/CAxmsuaXEAAvWdd.jpg'}]}}, coordinates=None, entities={u'symbols': [], u'user_mentions': [], u'hashtags': [{u'indices': [55, 64], u'text': u'dinosaur'}, {u'indices': [65, 70], u'text': u'trex'}], u'urls': [], u'media': [{u'expanded_url': u'http://twitter.com/chloe_mala/status/579951376781996033/photo/1', u'display_url': u'pic.twitter.com/e6X9WbSPXQ', u'url': u'http://t.co/e6X9WbSPXQ', u'media_url_https': u'https://pbs.twimg.com/media/CAxmsuaXEAAvWdd.jpg', u'id_str': u'579951370582822912', u'sizes': {u'small': {u'h': 604, u'resize': u'fit', u'w': 340}, u'large': {u'h': 1024, u'resize': u'fit', u'w': 576}, u'medium': {u'h': 1024, u'resize': u'fit', u'w': 576}, u'thumb': {u'h': 150, u'resize': u'crop', u'w': 150}}, u'indices': [71, 93], u'type': u'photo', u'id': 579951370582822912, u'media_url': u'http://pbs.twimg.com/media/CAxmsuaXEAAvWdd.jpg'}]}, in_reply_to_screen_name=None, id_str=u'579951376781996033', retweet_count=0, in_reply_to_user_id=None, favorited=False, source_url=u'http://twitter.com/download/android', user=User(follow_request_sent=False, profile_use_background_image=True, _json={u'follow_request_sent': False, u'profile_use_background_image': True, u'profile_text_color': u'333333', u'default_profile_image': False, u'id': 3097897493, u'profile_background_image_url_https': u'https://abs.twimg.com/images/themes/theme1/bg.png', u'verified': False, u'profile_location': None, u'profile_image_url_https': u'https://pbs.twimg.com/profile_images/578691022630309888/q1098UuJ_normal.jpeg', u'profile_sidebar_fill_color': u'DDEEF6', u'entities': {u'description': {u'urls': []}}, u'followers_count': 17, u'profile_sidebar_border_color': u'C0DEED', u'id_str': u'3097897493', u'profile_background_color': u'C0DEED', u'listed_count': 0, u'is_translation_enabled': False, u'utc_offset': None, u'statuses_count': 18, u'description': u\"insta: malahicks.mh .....my names Mala. I live in Scunthorpe. An 18yo girl who doesn't enjoy going out to drink. I'm an endometriosis warrior and proud of it!!!\", u'friends_count': 56, u'location': u'', u'profile_link_color': u'0084B4', u'profile_image_url': u'http://pbs.twimg.com/profile_images/578691022630309888/q1098UuJ_normal.jpeg', u'following': False, u'geo_enabled': False, u'profile_banner_url': u'https://pbs.twimg.com/profile_banners/3097897493/1427070598', u'profile_background_image_url': u'http://abs.twimg.com/images/themes/theme1/bg.png', u'name': u'Mala Chloe', u'lang': u'en', u'profile_background_tile': False, u'favourites_count': 1, u'screen_name': u'chloe_mala', u'notifications': False, u'url': None, u'created_at': u'Thu Mar 19 22:51:59 +0000 2015', u'contributors_enabled': False, u'time_zone': None, u'protected': False, u'default_profile': True, u'is_translator': False}, time_zone=None, id=3097897493, _api=<tweepy.api.API object at 0x10c070f90>, verified=False, profile_location=None, profile_image_url_https=u'https://pbs.twimg.com/profile_images/578691022630309888/q1098UuJ_normal.jpeg', profile_sidebar_fill_color=u'DDEEF6', is_translator=False, geo_enabled=False, entities={u'description': {u'urls': []}}, followers_count=17, protected=False, id_str=u'3097897493', default_profile_image=False, listed_count=0, lang=u'en', utc_offset=None, statuses_count=18, description=u\"insta: malahicks.mh .....my names Mala. I live in Scunthorpe. An 18yo girl who doesn't enjoy going out to drink. I'm an endometriosis warrior and proud of it!!!\", friends_count=56, profile_link_color=u'0084B4', profile_image_url=u'http://pbs.twimg.com/profile_images/578691022630309888/q1098UuJ_normal.jpeg', notifications=False, favourites_count=1, profile_background_image_url_https=u'https://abs.twimg.com/images/themes/theme1/bg.png', profile_background_color=u'C0DEED', profile_banner_url=u'https://pbs.twimg.com/profile_banners/3097897493/1427070598', profile_background_image_url=u'http://abs.twimg.com/images/themes/theme1/bg.png', screen_name=u'chloe_mala', is_translation_enabled=False, profile_background_tile=False, profile_text_color=u'333333', name=u'Mala Chloe', url=None, created_at=datetime.datetime(2015, 3, 19, 22, 51, 59), contributors_enabled=False, location=u'', profile_sidebar_border_color=u'C0DEED', default_profile=True, following=False), geo=None, in_reply_to_user_id_str=None, possibly_sensitive=False, lang=u'en', created_at=datetime.datetime(2015, 3, 23, 10, 22, 37), in_reply_to_status_id_str=None, place=None, source=u'Twitter for Android', extended_entities={u'media': [{u'expanded_url': u'http://twitter.com/chloe_mala/status/579951376781996033/photo/1', u'display_url': u'pic.twitter.com/e6X9WbSPXQ', u'url': u'http://t.co/e6X9WbSPXQ', u'media_url_https': u'https://pbs.twimg.com/media/CAxmsuaXEAAvWdd.jpg', u'id_str': u'579951370582822912', u'sizes': {u'small': {u'h': 604, u'resize': u'fit', u'w': 340}, u'large': {u'h': 1024, u'resize': u'fit', u'w': 576}, u'medium': {u'h': 1024, u'resize': u'fit', u'w': 576}, u'thumb': {u'h': 150, u'resize': u'crop', u'w': 150}}, u'indices': [71, 93], u'type': u'photo', u'id': 579951370582822912, u'media_url': u'http://pbs.twimg.com/media/CAxmsuaXEAAvWdd.jpg'}]}, retweeted=False),\n",
       " Status(contributors=None, truncated=False, text=u\"I knew I did too much this weekend and now I'm going to spend the next few days suffering :(\", in_reply_to_status_id=None, id=579925342594445312, favorite_count=0, _api=<tweepy.api.API object at 0x10c070f90>, author=User(follow_request_sent=False, profile_use_background_image=True, _json={u'follow_request_sent': False, u'profile_use_background_image': True, u'profile_text_color': u'333333', u'default_profile_image': False, u'id': 3097897493, u'profile_background_image_url_https': u'https://abs.twimg.com/images/themes/theme1/bg.png', u'verified': False, u'profile_location': None, u'profile_image_url_https': u'https://pbs.twimg.com/profile_images/578691022630309888/q1098UuJ_normal.jpeg', u'profile_sidebar_fill_color': u'DDEEF6', u'entities': {u'description': {u'urls': []}}, u'followers_count': 17, u'profile_sidebar_border_color': u'C0DEED', u'id_str': u'3097897493', u'profile_background_color': u'C0DEED', u'listed_count': 0, u'is_translation_enabled': False, u'utc_offset': None, u'statuses_count': 18, u'description': u\"insta: malahicks.mh .....my names Mala. I live in Scunthorpe. An 18yo girl who doesn't enjoy going out to drink. I'm an endometriosis warrior and proud of it!!!\", u'friends_count': 56, u'location': u'', u'profile_link_color': u'0084B4', u'profile_image_url': u'http://pbs.twimg.com/profile_images/578691022630309888/q1098UuJ_normal.jpeg', u'following': False, u'geo_enabled': False, u'profile_banner_url': u'https://pbs.twimg.com/profile_banners/3097897493/1427070598', u'profile_background_image_url': u'http://abs.twimg.com/images/themes/theme1/bg.png', u'name': u'Mala Chloe', u'lang': u'en', u'profile_background_tile': False, u'favourites_count': 1, u'screen_name': u'chloe_mala', u'notifications': False, u'url': None, u'created_at': u'Thu Mar 19 22:51:59 +0000 2015', u'contributors_enabled': False, u'time_zone': None, u'protected': False, u'default_profile': True, u'is_translator': False}, time_zone=None, id=3097897493, _api=<tweepy.api.API object at 0x10c070f90>, verified=False, profile_location=None, profile_image_url_https=u'https://pbs.twimg.com/profile_images/578691022630309888/q1098UuJ_normal.jpeg', profile_sidebar_fill_color=u'DDEEF6', is_translator=False, geo_enabled=False, entities={u'description': {u'urls': []}}, followers_count=17, protected=False, id_str=u'3097897493', default_profile_image=False, listed_count=0, lang=u'en', utc_offset=None, statuses_count=18, description=u\"insta: malahicks.mh .....my names Mala. I live in Scunthorpe. An 18yo girl who doesn't enjoy going out to drink. I'm an endometriosis warrior and proud of it!!!\", friends_count=56, profile_link_color=u'0084B4', profile_image_url=u'http://pbs.twimg.com/profile_images/578691022630309888/q1098UuJ_normal.jpeg', notifications=False, favourites_count=1, profile_background_image_url_https=u'https://abs.twimg.com/images/themes/theme1/bg.png', profile_background_color=u'C0DEED', profile_banner_url=u'https://pbs.twimg.com/profile_banners/3097897493/1427070598', profile_background_image_url=u'http://abs.twimg.com/images/themes/theme1/bg.png', screen_name=u'chloe_mala', is_translation_enabled=False, profile_background_tile=False, profile_text_color=u'333333', name=u'Mala Chloe', url=None, created_at=datetime.datetime(2015, 3, 19, 22, 51, 59), contributors_enabled=False, location=u'', profile_sidebar_border_color=u'C0DEED', default_profile=True, following=False), _json={u'contributors': None, u'truncated': False, u'text': u\"I knew I did too much this weekend and now I'm going to spend the next few days suffering :(\", u'in_reply_to_status_id': None, u'id': 579925342594445312, u'favorite_count': 0, u'source': u'<a href=\"http://twitter.com/#!/download/ipad\" rel=\"nofollow\">Twitter for iPad</a>', u'retweeted': False, u'coordinates': None, u'entities': {u'symbols': [], u'user_mentions': [], u'hashtags': [], u'urls': []}, u'in_reply_to_screen_name': None, u'id_str': u'579925342594445312', u'retweet_count': 0, u'in_reply_to_user_id': None, u'favorited': False, u'user': {u'follow_request_sent': False, u'profile_use_background_image': True, u'profile_text_color': u'333333', u'default_profile_image': False, u'id': 3097897493, u'profile_background_image_url_https': u'https://abs.twimg.com/images/themes/theme1/bg.png', u'verified': False, u'profile_location': None, u'profile_image_url_https': u'https://pbs.twimg.com/profile_images/578691022630309888/q1098UuJ_normal.jpeg', u'profile_sidebar_fill_color': u'DDEEF6', u'entities': {u'description': {u'urls': []}}, u'followers_count': 17, u'profile_sidebar_border_color': u'C0DEED', u'id_str': u'3097897493', u'profile_background_color': u'C0DEED', u'listed_count': 0, u'is_translation_enabled': False, u'utc_offset': None, u'statuses_count': 18, u'description': u\"insta: malahicks.mh .....my names Mala. I live in Scunthorpe. An 18yo girl who doesn't enjoy going out to drink. I'm an endometriosis warrior and proud of it!!!\", u'friends_count': 56, u'location': u'', u'profile_link_color': u'0084B4', u'profile_image_url': u'http://pbs.twimg.com/profile_images/578691022630309888/q1098UuJ_normal.jpeg', u'following': False, u'geo_enabled': False, u'profile_banner_url': u'https://pbs.twimg.com/profile_banners/3097897493/1427070598', u'profile_background_image_url': u'http://abs.twimg.com/images/themes/theme1/bg.png', u'name': u'Mala Chloe', u'lang': u'en', u'profile_background_tile': False, u'favourites_count': 1, u'screen_name': u'chloe_mala', u'notifications': False, u'url': None, u'created_at': u'Thu Mar 19 22:51:59 +0000 2015', u'contributors_enabled': False, u'time_zone': None, u'protected': False, u'default_profile': True, u'is_translator': False}, u'geo': None, u'in_reply_to_user_id_str': None, u'lang': u'en', u'created_at': u'Mon Mar 23 08:39:10 +0000 2015', u'in_reply_to_status_id_str': None, u'place': None}, coordinates=None, entities={u'symbols': [], u'user_mentions': [], u'hashtags': [], u'urls': []}, in_reply_to_screen_name=None, id_str=u'579925342594445312', retweet_count=0, in_reply_to_user_id=None, favorited=False, source_url=u'http://twitter.com/#!/download/ipad', user=User(follow_request_sent=False, profile_use_background_image=True, _json={u'follow_request_sent': False, u'profile_use_background_image': True, u'profile_text_color': u'333333', u'default_profile_image': False, u'id': 3097897493, u'profile_background_image_url_https': u'https://abs.twimg.com/images/themes/theme1/bg.png', u'verified': False, u'profile_location': None, u'profile_image_url_https': u'https://pbs.twimg.com/profile_images/578691022630309888/q1098UuJ_normal.jpeg', u'profile_sidebar_fill_color': u'DDEEF6', u'entities': {u'description': {u'urls': []}}, u'followers_count': 17, u'profile_sidebar_border_color': u'C0DEED', u'id_str': u'3097897493', u'profile_background_color': u'C0DEED', u'listed_count': 0, u'is_translation_enabled': False, u'utc_offset': None, u'statuses_count': 18, u'description': u\"insta: malahicks.mh .....my names Mala. I live in Scunthorpe. An 18yo girl who doesn't enjoy going out to drink. I'm an endometriosis warrior and proud of it!!!\", u'friends_count': 56, u'location': u'', u'profile_link_color': u'0084B4', u'profile_image_url': u'http://pbs.twimg.com/profile_images/578691022630309888/q1098UuJ_normal.jpeg', u'following': False, u'geo_enabled': False, u'profile_banner_url': u'https://pbs.twimg.com/profile_banners/3097897493/1427070598', u'profile_background_image_url': u'http://abs.twimg.com/images/themes/theme1/bg.png', u'name': u'Mala Chloe', u'lang': u'en', u'profile_background_tile': False, u'favourites_count': 1, u'screen_name': u'chloe_mala', u'notifications': False, u'url': None, u'created_at': u'Thu Mar 19 22:51:59 +0000 2015', u'contributors_enabled': False, u'time_zone': None, u'protected': False, u'default_profile': True, u'is_translator': False}, time_zone=None, id=3097897493, _api=<tweepy.api.API object at 0x10c070f90>, verified=False, profile_location=None, profile_image_url_https=u'https://pbs.twimg.com/profile_images/578691022630309888/q1098UuJ_normal.jpeg', profile_sidebar_fill_color=u'DDEEF6', is_translator=False, geo_enabled=False, entities={u'description': {u'urls': []}}, followers_count=17, protected=False, id_str=u'3097897493', default_profile_image=False, listed_count=0, lang=u'en', utc_offset=None, statuses_count=18, description=u\"insta: malahicks.mh .....my names Mala. I live in Scunthorpe. An 18yo girl who doesn't enjoy going out to drink. I'm an endometriosis warrior and proud of it!!!\", friends_count=56, profile_link_color=u'0084B4', profile_image_url=u'http://pbs.twimg.com/profile_images/578691022630309888/q1098UuJ_normal.jpeg', notifications=False, favourites_count=1, profile_background_image_url_https=u'https://abs.twimg.com/images/themes/theme1/bg.png', profile_background_color=u'C0DEED', profile_banner_url=u'https://pbs.twimg.com/profile_banners/3097897493/1427070598', profile_background_image_url=u'http://abs.twimg.com/images/themes/theme1/bg.png', screen_name=u'chloe_mala', is_translation_enabled=False, profile_background_tile=False, profile_text_color=u'333333', name=u'Mala Chloe', url=None, created_at=datetime.datetime(2015, 3, 19, 22, 51, 59), contributors_enabled=False, location=u'', profile_sidebar_border_color=u'C0DEED', default_profile=True, following=False), geo=None, in_reply_to_user_id_str=None, lang=u'en', created_at=datetime.datetime(2015, 3, 23, 8, 39, 10), in_reply_to_status_id_str=None, place=None, source=u'Twitter for iPad', retweeted=False),\n",
       " Status(contributors=None, truncated=False, text=u'Gonna be a long night and suffer tomorrow because of it... movies or Spotify tonight... ooo decisions decisions', in_reply_to_status_id=None, id=579820576681926656, favorite_count=0, _api=<tweepy.api.API object at 0x10c070f90>, author=User(follow_request_sent=False, profile_use_background_image=True, _json={u'follow_request_sent': False, u'profile_use_background_image': True, u'profile_text_color': u'333333', u'default_profile_image': False, u'id': 3097897493, u'profile_background_image_url_https': u'https://abs.twimg.com/images/themes/theme1/bg.png', u'verified': False, u'profile_location': None, u'profile_image_url_https': u'https://pbs.twimg.com/profile_images/578691022630309888/q1098UuJ_normal.jpeg', u'profile_sidebar_fill_color': u'DDEEF6', u'entities': {u'description': {u'urls': []}}, u'followers_count': 17, u'profile_sidebar_border_color': u'C0DEED', u'id_str': u'3097897493', u'profile_background_color': u'C0DEED', u'listed_count': 0, u'is_translation_enabled': False, u'utc_offset': None, u'statuses_count': 18, u'description': u\"insta: malahicks.mh .....my names Mala. I live in Scunthorpe. An 18yo girl who doesn't enjoy going out to drink. I'm an endometriosis warrior and proud of it!!!\", u'friends_count': 56, u'location': u'', u'profile_link_color': u'0084B4', u'profile_image_url': u'http://pbs.twimg.com/profile_images/578691022630309888/q1098UuJ_normal.jpeg', u'following': False, u'geo_enabled': False, u'profile_banner_url': u'https://pbs.twimg.com/profile_banners/3097897493/1427070598', u'profile_background_image_url': u'http://abs.twimg.com/images/themes/theme1/bg.png', u'name': u'Mala Chloe', u'lang': u'en', u'profile_background_tile': False, u'favourites_count': 1, u'screen_name': u'chloe_mala', u'notifications': False, u'url': None, u'created_at': u'Thu Mar 19 22:51:59 +0000 2015', u'contributors_enabled': False, u'time_zone': None, u'protected': False, u'default_profile': True, u'is_translator': False}, time_zone=None, id=3097897493, _api=<tweepy.api.API object at 0x10c070f90>, verified=False, profile_location=None, profile_image_url_https=u'https://pbs.twimg.com/profile_images/578691022630309888/q1098UuJ_normal.jpeg', profile_sidebar_fill_color=u'DDEEF6', is_translator=False, geo_enabled=False, entities={u'description': {u'urls': []}}, followers_count=17, protected=False, id_str=u'3097897493', default_profile_image=False, listed_count=0, lang=u'en', utc_offset=None, statuses_count=18, description=u\"insta: malahicks.mh .....my names Mala. I live in Scunthorpe. An 18yo girl who doesn't enjoy going out to drink. I'm an endometriosis warrior and proud of it!!!\", friends_count=56, profile_link_color=u'0084B4', profile_image_url=u'http://pbs.twimg.com/profile_images/578691022630309888/q1098UuJ_normal.jpeg', notifications=False, favourites_count=1, profile_background_image_url_https=u'https://abs.twimg.com/images/themes/theme1/bg.png', profile_background_color=u'C0DEED', profile_banner_url=u'https://pbs.twimg.com/profile_banners/3097897493/1427070598', profile_background_image_url=u'http://abs.twimg.com/images/themes/theme1/bg.png', screen_name=u'chloe_mala', is_translation_enabled=False, profile_background_tile=False, profile_text_color=u'333333', name=u'Mala Chloe', url=None, created_at=datetime.datetime(2015, 3, 19, 22, 51, 59), contributors_enabled=False, location=u'', profile_sidebar_border_color=u'C0DEED', default_profile=True, following=False), _json={u'contributors': None, u'truncated': False, u'text': u'Gonna be a long night and suffer tomorrow because of it... movies or Spotify tonight... ooo decisions decisions', u'in_reply_to_status_id': None, u'id': 579820576681926656, u'favorite_count': 0, u'source': u'<a href=\"http://twitter.com/download/android\" rel=\"nofollow\">Twitter for Android</a>', u'retweeted': False, u'coordinates': None, u'entities': {u'symbols': [], u'user_mentions': [], u'hashtags': [], u'urls': []}, u'in_reply_to_screen_name': None, u'id_str': u'579820576681926656', u'retweet_count': 0, u'in_reply_to_user_id': None, u'favorited': False, u'user': {u'follow_request_sent': False, u'profile_use_background_image': True, u'profile_text_color': u'333333', u'default_profile_image': False, u'id': 3097897493, u'profile_background_image_url_https': u'https://abs.twimg.com/images/themes/theme1/bg.png', u'verified': False, u'profile_location': None, u'profile_image_url_https': u'https://pbs.twimg.com/profile_images/578691022630309888/q1098UuJ_normal.jpeg', u'profile_sidebar_fill_color': u'DDEEF6', u'entities': {u'description': {u'urls': []}}, u'followers_count': 17, u'profile_sidebar_border_color': u'C0DEED', u'id_str': u'3097897493', u'profile_background_color': u'C0DEED', u'listed_count': 0, u'is_translation_enabled': False, u'utc_offset': None, u'statuses_count': 18, u'description': u\"insta: malahicks.mh .....my names Mala. I live in Scunthorpe. An 18yo girl who doesn't enjoy going out to drink. I'm an endometriosis warrior and proud of it!!!\", u'friends_count': 56, u'location': u'', u'profile_link_color': u'0084B4', u'profile_image_url': u'http://pbs.twimg.com/profile_images/578691022630309888/q1098UuJ_normal.jpeg', u'following': False, u'geo_enabled': False, u'profile_banner_url': u'https://pbs.twimg.com/profile_banners/3097897493/1427070598', u'profile_background_image_url': u'http://abs.twimg.com/images/themes/theme1/bg.png', u'name': u'Mala Chloe', u'lang': u'en', u'profile_background_tile': False, u'favourites_count': 1, u'screen_name': u'chloe_mala', u'notifications': False, u'url': None, u'created_at': u'Thu Mar 19 22:51:59 +0000 2015', u'contributors_enabled': False, u'time_zone': None, u'protected': False, u'default_profile': True, u'is_translator': False}, u'geo': None, u'in_reply_to_user_id_str': None, u'lang': u'en', u'created_at': u'Mon Mar 23 01:42:52 +0000 2015', u'in_reply_to_status_id_str': None, u'place': None}, coordinates=None, entities={u'symbols': [], u'user_mentions': [], u'hashtags': [], u'urls': []}, in_reply_to_screen_name=None, id_str=u'579820576681926656', retweet_count=0, in_reply_to_user_id=None, favorited=False, source_url=u'http://twitter.com/download/android', user=User(follow_request_sent=False, profile_use_background_image=True, _json={u'follow_request_sent': False, u'profile_use_background_image': True, u'profile_text_color': u'333333', u'default_profile_image': False, u'id': 3097897493, u'profile_background_image_url_https': u'https://abs.twimg.com/images/themes/theme1/bg.png', u'verified': False, u'profile_location': None, u'profile_image_url_https': u'https://pbs.twimg.com/profile_images/578691022630309888/q1098UuJ_normal.jpeg', u'profile_sidebar_fill_color': u'DDEEF6', u'entities': {u'description': {u'urls': []}}, u'followers_count': 17, u'profile_sidebar_border_color': u'C0DEED', u'id_str': u'3097897493', u'profile_background_color': u'C0DEED', u'listed_count': 0, u'is_translation_enabled': False, u'utc_offset': None, u'statuses_count': 18, u'description': u\"insta: malahicks.mh .....my names Mala. I live in Scunthorpe. An 18yo girl who doesn't enjoy going out to drink. I'm an endometriosis warrior and proud of it!!!\", u'friends_count': 56, u'location': u'', u'profile_link_color': u'0084B4', u'profile_image_url': u'http://pbs.twimg.com/profile_images/578691022630309888/q1098UuJ_normal.jpeg', u'following': False, u'geo_enabled': False, u'profile_banner_url': u'https://pbs.twimg.com/profile_banners/3097897493/1427070598', u'profile_background_image_url': u'http://abs.twimg.com/images/themes/theme1/bg.png', u'name': u'Mala Chloe', u'lang': u'en', u'profile_background_tile': False, u'favourites_count': 1, u'screen_name': u'chloe_mala', u'notifications': False, u'url': None, u'created_at': u'Thu Mar 19 22:51:59 +0000 2015', u'contributors_enabled': False, u'time_zone': None, u'protected': False, u'default_profile': True, u'is_translator': False}, time_zone=None, id=3097897493, _api=<tweepy.api.API object at 0x10c070f90>, verified=False, profile_location=None, profile_image_url_https=u'https://pbs.twimg.com/profile_images/578691022630309888/q1098UuJ_normal.jpeg', profile_sidebar_fill_color=u'DDEEF6', is_translator=False, geo_enabled=False, entities={u'description': {u'urls': []}}, followers_count=17, protected=False, id_str=u'3097897493', default_profile_image=False, listed_count=0, lang=u'en', utc_offset=None, statuses_count=18, description=u\"insta: malahicks.mh .....my names Mala. I live in Scunthorpe. An 18yo girl who doesn't enjoy going out to drink. I'm an endometriosis warrior and proud of it!!!\", friends_count=56, profile_link_color=u'0084B4', profile_image_url=u'http://pbs.twimg.com/profile_images/578691022630309888/q1098UuJ_normal.jpeg', notifications=False, favourites_count=1, profile_background_image_url_https=u'https://abs.twimg.com/images/themes/theme1/bg.png', profile_background_color=u'C0DEED', profile_banner_url=u'https://pbs.twimg.com/profile_banners/3097897493/1427070598', profile_background_image_url=u'http://abs.twimg.com/images/themes/theme1/bg.png', screen_name=u'chloe_mala', is_translation_enabled=False, profile_background_tile=False, profile_text_color=u'333333', name=u'Mala Chloe', url=None, created_at=datetime.datetime(2015, 3, 19, 22, 51, 59), contributors_enabled=False, location=u'', profile_sidebar_border_color=u'C0DEED', default_profile=True, following=False), geo=None, in_reply_to_user_id_str=None, lang=u'en', created_at=datetime.datetime(2015, 3, 23, 1, 42, 52), in_reply_to_status_id_str=None, place=None, source=u'Twitter for Android', retweeted=False),\n",
       " Status(contributors=None, truncated=False, text=u'bed at 8 in pain. Had tramadol..collapsed and fell asleep .. wake up at 12.30 -.-just want 1 night of full sleep... not too much to ask???', in_reply_to_status_id=None, id=579812537698529280, favorite_count=0, _api=<tweepy.api.API object at 0x10c070f90>, author=User(follow_request_sent=False, profile_use_background_image=True, _json={u'follow_request_sent': False, u'profile_use_background_image': True, u'profile_text_color': u'333333', u'default_profile_image': False, u'id': 3097897493, u'profile_background_image_url_https': u'https://abs.twimg.com/images/themes/theme1/bg.png', u'verified': False, u'profile_location': None, u'profile_image_url_https': u'https://pbs.twimg.com/profile_images/578691022630309888/q1098UuJ_normal.jpeg', u'profile_sidebar_fill_color': u'DDEEF6', u'entities': {u'description': {u'urls': []}}, u'followers_count': 17, u'profile_sidebar_border_color': u'C0DEED', u'id_str': u'3097897493', u'profile_background_color': u'C0DEED', u'listed_count': 0, u'is_translation_enabled': False, u'utc_offset': None, u'statuses_count': 18, u'description': u\"insta: malahicks.mh .....my names Mala. I live in Scunthorpe. An 18yo girl who doesn't enjoy going out to drink. I'm an endometriosis warrior and proud of it!!!\", u'friends_count': 56, u'location': u'', u'profile_link_color': u'0084B4', u'profile_image_url': u'http://pbs.twimg.com/profile_images/578691022630309888/q1098UuJ_normal.jpeg', u'following': False, u'geo_enabled': False, u'profile_banner_url': u'https://pbs.twimg.com/profile_banners/3097897493/1427070598', u'profile_background_image_url': u'http://abs.twimg.com/images/themes/theme1/bg.png', u'name': u'Mala Chloe', u'lang': u'en', u'profile_background_tile': False, u'favourites_count': 1, u'screen_name': u'chloe_mala', u'notifications': False, u'url': None, u'created_at': u'Thu Mar 19 22:51:59 +0000 2015', u'contributors_enabled': False, u'time_zone': None, u'protected': False, u'default_profile': True, u'is_translator': False}, time_zone=None, id=3097897493, _api=<tweepy.api.API object at 0x10c070f90>, verified=False, profile_location=None, profile_image_url_https=u'https://pbs.twimg.com/profile_images/578691022630309888/q1098UuJ_normal.jpeg', profile_sidebar_fill_color=u'DDEEF6', is_translator=False, geo_enabled=False, entities={u'description': {u'urls': []}}, followers_count=17, protected=False, id_str=u'3097897493', default_profile_image=False, listed_count=0, lang=u'en', utc_offset=None, statuses_count=18, description=u\"insta: malahicks.mh .....my names Mala. I live in Scunthorpe. An 18yo girl who doesn't enjoy going out to drink. I'm an endometriosis warrior and proud of it!!!\", friends_count=56, profile_link_color=u'0084B4', profile_image_url=u'http://pbs.twimg.com/profile_images/578691022630309888/q1098UuJ_normal.jpeg', notifications=False, favourites_count=1, profile_background_image_url_https=u'https://abs.twimg.com/images/themes/theme1/bg.png', profile_background_color=u'C0DEED', profile_banner_url=u'https://pbs.twimg.com/profile_banners/3097897493/1427070598', profile_background_image_url=u'http://abs.twimg.com/images/themes/theme1/bg.png', screen_name=u'chloe_mala', is_translation_enabled=False, profile_background_tile=False, profile_text_color=u'333333', name=u'Mala Chloe', url=None, created_at=datetime.datetime(2015, 3, 19, 22, 51, 59), contributors_enabled=False, location=u'', profile_sidebar_border_color=u'C0DEED', default_profile=True, following=False), _json={u'contributors': None, u'truncated': False, u'text': u'bed at 8 in pain. Had tramadol..collapsed and fell asleep .. wake up at 12.30 -.-just want 1 night of full sleep... not too much to ask???', u'in_reply_to_status_id': None, u'id': 579812537698529280, u'favorite_count': 0, u'source': u'<a href=\"http://twitter.com/download/android\" rel=\"nofollow\">Twitter for Android</a>', u'retweeted': False, u'coordinates': None, u'entities': {u'symbols': [], u'user_mentions': [], u'hashtags': [], u'urls': []}, u'in_reply_to_screen_name': None, u'id_str': u'579812537698529280', u'retweet_count': 0, u'in_reply_to_user_id': None, u'favorited': False, u'user': {u'follow_request_sent': False, u'profile_use_background_image': True, u'profile_text_color': u'333333', u'default_profile_image': False, u'id': 3097897493, u'profile_background_image_url_https': u'https://abs.twimg.com/images/themes/theme1/bg.png', u'verified': False, u'profile_location': None, u'profile_image_url_https': u'https://pbs.twimg.com/profile_images/578691022630309888/q1098UuJ_normal.jpeg', u'profile_sidebar_fill_color': u'DDEEF6', u'entities': {u'description': {u'urls': []}}, u'followers_count': 17, u'profile_sidebar_border_color': u'C0DEED', u'id_str': u'3097897493', u'profile_background_color': u'C0DEED', u'listed_count': 0, u'is_translation_enabled': False, u'utc_offset': None, u'statuses_count': 18, u'description': u\"insta: malahicks.mh .....my names Mala. I live in Scunthorpe. An 18yo girl who doesn't enjoy going out to drink. I'm an endometriosis warrior and proud of it!!!\", u'friends_count': 56, u'location': u'', u'profile_link_color': u'0084B4', u'profile_image_url': u'http://pbs.twimg.com/profile_images/578691022630309888/q1098UuJ_normal.jpeg', u'following': False, u'geo_enabled': False, u'profile_banner_url': u'https://pbs.twimg.com/profile_banners/3097897493/1427070598', u'profile_background_image_url': u'http://abs.twimg.com/images/themes/theme1/bg.png', u'name': u'Mala Chloe', u'lang': u'en', u'profile_background_tile': False, u'favourites_count': 1, u'screen_name': u'chloe_mala', u'notifications': False, u'url': None, u'created_at': u'Thu Mar 19 22:51:59 +0000 2015', u'contributors_enabled': False, u'time_zone': None, u'protected': False, u'default_profile': True, u'is_translator': False}, u'geo': None, u'in_reply_to_user_id_str': None, u'lang': u'en', u'created_at': u'Mon Mar 23 01:10:56 +0000 2015', u'in_reply_to_status_id_str': None, u'place': None}, coordinates=None, entities={u'symbols': [], u'user_mentions': [], u'hashtags': [], u'urls': []}, in_reply_to_screen_name=None, id_str=u'579812537698529280', retweet_count=0, in_reply_to_user_id=None, favorited=False, source_url=u'http://twitter.com/download/android', user=User(follow_request_sent=False, profile_use_background_image=True, _json={u'follow_request_sent': False, u'profile_use_background_image': True, u'profile_text_color': u'333333', u'default_profile_image': False, u'id': 3097897493, u'profile_background_image_url_https': u'https://abs.twimg.com/images/themes/theme1/bg.png', u'verified': False, u'profile_location': None, u'profile_image_url_https': u'https://pbs.twimg.com/profile_images/578691022630309888/q1098UuJ_normal.jpeg', u'profile_sidebar_fill_color': u'DDEEF6', u'entities': {u'description': {u'urls': []}}, u'followers_count': 17, u'profile_sidebar_border_color': u'C0DEED', u'id_str': u'3097897493', u'profile_background_color': u'C0DEED', u'listed_count': 0, u'is_translation_enabled': False, u'utc_offset': None, u'statuses_count': 18, u'description': u\"insta: malahicks.mh .....my names Mala. I live in Scunthorpe. An 18yo girl who doesn't enjoy going out to drink. I'm an endometriosis warrior and proud of it!!!\", u'friends_count': 56, u'location': u'', u'profile_link_color': u'0084B4', u'profile_image_url': u'http://pbs.twimg.com/profile_images/578691022630309888/q1098UuJ_normal.jpeg', u'following': False, u'geo_enabled': False, u'profile_banner_url': u'https://pbs.twimg.com/profile_banners/3097897493/1427070598', u'profile_background_image_url': u'http://abs.twimg.com/images/themes/theme1/bg.png', u'name': u'Mala Chloe', u'lang': u'en', u'profile_background_tile': False, u'favourites_count': 1, u'screen_name': u'chloe_mala', u'notifications': False, u'url': None, u'created_at': u'Thu Mar 19 22:51:59 +0000 2015', u'contributors_enabled': False, u'time_zone': None, u'protected': False, u'default_profile': True, u'is_translator': False}, time_zone=None, id=3097897493, _api=<tweepy.api.API object at 0x10c070f90>, verified=False, profile_location=None, profile_image_url_https=u'https://pbs.twimg.com/profile_images/578691022630309888/q1098UuJ_normal.jpeg', profile_sidebar_fill_color=u'DDEEF6', is_translator=False, geo_enabled=False, entities={u'description': {u'urls': []}}, followers_count=17, protected=False, id_str=u'3097897493', default_profile_image=False, listed_count=0, lang=u'en', utc_offset=None, statuses_count=18, description=u\"insta: malahicks.mh .....my names Mala. I live in Scunthorpe. An 18yo girl who doesn't enjoy going out to drink. I'm an endometriosis warrior and proud of it!!!\", friends_count=56, profile_link_color=u'0084B4', profile_image_url=u'http://pbs.twimg.com/profile_images/578691022630309888/q1098UuJ_normal.jpeg', notifications=False, favourites_count=1, profile_background_image_url_https=u'https://abs.twimg.com/images/themes/theme1/bg.png', profile_background_color=u'C0DEED', profile_banner_url=u'https://pbs.twimg.com/profile_banners/3097897493/1427070598', profile_background_image_url=u'http://abs.twimg.com/images/themes/theme1/bg.png', screen_name=u'chloe_mala', is_translation_enabled=False, profile_background_tile=False, profile_text_color=u'333333', name=u'Mala Chloe', url=None, created_at=datetime.datetime(2015, 3, 19, 22, 51, 59), contributors_enabled=False, location=u'', profile_sidebar_border_color=u'C0DEED', default_profile=True, following=False), geo=None, in_reply_to_user_id_str=None, lang=u'en', created_at=datetime.datetime(2015, 3, 23, 1, 10, 56), in_reply_to_status_id_str=None, place=None, source=u'Twitter for Android', retweeted=False),\n",
       " Status(contributors=None, truncated=False, text=u\"Love my spooniesisters on instagram. .. I know they're always there to support me no matter what @EndometriosisUK http://t.co/JVjCSvfh0D\", in_reply_to_status_id=None, id=579805632175435776, favorite_count=0, _api=<tweepy.api.API object at 0x10c070f90>, author=User(follow_request_sent=False, profile_use_background_image=True, _json={u'follow_request_sent': False, u'profile_use_background_image': True, u'profile_text_color': u'333333', u'default_profile_image': False, u'id': 3097897493, u'profile_background_image_url_https': u'https://abs.twimg.com/images/themes/theme1/bg.png', u'verified': False, u'profile_location': None, u'profile_image_url_https': u'https://pbs.twimg.com/profile_images/578691022630309888/q1098UuJ_normal.jpeg', u'profile_sidebar_fill_color': u'DDEEF6', u'entities': {u'description': {u'urls': []}}, u'followers_count': 17, u'profile_sidebar_border_color': u'C0DEED', u'id_str': u'3097897493', u'profile_background_color': u'C0DEED', u'listed_count': 0, u'is_translation_enabled': False, u'utc_offset': None, u'statuses_count': 18, u'description': u\"insta: malahicks.mh .....my names Mala. I live in Scunthorpe. An 18yo girl who doesn't enjoy going out to drink. I'm an endometriosis warrior and proud of it!!!\", u'friends_count': 56, u'location': u'', u'profile_link_color': u'0084B4', u'profile_image_url': u'http://pbs.twimg.com/profile_images/578691022630309888/q1098UuJ_normal.jpeg', u'following': False, u'geo_enabled': False, u'profile_banner_url': u'https://pbs.twimg.com/profile_banners/3097897493/1427070598', u'profile_background_image_url': u'http://abs.twimg.com/images/themes/theme1/bg.png', u'name': u'Mala Chloe', u'lang': u'en', u'profile_background_tile': False, u'favourites_count': 1, u'screen_name': u'chloe_mala', u'notifications': False, u'url': None, u'created_at': u'Thu Mar 19 22:51:59 +0000 2015', u'contributors_enabled': False, u'time_zone': None, u'protected': False, u'default_profile': True, u'is_translator': False}, time_zone=None, id=3097897493, _api=<tweepy.api.API object at 0x10c070f90>, verified=False, profile_location=None, profile_image_url_https=u'https://pbs.twimg.com/profile_images/578691022630309888/q1098UuJ_normal.jpeg', profile_sidebar_fill_color=u'DDEEF6', is_translator=False, geo_enabled=False, entities={u'description': {u'urls': []}}, followers_count=17, protected=False, id_str=u'3097897493', default_profile_image=False, listed_count=0, lang=u'en', utc_offset=None, statuses_count=18, description=u\"insta: malahicks.mh .....my names Mala. I live in Scunthorpe. An 18yo girl who doesn't enjoy going out to drink. I'm an endometriosis warrior and proud of it!!!\", friends_count=56, profile_link_color=u'0084B4', profile_image_url=u'http://pbs.twimg.com/profile_images/578691022630309888/q1098UuJ_normal.jpeg', notifications=False, favourites_count=1, profile_background_image_url_https=u'https://abs.twimg.com/images/themes/theme1/bg.png', profile_background_color=u'C0DEED', profile_banner_url=u'https://pbs.twimg.com/profile_banners/3097897493/1427070598', profile_background_image_url=u'http://abs.twimg.com/images/themes/theme1/bg.png', screen_name=u'chloe_mala', is_translation_enabled=False, profile_background_tile=False, profile_text_color=u'333333', name=u'Mala Chloe', url=None, created_at=datetime.datetime(2015, 3, 19, 22, 51, 59), contributors_enabled=False, location=u'', profile_sidebar_border_color=u'C0DEED', default_profile=True, following=False), _json={u'contributors': None, u'truncated': False, u'text': u\"Love my spooniesisters on instagram. .. I know they're always there to support me no matter what @EndometriosisUK http://t.co/JVjCSvfh0D\", u'in_reply_to_status_id': None, u'id': 579805632175435776, u'favorite_count': 0, u'source': u'<a href=\"http://twitter.com/download/android\" rel=\"nofollow\">Twitter for Android</a>', u'retweeted': False, u'coordinates': None, u'entities': {u'symbols': [], u'user_mentions': [{u'id': 78871770, u'indices': [97, 113], u'id_str': u'78871770', u'screen_name': u'EndometriosisUK', u'name': u'Endometriosis UK'}], u'hashtags': [], u'urls': [], u'media': [{u'expanded_url': u'http://twitter.com/chloe_mala/status/579805632175435776/photo/1', u'display_url': u'pic.twitter.com/JVjCSvfh0D', u'url': u'http://t.co/JVjCSvfh0D', u'media_url_https': u'https://pbs.twimg.com/media/CAviJPZWEAADxEo.jpg', u'id_str': u'579805625426776064', u'sizes': {u'small': {u'h': 340, u'resize': u'fit', u'w': 340}, u'large': {u'h': 720, u'resize': u'fit', u'w': 720}, u'medium': {u'h': 600, u'resize': u'fit', u'w': 600}, u'thumb': {u'h': 150, u'resize': u'crop', u'w': 150}}, u'indices': [114, 136], u'type': u'photo', u'id': 579805625426776064, u'media_url': u'http://pbs.twimg.com/media/CAviJPZWEAADxEo.jpg'}]}, u'in_reply_to_screen_name': None, u'id_str': u'579805632175435776', u'retweet_count': 0, u'in_reply_to_user_id': None, u'favorited': False, u'user': {u'follow_request_sent': False, u'profile_use_background_image': True, u'profile_text_color': u'333333', u'default_profile_image': False, u'id': 3097897493, u'profile_background_image_url_https': u'https://abs.twimg.com/images/themes/theme1/bg.png', u'verified': False, u'profile_location': None, u'profile_image_url_https': u'https://pbs.twimg.com/profile_images/578691022630309888/q1098UuJ_normal.jpeg', u'profile_sidebar_fill_color': u'DDEEF6', u'entities': {u'description': {u'urls': []}}, u'followers_count': 17, u'profile_sidebar_border_color': u'C0DEED', u'id_str': u'3097897493', u'profile_background_color': u'C0DEED', u'listed_count': 0, u'is_translation_enabled': False, u'utc_offset': None, u'statuses_count': 18, u'description': u\"insta: malahicks.mh .....my names Mala. I live in Scunthorpe. An 18yo girl who doesn't enjoy going out to drink. I'm an endometriosis warrior and proud of it!!!\", u'friends_count': 56, u'location': u'', u'profile_link_color': u'0084B4', u'profile_image_url': u'http://pbs.twimg.com/profile_images/578691022630309888/q1098UuJ_normal.jpeg', u'following': False, u'geo_enabled': False, u'profile_banner_url': u'https://pbs.twimg.com/profile_banners/3097897493/1427070598', u'profile_background_image_url': u'http://abs.twimg.com/images/themes/theme1/bg.png', u'name': u'Mala Chloe', u'lang': u'en', u'profile_background_tile': False, u'favourites_count': 1, u'screen_name': u'chloe_mala', u'notifications': False, u'url': None, u'created_at': u'Thu Mar 19 22:51:59 +0000 2015', u'contributors_enabled': False, u'time_zone': None, u'protected': False, u'default_profile': True, u'is_translator': False}, u'geo': None, u'in_reply_to_user_id_str': None, u'possibly_sensitive': False, u'lang': u'en', u'created_at': u'Mon Mar 23 00:43:29 +0000 2015', u'in_reply_to_status_id_str': None, u'place': None, u'extended_entities': {u'media': [{u'expanded_url': u'http://twitter.com/chloe_mala/status/579805632175435776/photo/1', u'display_url': u'pic.twitter.com/JVjCSvfh0D', u'url': u'http://t.co/JVjCSvfh0D', u'media_url_https': u'https://pbs.twimg.com/media/CAviJPZWEAADxEo.jpg', u'id_str': u'579805625426776064', u'sizes': {u'small': {u'h': 340, u'resize': u'fit', u'w': 340}, u'large': {u'h': 720, u'resize': u'fit', u'w': 720}, u'medium': {u'h': 600, u'resize': u'fit', u'w': 600}, u'thumb': {u'h': 150, u'resize': u'crop', u'w': 150}}, u'indices': [114, 136], u'type': u'photo', u'id': 579805625426776064, u'media_url': u'http://pbs.twimg.com/media/CAviJPZWEAADxEo.jpg'}]}}, coordinates=None, entities={u'symbols': [], u'user_mentions': [{u'id': 78871770, u'indices': [97, 113], u'id_str': u'78871770', u'screen_name': u'EndometriosisUK', u'name': u'Endometriosis UK'}], u'hashtags': [], u'urls': [], u'media': [{u'expanded_url': u'http://twitter.com/chloe_mala/status/579805632175435776/photo/1', u'display_url': u'pic.twitter.com/JVjCSvfh0D', u'url': u'http://t.co/JVjCSvfh0D', u'media_url_https': u'https://pbs.twimg.com/media/CAviJPZWEAADxEo.jpg', u'id_str': u'579805625426776064', u'sizes': {u'small': {u'h': 340, u'resize': u'fit', u'w': 340}, u'large': {u'h': 720, u'resize': u'fit', u'w': 720}, u'medium': {u'h': 600, u'resize': u'fit', u'w': 600}, u'thumb': {u'h': 150, u'resize': u'crop', u'w': 150}}, u'indices': [114, 136], u'type': u'photo', u'id': 579805625426776064, u'media_url': u'http://pbs.twimg.com/media/CAviJPZWEAADxEo.jpg'}]}, in_reply_to_screen_name=None, id_str=u'579805632175435776', retweet_count=0, in_reply_to_user_id=None, favorited=False, source_url=u'http://twitter.com/download/android', user=User(follow_request_sent=False, profile_use_background_image=True, _json={u'follow_request_sent': False, u'profile_use_background_image': True, u'profile_text_color': u'333333', u'default_profile_image': False, u'id': 3097897493, u'profile_background_image_url_https': u'https://abs.twimg.com/images/themes/theme1/bg.png', u'verified': False, u'profile_location': None, u'profile_image_url_https': u'https://pbs.twimg.com/profile_images/578691022630309888/q1098UuJ_normal.jpeg', u'profile_sidebar_fill_color': u'DDEEF6', u'entities': {u'description': {u'urls': []}}, u'followers_count': 17, u'profile_sidebar_border_color': u'C0DEED', u'id_str': u'3097897493', u'profile_background_color': u'C0DEED', u'listed_count': 0, u'is_translation_enabled': False, u'utc_offset': None, u'statuses_count': 18, u'description': u\"insta: malahicks.mh .....my names Mala. I live in Scunthorpe. An 18yo girl who doesn't enjoy going out to drink. I'm an endometriosis warrior and proud of it!!!\", u'friends_count': 56, u'location': u'', u'profile_link_color': u'0084B4', u'profile_image_url': u'http://pbs.twimg.com/profile_images/578691022630309888/q1098UuJ_normal.jpeg', u'following': False, u'geo_enabled': False, u'profile_banner_url': u'https://pbs.twimg.com/profile_banners/3097897493/1427070598', u'profile_background_image_url': u'http://abs.twimg.com/images/themes/theme1/bg.png', u'name': u'Mala Chloe', u'lang': u'en', u'profile_background_tile': False, u'favourites_count': 1, u'screen_name': u'chloe_mala', u'notifications': False, u'url': None, u'created_at': u'Thu Mar 19 22:51:59 +0000 2015', u'contributors_enabled': False, u'time_zone': None, u'protected': False, u'default_profile': True, u'is_translator': False}, time_zone=None, id=3097897493, _api=<tweepy.api.API object at 0x10c070f90>, verified=False, profile_location=None, profile_image_url_https=u'https://pbs.twimg.com/profile_images/578691022630309888/q1098UuJ_normal.jpeg', profile_sidebar_fill_color=u'DDEEF6', is_translator=False, geo_enabled=False, entities={u'description': {u'urls': []}}, followers_count=17, protected=False, id_str=u'3097897493', default_profile_image=False, listed_count=0, lang=u'en', utc_offset=None, statuses_count=18, description=u\"insta: malahicks.mh .....my names Mala. I live in Scunthorpe. An 18yo girl who doesn't enjoy going out to drink. I'm an endometriosis warrior and proud of it!!!\", friends_count=56, profile_link_color=u'0084B4', profile_image_url=u'http://pbs.twimg.com/profile_images/578691022630309888/q1098UuJ_normal.jpeg', notifications=False, favourites_count=1, profile_background_image_url_https=u'https://abs.twimg.com/images/themes/theme1/bg.png', profile_background_color=u'C0DEED', profile_banner_url=u'https://pbs.twimg.com/profile_banners/3097897493/1427070598', profile_background_image_url=u'http://abs.twimg.com/images/themes/theme1/bg.png', screen_name=u'chloe_mala', is_translation_enabled=False, profile_background_tile=False, profile_text_color=u'333333', name=u'Mala Chloe', url=None, created_at=datetime.datetime(2015, 3, 19, 22, 51, 59), contributors_enabled=False, location=u'', profile_sidebar_border_color=u'C0DEED', default_profile=True, following=False), geo=None, in_reply_to_user_id_str=None, possibly_sensitive=False, lang=u'en', created_at=datetime.datetime(2015, 3, 23, 0, 43, 29), in_reply_to_status_id_str=None, place=None, source=u'Twitter for Android', extended_entities={u'media': [{u'expanded_url': u'http://twitter.com/chloe_mala/status/579805632175435776/photo/1', u'display_url': u'pic.twitter.com/JVjCSvfh0D', u'url': u'http://t.co/JVjCSvfh0D', u'media_url_https': u'https://pbs.twimg.com/media/CAviJPZWEAADxEo.jpg', u'id_str': u'579805625426776064', u'sizes': {u'small': {u'h': 340, u'resize': u'fit', u'w': 340}, u'large': {u'h': 720, u'resize': u'fit', u'w': 720}, u'medium': {u'h': 600, u'resize': u'fit', u'w': 600}, u'thumb': {u'h': 150, u'resize': u'crop', u'w': 150}}, u'indices': [114, 136], u'type': u'photo', u'id': 579805625426776064, u'media_url': u'http://pbs.twimg.com/media/CAviJPZWEAADxEo.jpg'}]}, retweeted=False),\n",
       " Status(contributors=None, truncated=False, text=u\"@chloe_mala @Endometriosis @EndometriosisUK check out my first ever tattoo .. I love it .I'm now always wearing yellow to show i fight endo\", in_reply_to_status_id=579419740772425728, id=579804370902056960, favorite_count=0, _api=<tweepy.api.API object at 0x10c070f90>, author=User(follow_request_sent=False, profile_use_background_image=True, _json={u'follow_request_sent': False, u'profile_use_background_image': True, u'profile_text_color': u'333333', u'default_profile_image': False, u'id': 3097897493, u'profile_background_image_url_https': u'https://abs.twimg.com/images/themes/theme1/bg.png', u'verified': False, u'profile_location': None, u'profile_image_url_https': u'https://pbs.twimg.com/profile_images/578691022630309888/q1098UuJ_normal.jpeg', u'profile_sidebar_fill_color': u'DDEEF6', u'entities': {u'description': {u'urls': []}}, u'followers_count': 17, u'profile_sidebar_border_color': u'C0DEED', u'id_str': u'3097897493', u'profile_background_color': u'C0DEED', u'listed_count': 0, u'is_translation_enabled': False, u'utc_offset': None, u'statuses_count': 18, u'description': u\"insta: malahicks.mh .....my names Mala. I live in Scunthorpe. An 18yo girl who doesn't enjoy going out to drink. I'm an endometriosis warrior and proud of it!!!\", u'friends_count': 56, u'location': u'', u'profile_link_color': u'0084B4', u'profile_image_url': u'http://pbs.twimg.com/profile_images/578691022630309888/q1098UuJ_normal.jpeg', u'following': False, u'geo_enabled': False, u'profile_banner_url': u'https://pbs.twimg.com/profile_banners/3097897493/1427070598', u'profile_background_image_url': u'http://abs.twimg.com/images/themes/theme1/bg.png', u'name': u'Mala Chloe', u'lang': u'en', u'profile_background_tile': False, u'favourites_count': 1, u'screen_name': u'chloe_mala', u'notifications': False, u'url': None, u'created_at': u'Thu Mar 19 22:51:59 +0000 2015', u'contributors_enabled': False, u'time_zone': None, u'protected': False, u'default_profile': True, u'is_translator': False}, time_zone=None, id=3097897493, _api=<tweepy.api.API object at 0x10c070f90>, verified=False, profile_location=None, profile_image_url_https=u'https://pbs.twimg.com/profile_images/578691022630309888/q1098UuJ_normal.jpeg', profile_sidebar_fill_color=u'DDEEF6', is_translator=False, geo_enabled=False, entities={u'description': {u'urls': []}}, followers_count=17, protected=False, id_str=u'3097897493', default_profile_image=False, listed_count=0, lang=u'en', utc_offset=None, statuses_count=18, description=u\"insta: malahicks.mh .....my names Mala. I live in Scunthorpe. An 18yo girl who doesn't enjoy going out to drink. I'm an endometriosis warrior and proud of it!!!\", friends_count=56, profile_link_color=u'0084B4', profile_image_url=u'http://pbs.twimg.com/profile_images/578691022630309888/q1098UuJ_normal.jpeg', notifications=False, favourites_count=1, profile_background_image_url_https=u'https://abs.twimg.com/images/themes/theme1/bg.png', profile_background_color=u'C0DEED', profile_banner_url=u'https://pbs.twimg.com/profile_banners/3097897493/1427070598', profile_background_image_url=u'http://abs.twimg.com/images/themes/theme1/bg.png', screen_name=u'chloe_mala', is_translation_enabled=False, profile_background_tile=False, profile_text_color=u'333333', name=u'Mala Chloe', url=None, created_at=datetime.datetime(2015, 3, 19, 22, 51, 59), contributors_enabled=False, location=u'', profile_sidebar_border_color=u'C0DEED', default_profile=True, following=False), _json={u'contributors': None, u'truncated': False, u'text': u\"@chloe_mala @Endometriosis @EndometriosisUK check out my first ever tattoo .. I love it .I'm now always wearing yellow to show i fight endo\", u'in_reply_to_status_id': 579419740772425728, u'id': 579804370902056960, u'favorite_count': 0, u'source': u'<a href=\"http://twitter.com/download/android\" rel=\"nofollow\">Twitter for Android</a>', u'retweeted': False, u'coordinates': None, u'entities': {u'symbols': [], u'user_mentions': [{u'id': 3097897493, u'indices': [0, 11], u'id_str': u'3097897493', u'screen_name': u'chloe_mala', u'name': u'Mala Chloe'}, {u'id': 30888803, u'indices': [12, 26], u'id_str': u'30888803', u'screen_name': u'Endometriosis', u'name': u'Endometriosis.org'}, {u'id': 78871770, u'indices': [27, 43], u'id_str': u'78871770', u'screen_name': u'EndometriosisUK', u'name': u'Endometriosis UK'}], u'hashtags': [], u'urls': []}, u'in_reply_to_screen_name': u'chloe_mala', u'id_str': u'579804370902056960', u'retweet_count': 0, u'in_reply_to_user_id': 3097897493, u'favorited': False, u'user': {u'follow_request_sent': False, u'profile_use_background_image': True, u'profile_text_color': u'333333', u'default_profile_image': False, u'id': 3097897493, u'profile_background_image_url_https': u'https://abs.twimg.com/images/themes/theme1/bg.png', u'verified': False, u'profile_location': None, u'profile_image_url_https': u'https://pbs.twimg.com/profile_images/578691022630309888/q1098UuJ_normal.jpeg', u'profile_sidebar_fill_color': u'DDEEF6', u'entities': {u'description': {u'urls': []}}, u'followers_count': 17, u'profile_sidebar_border_color': u'C0DEED', u'id_str': u'3097897493', u'profile_background_color': u'C0DEED', u'listed_count': 0, u'is_translation_enabled': False, u'utc_offset': None, u'statuses_count': 18, u'description': u\"insta: malahicks.mh .....my names Mala. I live in Scunthorpe. An 18yo girl who doesn't enjoy going out to drink. I'm an endometriosis warrior and proud of it!!!\", u'friends_count': 56, u'location': u'', u'profile_link_color': u'0084B4', u'profile_image_url': u'http://pbs.twimg.com/profile_images/578691022630309888/q1098UuJ_normal.jpeg', u'following': False, u'geo_enabled': False, u'profile_banner_url': u'https://pbs.twimg.com/profile_banners/3097897493/1427070598', u'profile_background_image_url': u'http://abs.twimg.com/images/themes/theme1/bg.png', u'name': u'Mala Chloe', u'lang': u'en', u'profile_background_tile': False, u'favourites_count': 1, u'screen_name': u'chloe_mala', u'notifications': False, u'url': None, u'created_at': u'Thu Mar 19 22:51:59 +0000 2015', u'contributors_enabled': False, u'time_zone': None, u'protected': False, u'default_profile': True, u'is_translator': False}, u'geo': None, u'in_reply_to_user_id_str': u'3097897493', u'lang': u'en', u'created_at': u'Mon Mar 23 00:38:28 +0000 2015', u'in_reply_to_status_id_str': u'579419740772425728', u'place': None}, coordinates=None, entities={u'symbols': [], u'user_mentions': [{u'id': 3097897493, u'indices': [0, 11], u'id_str': u'3097897493', u'screen_name': u'chloe_mala', u'name': u'Mala Chloe'}, {u'id': 30888803, u'indices': [12, 26], u'id_str': u'30888803', u'screen_name': u'Endometriosis', u'name': u'Endometriosis.org'}, {u'id': 78871770, u'indices': [27, 43], u'id_str': u'78871770', u'screen_name': u'EndometriosisUK', u'name': u'Endometriosis UK'}], u'hashtags': [], u'urls': []}, in_reply_to_screen_name=u'chloe_mala', id_str=u'579804370902056960', retweet_count=0, in_reply_to_user_id=3097897493, favorited=False, source_url=u'http://twitter.com/download/android', user=User(follow_request_sent=False, profile_use_background_image=True, _json={u'follow_request_sent': False, u'profile_use_background_image': True, u'profile_text_color': u'333333', u'default_profile_image': False, u'id': 3097897493, u'profile_background_image_url_https': u'https://abs.twimg.com/images/themes/theme1/bg.png', u'verified': False, u'profile_location': None, u'profile_image_url_https': u'https://pbs.twimg.com/profile_images/578691022630309888/q1098UuJ_normal.jpeg', u'profile_sidebar_fill_color': u'DDEEF6', u'entities': {u'description': {u'urls': []}}, u'followers_count': 17, u'profile_sidebar_border_color': u'C0DEED', u'id_str': u'3097897493', u'profile_background_color': u'C0DEED', u'listed_count': 0, u'is_translation_enabled': False, u'utc_offset': None, u'statuses_count': 18, u'description': u\"insta: malahicks.mh .....my names Mala. I live in Scunthorpe. An 18yo girl who doesn't enjoy going out to drink. I'm an endometriosis warrior and proud of it!!!\", u'friends_count': 56, u'location': u'', u'profile_link_color': u'0084B4', u'profile_image_url': u'http://pbs.twimg.com/profile_images/578691022630309888/q1098UuJ_normal.jpeg', u'following': False, u'geo_enabled': False, u'profile_banner_url': u'https://pbs.twimg.com/profile_banners/3097897493/1427070598', u'profile_background_image_url': u'http://abs.twimg.com/images/themes/theme1/bg.png', u'name': u'Mala Chloe', u'lang': u'en', u'profile_background_tile': False, u'favourites_count': 1, u'screen_name': u'chloe_mala', u'notifications': False, u'url': None, u'created_at': u'Thu Mar 19 22:51:59 +0000 2015', u'contributors_enabled': False, u'time_zone': None, u'protected': False, u'default_profile': True, u'is_translator': False}, time_zone=None, id=3097897493, _api=<tweepy.api.API object at 0x10c070f90>, verified=False, profile_location=None, profile_image_url_https=u'https://pbs.twimg.com/profile_images/578691022630309888/q1098UuJ_normal.jpeg', profile_sidebar_fill_color=u'DDEEF6', is_translator=False, geo_enabled=False, entities={u'description': {u'urls': []}}, followers_count=17, protected=False, id_str=u'3097897493', default_profile_image=False, listed_count=0, lang=u'en', utc_offset=None, statuses_count=18, description=u\"insta: malahicks.mh .....my names Mala. I live in Scunthorpe. An 18yo girl who doesn't enjoy going out to drink. I'm an endometriosis warrior and proud of it!!!\", friends_count=56, profile_link_color=u'0084B4', profile_image_url=u'http://pbs.twimg.com/profile_images/578691022630309888/q1098UuJ_normal.jpeg', notifications=False, favourites_count=1, profile_background_image_url_https=u'https://abs.twimg.com/images/themes/theme1/bg.png', profile_background_color=u'C0DEED', profile_banner_url=u'https://pbs.twimg.com/profile_banners/3097897493/1427070598', profile_background_image_url=u'http://abs.twimg.com/images/themes/theme1/bg.png', screen_name=u'chloe_mala', is_translation_enabled=False, profile_background_tile=False, profile_text_color=u'333333', name=u'Mala Chloe', url=None, created_at=datetime.datetime(2015, 3, 19, 22, 51, 59), contributors_enabled=False, location=u'', profile_sidebar_border_color=u'C0DEED', default_profile=True, following=False), geo=None, in_reply_to_user_id_str=u'3097897493', lang=u'en', created_at=datetime.datetime(2015, 3, 23, 0, 38, 28), in_reply_to_status_id_str=u'579419740772425728', place=None, source=u'Twitter for Android', retweeted=False),\n",
       " Status(contributors=None, truncated=False, text=u\"I just adore my baby girl. She can't take away actual pain but she helps demolish my emotional traumas #endendo http://t.co/XcwMi4P1oR\", in_reply_to_status_id=None, id=579802034641244160, favorite_count=0, _api=<tweepy.api.API object at 0x10c070f90>, author=User(follow_request_sent=False, profile_use_background_image=True, _json={u'follow_request_sent': False, u'profile_use_background_image': True, u'profile_text_color': u'333333', u'default_profile_image': False, u'id': 3097897493, u'profile_background_image_url_https': u'https://abs.twimg.com/images/themes/theme1/bg.png', u'verified': False, u'profile_location': None, u'profile_image_url_https': u'https://pbs.twimg.com/profile_images/578691022630309888/q1098UuJ_normal.jpeg', u'profile_sidebar_fill_color': u'DDEEF6', u'entities': {u'description': {u'urls': []}}, u'followers_count': 17, u'profile_sidebar_border_color': u'C0DEED', u'id_str': u'3097897493', u'profile_background_color': u'C0DEED', u'listed_count': 0, u'is_translation_enabled': False, u'utc_offset': None, u'statuses_count': 18, u'description': u\"insta: malahicks.mh .....my names Mala. I live in Scunthorpe. An 18yo girl who doesn't enjoy going out to drink. I'm an endometriosis warrior and proud of it!!!\", u'friends_count': 56, u'location': u'', u'profile_link_color': u'0084B4', u'profile_image_url': u'http://pbs.twimg.com/profile_images/578691022630309888/q1098UuJ_normal.jpeg', u'following': False, u'geo_enabled': False, u'profile_banner_url': u'https://pbs.twimg.com/profile_banners/3097897493/1427070598', u'profile_background_image_url': u'http://abs.twimg.com/images/themes/theme1/bg.png', u'name': u'Mala Chloe', u'lang': u'en', u'profile_background_tile': False, u'favourites_count': 1, u'screen_name': u'chloe_mala', u'notifications': False, u'url': None, u'created_at': u'Thu Mar 19 22:51:59 +0000 2015', u'contributors_enabled': False, u'time_zone': None, u'protected': False, u'default_profile': True, u'is_translator': False}, time_zone=None, id=3097897493, _api=<tweepy.api.API object at 0x10c070f90>, verified=False, profile_location=None, profile_image_url_https=u'https://pbs.twimg.com/profile_images/578691022630309888/q1098UuJ_normal.jpeg', profile_sidebar_fill_color=u'DDEEF6', is_translator=False, geo_enabled=False, entities={u'description': {u'urls': []}}, followers_count=17, protected=False, id_str=u'3097897493', default_profile_image=False, listed_count=0, lang=u'en', utc_offset=None, statuses_count=18, description=u\"insta: malahicks.mh .....my names Mala. I live in Scunthorpe. An 18yo girl who doesn't enjoy going out to drink. I'm an endometriosis warrior and proud of it!!!\", friends_count=56, profile_link_color=u'0084B4', profile_image_url=u'http://pbs.twimg.com/profile_images/578691022630309888/q1098UuJ_normal.jpeg', notifications=False, favourites_count=1, profile_background_image_url_https=u'https://abs.twimg.com/images/themes/theme1/bg.png', profile_background_color=u'C0DEED', profile_banner_url=u'https://pbs.twimg.com/profile_banners/3097897493/1427070598', profile_background_image_url=u'http://abs.twimg.com/images/themes/theme1/bg.png', screen_name=u'chloe_mala', is_translation_enabled=False, profile_background_tile=False, profile_text_color=u'333333', name=u'Mala Chloe', url=None, created_at=datetime.datetime(2015, 3, 19, 22, 51, 59), contributors_enabled=False, location=u'', profile_sidebar_border_color=u'C0DEED', default_profile=True, following=False), _json={u'contributors': None, u'truncated': False, u'text': u\"I just adore my baby girl. She can't take away actual pain but she helps demolish my emotional traumas #endendo http://t.co/XcwMi4P1oR\", u'in_reply_to_status_id': None, u'id': 579802034641244160, u'favorite_count': 0, u'source': u'<a href=\"http://twitter.com/download/android\" rel=\"nofollow\">Twitter for Android</a>', u'retweeted': False, u'coordinates': None, u'entities': {u'symbols': [], u'user_mentions': [], u'hashtags': [{u'indices': [103, 111], u'text': u'endendo'}], u'urls': [], u'media': [{u'expanded_url': u'http://twitter.com/chloe_mala/status/579802034641244160/photo/1', u'display_url': u'pic.twitter.com/XcwMi4P1oR', u'url': u'http://t.co/XcwMi4P1oR', u'media_url_https': u'https://pbs.twimg.com/media/CAve3UZXIAAYRev.jpg', u'id_str': u'579802018996494336', u'sizes': {u'small': {u'h': 191, u'resize': u'fit', u'w': 340}, u'large': {u'h': 576, u'resize': u'fit', u'w': 1024}, u'medium': {u'h': 337, u'resize': u'fit', u'w': 600}, u'thumb': {u'h': 150, u'resize': u'crop', u'w': 150}}, u'indices': [112, 134], u'type': u'photo', u'id': 579802018996494336, u'media_url': u'http://pbs.twimg.com/media/CAve3UZXIAAYRev.jpg'}]}, u'in_reply_to_screen_name': None, u'id_str': u'579802034641244160', u'retweet_count': 0, u'in_reply_to_user_id': None, u'favorited': False, u'user': {u'follow_request_sent': False, u'profile_use_background_image': True, u'profile_text_color': u'333333', u'default_profile_image': False, u'id': 3097897493, u'profile_background_image_url_https': u'https://abs.twimg.com/images/themes/theme1/bg.png', u'verified': False, u'profile_location': None, u'profile_image_url_https': u'https://pbs.twimg.com/profile_images/578691022630309888/q1098UuJ_normal.jpeg', u'profile_sidebar_fill_color': u'DDEEF6', u'entities': {u'description': {u'urls': []}}, u'followers_count': 17, u'profile_sidebar_border_color': u'C0DEED', u'id_str': u'3097897493', u'profile_background_color': u'C0DEED', u'listed_count': 0, u'is_translation_enabled': False, u'utc_offset': None, u'statuses_count': 18, u'description': u\"insta: malahicks.mh .....my names Mala. I live in Scunthorpe. An 18yo girl who doesn't enjoy going out to drink. I'm an endometriosis warrior and proud of it!!!\", u'friends_count': 56, u'location': u'', u'profile_link_color': u'0084B4', u'profile_image_url': u'http://pbs.twimg.com/profile_images/578691022630309888/q1098UuJ_normal.jpeg', u'following': False, u'geo_enabled': False, u'profile_banner_url': u'https://pbs.twimg.com/profile_banners/3097897493/1427070598', u'profile_background_image_url': u'http://abs.twimg.com/images/themes/theme1/bg.png', u'name': u'Mala Chloe', u'lang': u'en', u'profile_background_tile': False, u'favourites_count': 1, u'screen_name': u'chloe_mala', u'notifications': False, u'url': None, u'created_at': u'Thu Mar 19 22:51:59 +0000 2015', u'contributors_enabled': False, u'time_zone': None, u'protected': False, u'default_profile': True, u'is_translator': False}, u'geo': None, u'in_reply_to_user_id_str': None, u'possibly_sensitive': False, u'lang': u'en', u'created_at': u'Mon Mar 23 00:29:11 +0000 2015', u'in_reply_to_status_id_str': None, u'place': None, u'extended_entities': {u'media': [{u'expanded_url': u'http://twitter.com/chloe_mala/status/579802034641244160/photo/1', u'display_url': u'pic.twitter.com/XcwMi4P1oR', u'url': u'http://t.co/XcwMi4P1oR', u'media_url_https': u'https://pbs.twimg.com/media/CAve3UZXIAAYRev.jpg', u'id_str': u'579802018996494336', u'sizes': {u'small': {u'h': 191, u'resize': u'fit', u'w': 340}, u'large': {u'h': 576, u'resize': u'fit', u'w': 1024}, u'medium': {u'h': 337, u'resize': u'fit', u'w': 600}, u'thumb': {u'h': 150, u'resize': u'crop', u'w': 150}}, u'indices': [112, 134], u'type': u'photo', u'id': 579802018996494336, u'media_url': u'http://pbs.twimg.com/media/CAve3UZXIAAYRev.jpg'}, {u'expanded_url': u'http://twitter.com/chloe_mala/status/579802034641244160/photo/1', u'display_url': u'pic.twitter.com/XcwMi4P1oR', u'url': u'http://t.co/XcwMi4P1oR', u'media_url_https': u'https://pbs.twimg.com/media/CAve3zcWkAAyLm_.jpg', u'id_str': u'579802027330539520', u'sizes': {u'small': {u'h': 191, u'resize': u'fit', u'w': 340}, u'large': {u'h': 576, u'resize': u'fit', u'w': 1024}, u'medium': {u'h': 337, u'resize': u'fit', u'w': 600}, u'thumb': {u'h': 150, u'resize': u'crop', u'w': 150}}, u'indices': [112, 134], u'type': u'photo', u'id': 579802027330539520, u'media_url': u'http://pbs.twimg.com/media/CAve3zcWkAAyLm_.jpg'}]}}, coordinates=None, entities={u'symbols': [], u'user_mentions': [], u'hashtags': [{u'indices': [103, 111], u'text': u'endendo'}], u'urls': [], u'media': [{u'expanded_url': u'http://twitter.com/chloe_mala/status/579802034641244160/photo/1', u'display_url': u'pic.twitter.com/XcwMi4P1oR', u'url': u'http://t.co/XcwMi4P1oR', u'media_url_https': u'https://pbs.twimg.com/media/CAve3UZXIAAYRev.jpg', u'id_str': u'579802018996494336', u'sizes': {u'small': {u'h': 191, u'resize': u'fit', u'w': 340}, u'large': {u'h': 576, u'resize': u'fit', u'w': 1024}, u'medium': {u'h': 337, u'resize': u'fit', u'w': 600}, u'thumb': {u'h': 150, u'resize': u'crop', u'w': 150}}, u'indices': [112, 134], u'type': u'photo', u'id': 579802018996494336, u'media_url': u'http://pbs.twimg.com/media/CAve3UZXIAAYRev.jpg'}]}, in_reply_to_screen_name=None, id_str=u'579802034641244160', retweet_count=0, in_reply_to_user_id=None, favorited=False, source_url=u'http://twitter.com/download/android', user=User(follow_request_sent=False, profile_use_background_image=True, _json={u'follow_request_sent': False, u'profile_use_background_image': True, u'profile_text_color': u'333333', u'default_profile_image': False, u'id': 3097897493, u'profile_background_image_url_https': u'https://abs.twimg.com/images/themes/theme1/bg.png', u'verified': False, u'profile_location': None, u'profile_image_url_https': u'https://pbs.twimg.com/profile_images/578691022630309888/q1098UuJ_normal.jpeg', u'profile_sidebar_fill_color': u'DDEEF6', u'entities': {u'description': {u'urls': []}}, u'followers_count': 17, u'profile_sidebar_border_color': u'C0DEED', u'id_str': u'3097897493', u'profile_background_color': u'C0DEED', u'listed_count': 0, u'is_translation_enabled': False, u'utc_offset': None, u'statuses_count': 18, u'description': u\"insta: malahicks.mh .....my names Mala. I live in Scunthorpe. An 18yo girl who doesn't enjoy going out to drink. I'm an endometriosis warrior and proud of it!!!\", u'friends_count': 56, u'location': u'', u'profile_link_color': u'0084B4', u'profile_image_url': u'http://pbs.twimg.com/profile_images/578691022630309888/q1098UuJ_normal.jpeg', u'following': False, u'geo_enabled': False, u'profile_banner_url': u'https://pbs.twimg.com/profile_banners/3097897493/1427070598', u'profile_background_image_url': u'http://abs.twimg.com/images/themes/theme1/bg.png', u'name': u'Mala Chloe', u'lang': u'en', u'profile_background_tile': False, u'favourites_count': 1, u'screen_name': u'chloe_mala', u'notifications': False, u'url': None, u'created_at': u'Thu Mar 19 22:51:59 +0000 2015', u'contributors_enabled': False, u'time_zone': None, u'protected': False, u'default_profile': True, u'is_translator': False}, time_zone=None, id=3097897493, _api=<tweepy.api.API object at 0x10c070f90>, verified=False, profile_location=None, profile_image_url_https=u'https://pbs.twimg.com/profile_images/578691022630309888/q1098UuJ_normal.jpeg', profile_sidebar_fill_color=u'DDEEF6', is_translator=False, geo_enabled=False, entities={u'description': {u'urls': []}}, followers_count=17, protected=False, id_str=u'3097897493', default_profile_image=False, listed_count=0, lang=u'en', utc_offset=None, statuses_count=18, description=u\"insta: malahicks.mh .....my names Mala. I live in Scunthorpe. An 18yo girl who doesn't enjoy going out to drink. I'm an endometriosis warrior and proud of it!!!\", friends_count=56, profile_link_color=u'0084B4', profile_image_url=u'http://pbs.twimg.com/profile_images/578691022630309888/q1098UuJ_normal.jpeg', notifications=False, favourites_count=1, profile_background_image_url_https=u'https://abs.twimg.com/images/themes/theme1/bg.png', profile_background_color=u'C0DEED', profile_banner_url=u'https://pbs.twimg.com/profile_banners/3097897493/1427070598', profile_background_image_url=u'http://abs.twimg.com/images/themes/theme1/bg.png', screen_name=u'chloe_mala', is_translation_enabled=False, profile_background_tile=False, profile_text_color=u'333333', name=u'Mala Chloe', url=None, created_at=datetime.datetime(2015, 3, 19, 22, 51, 59), contributors_enabled=False, location=u'', profile_sidebar_border_color=u'C0DEED', default_profile=True, following=False), geo=None, in_reply_to_user_id_str=None, possibly_sensitive=False, lang=u'en', created_at=datetime.datetime(2015, 3, 23, 0, 29, 11), in_reply_to_status_id_str=None, place=None, source=u'Twitter for Android', extended_entities={u'media': [{u'expanded_url': u'http://twitter.com/chloe_mala/status/579802034641244160/photo/1', u'display_url': u'pic.twitter.com/XcwMi4P1oR', u'url': u'http://t.co/XcwMi4P1oR', u'media_url_https': u'https://pbs.twimg.com/media/CAve3UZXIAAYRev.jpg', u'id_str': u'579802018996494336', u'sizes': {u'small': {u'h': 191, u'resize': u'fit', u'w': 340}, u'large': {u'h': 576, u'resize': u'fit', u'w': 1024}, u'medium': {u'h': 337, u'resize': u'fit', u'w': 600}, u'thumb': {u'h': 150, u'resize': u'crop', u'w': 150}}, u'indices': [112, 134], u'type': u'photo', u'id': 579802018996494336, u'media_url': u'http://pbs.twimg.com/media/CAve3UZXIAAYRev.jpg'}, {u'expanded_url': u'http://twitter.com/chloe_mala/status/579802034641244160/photo/1', u'display_url': u'pic.twitter.com/XcwMi4P1oR', u'url': u'http://t.co/XcwMi4P1oR', u'media_url_https': u'https://pbs.twimg.com/media/CAve3zcWkAAyLm_.jpg', u'id_str': u'579802027330539520', u'sizes': {u'small': {u'h': 191, u'resize': u'fit', u'w': 340}, u'large': {u'h': 576, u'resize': u'fit', u'w': 1024}, u'medium': {u'h': 337, u'resize': u'fit', u'w': 600}, u'thumb': {u'h': 150, u'resize': u'crop', u'w': 150}}, u'indices': [112, 134], u'type': u'photo', u'id': 579802027330539520, u'media_url': u'http://pbs.twimg.com/media/CAve3zcWkAAyLm_.jpg'}]}, retweeted=False),\n",
       " Status(contributors=None, truncated=False, text=u\"@EndometriosisUK check out my new endo tattoo on my profile.. my 1st tattoo. Now I'm always wearing yellow to show that I am an #endowarrior\", in_reply_to_status_id=None, id=579800947372720128, favorite_count=0, _api=<tweepy.api.API object at 0x10c070f90>, author=User(follow_request_sent=False, profile_use_background_image=True, _json={u'follow_request_sent': False, u'profile_use_background_image': True, u'profile_text_color': u'333333', u'default_profile_image': False, u'id': 3097897493, u'profile_background_image_url_https': u'https://abs.twimg.com/images/themes/theme1/bg.png', u'verified': False, u'profile_location': None, u'profile_image_url_https': u'https://pbs.twimg.com/profile_images/578691022630309888/q1098UuJ_normal.jpeg', u'profile_sidebar_fill_color': u'DDEEF6', u'entities': {u'description': {u'urls': []}}, u'followers_count': 17, u'profile_sidebar_border_color': u'C0DEED', u'id_str': u'3097897493', u'profile_background_color': u'C0DEED', u'listed_count': 0, u'is_translation_enabled': False, u'utc_offset': None, u'statuses_count': 18, u'description': u\"insta: malahicks.mh .....my names Mala. I live in Scunthorpe. An 18yo girl who doesn't enjoy going out to drink. I'm an endometriosis warrior and proud of it!!!\", u'friends_count': 56, u'location': u'', u'profile_link_color': u'0084B4', u'profile_image_url': u'http://pbs.twimg.com/profile_images/578691022630309888/q1098UuJ_normal.jpeg', u'following': False, u'geo_enabled': False, u'profile_banner_url': u'https://pbs.twimg.com/profile_banners/3097897493/1427070598', u'profile_background_image_url': u'http://abs.twimg.com/images/themes/theme1/bg.png', u'name': u'Mala Chloe', u'lang': u'en', u'profile_background_tile': False, u'favourites_count': 1, u'screen_name': u'chloe_mala', u'notifications': False, u'url': None, u'created_at': u'Thu Mar 19 22:51:59 +0000 2015', u'contributors_enabled': False, u'time_zone': None, u'protected': False, u'default_profile': True, u'is_translator': False}, time_zone=None, id=3097897493, _api=<tweepy.api.API object at 0x10c070f90>, verified=False, profile_location=None, profile_image_url_https=u'https://pbs.twimg.com/profile_images/578691022630309888/q1098UuJ_normal.jpeg', profile_sidebar_fill_color=u'DDEEF6', is_translator=False, geo_enabled=False, entities={u'description': {u'urls': []}}, followers_count=17, protected=False, id_str=u'3097897493', default_profile_image=False, listed_count=0, lang=u'en', utc_offset=None, statuses_count=18, description=u\"insta: malahicks.mh .....my names Mala. I live in Scunthorpe. An 18yo girl who doesn't enjoy going out to drink. I'm an endometriosis warrior and proud of it!!!\", friends_count=56, profile_link_color=u'0084B4', profile_image_url=u'http://pbs.twimg.com/profile_images/578691022630309888/q1098UuJ_normal.jpeg', notifications=False, favourites_count=1, profile_background_image_url_https=u'https://abs.twimg.com/images/themes/theme1/bg.png', profile_background_color=u'C0DEED', profile_banner_url=u'https://pbs.twimg.com/profile_banners/3097897493/1427070598', profile_background_image_url=u'http://abs.twimg.com/images/themes/theme1/bg.png', screen_name=u'chloe_mala', is_translation_enabled=False, profile_background_tile=False, profile_text_color=u'333333', name=u'Mala Chloe', url=None, created_at=datetime.datetime(2015, 3, 19, 22, 51, 59), contributors_enabled=False, location=u'', profile_sidebar_border_color=u'C0DEED', default_profile=True, following=False), _json={u'contributors': None, u'truncated': False, u'text': u\"@EndometriosisUK check out my new endo tattoo on my profile.. my 1st tattoo. Now I'm always wearing yellow to show that I am an #endowarrior\", u'in_reply_to_status_id': None, u'id': 579800947372720128, u'favorite_count': 0, u'source': u'<a href=\"http://twitter.com/download/android\" rel=\"nofollow\">Twitter for Android</a>', u'retweeted': False, u'coordinates': None, u'entities': {u'symbols': [], u'user_mentions': [{u'id': 78871770, u'indices': [0, 16], u'id_str': u'78871770', u'screen_name': u'EndometriosisUK', u'name': u'Endometriosis UK'}], u'hashtags': [{u'indices': [128, 140], u'text': u'endowarrior'}], u'urls': []}, u'in_reply_to_screen_name': u'EndometriosisUK', u'id_str': u'579800947372720128', u'retweet_count': 0, u'in_reply_to_user_id': 78871770, u'favorited': False, u'user': {u'follow_request_sent': False, u'profile_use_background_image': True, u'profile_text_color': u'333333', u'default_profile_image': False, u'id': 3097897493, u'profile_background_image_url_https': u'https://abs.twimg.com/images/themes/theme1/bg.png', u'verified': False, u'profile_location': None, u'profile_image_url_https': u'https://pbs.twimg.com/profile_images/578691022630309888/q1098UuJ_normal.jpeg', u'profile_sidebar_fill_color': u'DDEEF6', u'entities': {u'description': {u'urls': []}}, u'followers_count': 17, u'profile_sidebar_border_color': u'C0DEED', u'id_str': u'3097897493', u'profile_background_color': u'C0DEED', u'listed_count': 0, u'is_translation_enabled': False, u'utc_offset': None, u'statuses_count': 18, u'description': u\"insta: malahicks.mh .....my names Mala. I live in Scunthorpe. An 18yo girl who doesn't enjoy going out to drink. I'm an endometriosis warrior and proud of it!!!\", u'friends_count': 56, u'location': u'', u'profile_link_color': u'0084B4', u'profile_image_url': u'http://pbs.twimg.com/profile_images/578691022630309888/q1098UuJ_normal.jpeg', u'following': False, u'geo_enabled': False, u'profile_banner_url': u'https://pbs.twimg.com/profile_banners/3097897493/1427070598', u'profile_background_image_url': u'http://abs.twimg.com/images/themes/theme1/bg.png', u'name': u'Mala Chloe', u'lang': u'en', u'profile_background_tile': False, u'favourites_count': 1, u'screen_name': u'chloe_mala', u'notifications': False, u'url': None, u'created_at': u'Thu Mar 19 22:51:59 +0000 2015', u'contributors_enabled': False, u'time_zone': None, u'protected': False, u'default_profile': True, u'is_translator': False}, u'geo': None, u'in_reply_to_user_id_str': u'78871770', u'lang': u'en', u'created_at': u'Mon Mar 23 00:24:52 +0000 2015', u'in_reply_to_status_id_str': None, u'place': None}, coordinates=None, entities={u'symbols': [], u'user_mentions': [{u'id': 78871770, u'indices': [0, 16], u'id_str': u'78871770', u'screen_name': u'EndometriosisUK', u'name': u'Endometriosis UK'}], u'hashtags': [{u'indices': [128, 140], u'text': u'endowarrior'}], u'urls': []}, in_reply_to_screen_name=u'EndometriosisUK', id_str=u'579800947372720128', retweet_count=0, in_reply_to_user_id=78871770, favorited=False, source_url=u'http://twitter.com/download/android', user=User(follow_request_sent=False, profile_use_background_image=True, _json={u'follow_request_sent': False, u'profile_use_background_image': True, u'profile_text_color': u'333333', u'default_profile_image': False, u'id': 3097897493, u'profile_background_image_url_https': u'https://abs.twimg.com/images/themes/theme1/bg.png', u'verified': False, u'profile_location': None, u'profile_image_url_https': u'https://pbs.twimg.com/profile_images/578691022630309888/q1098UuJ_normal.jpeg', u'profile_sidebar_fill_color': u'DDEEF6', u'entities': {u'description': {u'urls': []}}, u'followers_count': 17, u'profile_sidebar_border_color': u'C0DEED', u'id_str': u'3097897493', u'profile_background_color': u'C0DEED', u'listed_count': 0, u'is_translation_enabled': False, u'utc_offset': None, u'statuses_count': 18, u'description': u\"insta: malahicks.mh .....my names Mala. I live in Scunthorpe. An 18yo girl who doesn't enjoy going out to drink. I'm an endometriosis warrior and proud of it!!!\", u'friends_count': 56, u'location': u'', u'profile_link_color': u'0084B4', u'profile_image_url': u'http://pbs.twimg.com/profile_images/578691022630309888/q1098UuJ_normal.jpeg', u'following': False, u'geo_enabled': False, u'profile_banner_url': u'https://pbs.twimg.com/profile_banners/3097897493/1427070598', u'profile_background_image_url': u'http://abs.twimg.com/images/themes/theme1/bg.png', u'name': u'Mala Chloe', u'lang': u'en', u'profile_background_tile': False, u'favourites_count': 1, u'screen_name': u'chloe_mala', u'notifications': False, u'url': None, u'created_at': u'Thu Mar 19 22:51:59 +0000 2015', u'contributors_enabled': False, u'time_zone': None, u'protected': False, u'default_profile': True, u'is_translator': False}, time_zone=None, id=3097897493, _api=<tweepy.api.API object at 0x10c070f90>, verified=False, profile_location=None, profile_image_url_https=u'https://pbs.twimg.com/profile_images/578691022630309888/q1098UuJ_normal.jpeg', profile_sidebar_fill_color=u'DDEEF6', is_translator=False, geo_enabled=False, entities={u'description': {u'urls': []}}, followers_count=17, protected=False, id_str=u'3097897493', default_profile_image=False, listed_count=0, lang=u'en', utc_offset=None, statuses_count=18, description=u\"insta: malahicks.mh .....my names Mala. I live in Scunthorpe. An 18yo girl who doesn't enjoy going out to drink. I'm an endometriosis warrior and proud of it!!!\", friends_count=56, profile_link_color=u'0084B4', profile_image_url=u'http://pbs.twimg.com/profile_images/578691022630309888/q1098UuJ_normal.jpeg', notifications=False, favourites_count=1, profile_background_image_url_https=u'https://abs.twimg.com/images/themes/theme1/bg.png', profile_background_color=u'C0DEED', profile_banner_url=u'https://pbs.twimg.com/profile_banners/3097897493/1427070598', profile_background_image_url=u'http://abs.twimg.com/images/themes/theme1/bg.png', screen_name=u'chloe_mala', is_translation_enabled=False, profile_background_tile=False, profile_text_color=u'333333', name=u'Mala Chloe', url=None, created_at=datetime.datetime(2015, 3, 19, 22, 51, 59), contributors_enabled=False, location=u'', profile_sidebar_border_color=u'C0DEED', default_profile=True, following=False), geo=None, in_reply_to_user_id_str=u'78871770', lang=u'en', created_at=datetime.datetime(2015, 3, 23, 0, 24, 52), in_reply_to_status_id_str=None, place=None, source=u'Twitter for Android', retweeted=False),\n",
       " Status(contributors=None, truncated=False, text=u\"Primark Special ... when you spend so much time in pj's because of a chronic illness. . It's nice to treat yourself x http://t.co/h8HGLjQBlu\", in_reply_to_status_id=None, id=579800083690070016, favorite_count=0, _api=<tweepy.api.API object at 0x10c070f90>, author=User(follow_request_sent=False, profile_use_background_image=True, _json={u'follow_request_sent': False, u'profile_use_background_image': True, u'profile_text_color': u'333333', u'default_profile_image': False, u'id': 3097897493, u'profile_background_image_url_https': u'https://abs.twimg.com/images/themes/theme1/bg.png', u'verified': False, u'profile_location': None, u'profile_image_url_https': u'https://pbs.twimg.com/profile_images/578691022630309888/q1098UuJ_normal.jpeg', u'profile_sidebar_fill_color': u'DDEEF6', u'entities': {u'description': {u'urls': []}}, u'followers_count': 17, u'profile_sidebar_border_color': u'C0DEED', u'id_str': u'3097897493', u'profile_background_color': u'C0DEED', u'listed_count': 0, u'is_translation_enabled': False, u'utc_offset': None, u'statuses_count': 18, u'description': u\"insta: malahicks.mh .....my names Mala. I live in Scunthorpe. An 18yo girl who doesn't enjoy going out to drink. I'm an endometriosis warrior and proud of it!!!\", u'friends_count': 56, u'location': u'', u'profile_link_color': u'0084B4', u'profile_image_url': u'http://pbs.twimg.com/profile_images/578691022630309888/q1098UuJ_normal.jpeg', u'following': False, u'geo_enabled': False, u'profile_banner_url': u'https://pbs.twimg.com/profile_banners/3097897493/1427070598', u'profile_background_image_url': u'http://abs.twimg.com/images/themes/theme1/bg.png', u'name': u'Mala Chloe', u'lang': u'en', u'profile_background_tile': False, u'favourites_count': 1, u'screen_name': u'chloe_mala', u'notifications': False, u'url': None, u'created_at': u'Thu Mar 19 22:51:59 +0000 2015', u'contributors_enabled': False, u'time_zone': None, u'protected': False, u'default_profile': True, u'is_translator': False}, time_zone=None, id=3097897493, _api=<tweepy.api.API object at 0x10c070f90>, verified=False, profile_location=None, profile_image_url_https=u'https://pbs.twimg.com/profile_images/578691022630309888/q1098UuJ_normal.jpeg', profile_sidebar_fill_color=u'DDEEF6', is_translator=False, geo_enabled=False, entities={u'description': {u'urls': []}}, followers_count=17, protected=False, id_str=u'3097897493', default_profile_image=False, listed_count=0, lang=u'en', utc_offset=None, statuses_count=18, description=u\"insta: malahicks.mh .....my names Mala. I live in Scunthorpe. An 18yo girl who doesn't enjoy going out to drink. I'm an endometriosis warrior and proud of it!!!\", friends_count=56, profile_link_color=u'0084B4', profile_image_url=u'http://pbs.twimg.com/profile_images/578691022630309888/q1098UuJ_normal.jpeg', notifications=False, favourites_count=1, profile_background_image_url_https=u'https://abs.twimg.com/images/themes/theme1/bg.png', profile_background_color=u'C0DEED', profile_banner_url=u'https://pbs.twimg.com/profile_banners/3097897493/1427070598', profile_background_image_url=u'http://abs.twimg.com/images/themes/theme1/bg.png', screen_name=u'chloe_mala', is_translation_enabled=False, profile_background_tile=False, profile_text_color=u'333333', name=u'Mala Chloe', url=None, created_at=datetime.datetime(2015, 3, 19, 22, 51, 59), contributors_enabled=False, location=u'', profile_sidebar_border_color=u'C0DEED', default_profile=True, following=False), _json={u'contributors': None, u'truncated': False, u'text': u\"Primark Special ... when you spend so much time in pj's because of a chronic illness. . It's nice to treat yourself x http://t.co/h8HGLjQBlu\", u'in_reply_to_status_id': None, u'id': 579800083690070016, u'favorite_count': 0, u'source': u'<a href=\"http://twitter.com/download/android\" rel=\"nofollow\">Twitter for Android</a>', u'retweeted': False, u'coordinates': None, u'entities': {u'symbols': [], u'user_mentions': [], u'hashtags': [], u'urls': [], u'media': [{u'expanded_url': u'http://twitter.com/chloe_mala/status/579800083690070016/photo/1', u'display_url': u'pic.twitter.com/h8HGLjQBlu', u'url': u'http://t.co/h8HGLjQBlu', u'media_url_https': u'https://pbs.twimg.com/media/CAvdGTXWoAELjge.jpg', u'id_str': u'579800077394419713', u'sizes': {u'small': {u'h': 604, u'resize': u'fit', u'w': 340}, u'large': {u'h': 1024, u'resize': u'fit', u'w': 576}, u'medium': {u'h': 1024, u'resize': u'fit', u'w': 576}, u'thumb': {u'h': 150, u'resize': u'crop', u'w': 150}}, u'indices': [118, 140], u'type': u'photo', u'id': 579800077394419713, u'media_url': u'http://pbs.twimg.com/media/CAvdGTXWoAELjge.jpg'}]}, u'in_reply_to_screen_name': None, u'id_str': u'579800083690070016', u'retweet_count': 0, u'in_reply_to_user_id': None, u'favorited': False, u'user': {u'follow_request_sent': False, u'profile_use_background_image': True, u'profile_text_color': u'333333', u'default_profile_image': False, u'id': 3097897493, u'profile_background_image_url_https': u'https://abs.twimg.com/images/themes/theme1/bg.png', u'verified': False, u'profile_location': None, u'profile_image_url_https': u'https://pbs.twimg.com/profile_images/578691022630309888/q1098UuJ_normal.jpeg', u'profile_sidebar_fill_color': u'DDEEF6', u'entities': {u'description': {u'urls': []}}, u'followers_count': 17, u'profile_sidebar_border_color': u'C0DEED', u'id_str': u'3097897493', u'profile_background_color': u'C0DEED', u'listed_count': 0, u'is_translation_enabled': False, u'utc_offset': None, u'statuses_count': 18, u'description': u\"insta: malahicks.mh .....my names Mala. I live in Scunthorpe. An 18yo girl who doesn't enjoy going out to drink. I'm an endometriosis warrior and proud of it!!!\", u'friends_count': 56, u'location': u'', u'profile_link_color': u'0084B4', u'profile_image_url': u'http://pbs.twimg.com/profile_images/578691022630309888/q1098UuJ_normal.jpeg', u'following': False, u'geo_enabled': False, u'profile_banner_url': u'https://pbs.twimg.com/profile_banners/3097897493/1427070598', u'profile_background_image_url': u'http://abs.twimg.com/images/themes/theme1/bg.png', u'name': u'Mala Chloe', u'lang': u'en', u'profile_background_tile': False, u'favourites_count': 1, u'screen_name': u'chloe_mala', u'notifications': False, u'url': None, u'created_at': u'Thu Mar 19 22:51:59 +0000 2015', u'contributors_enabled': False, u'time_zone': None, u'protected': False, u'default_profile': True, u'is_translator': False}, u'geo': None, u'in_reply_to_user_id_str': None, u'possibly_sensitive': False, u'lang': u'en', u'created_at': u'Mon Mar 23 00:21:26 +0000 2015', u'in_reply_to_status_id_str': None, u'place': None, u'extended_entities': {u'media': [{u'expanded_url': u'http://twitter.com/chloe_mala/status/579800083690070016/photo/1', u'display_url': u'pic.twitter.com/h8HGLjQBlu', u'url': u'http://t.co/h8HGLjQBlu', u'media_url_https': u'https://pbs.twimg.com/media/CAvdGTXWoAELjge.jpg', u'id_str': u'579800077394419713', u'sizes': {u'small': {u'h': 604, u'resize': u'fit', u'w': 340}, u'large': {u'h': 1024, u'resize': u'fit', u'w': 576}, u'medium': {u'h': 1024, u'resize': u'fit', u'w': 576}, u'thumb': {u'h': 150, u'resize': u'crop', u'w': 150}}, u'indices': [118, 140], u'type': u'photo', u'id': 579800077394419713, u'media_url': u'http://pbs.twimg.com/media/CAvdGTXWoAELjge.jpg'}]}}, coordinates=None, entities={u'symbols': [], u'user_mentions': [], u'hashtags': [], u'urls': [], u'media': [{u'expanded_url': u'http://twitter.com/chloe_mala/status/579800083690070016/photo/1', u'display_url': u'pic.twitter.com/h8HGLjQBlu', u'url': u'http://t.co/h8HGLjQBlu', u'media_url_https': u'https://pbs.twimg.com/media/CAvdGTXWoAELjge.jpg', u'id_str': u'579800077394419713', u'sizes': {u'small': {u'h': 604, u'resize': u'fit', u'w': 340}, u'large': {u'h': 1024, u'resize': u'fit', u'w': 576}, u'medium': {u'h': 1024, u'resize': u'fit', u'w': 576}, u'thumb': {u'h': 150, u'resize': u'crop', u'w': 150}}, u'indices': [118, 140], u'type': u'photo', u'id': 579800077394419713, u'media_url': u'http://pbs.twimg.com/media/CAvdGTXWoAELjge.jpg'}]}, in_reply_to_screen_name=None, id_str=u'579800083690070016', retweet_count=0, in_reply_to_user_id=None, favorited=False, source_url=u'http://twitter.com/download/android', user=User(follow_request_sent=False, profile_use_background_image=True, _json={u'follow_request_sent': False, u'profile_use_background_image': True, u'profile_text_color': u'333333', u'default_profile_image': False, u'id': 3097897493, u'profile_background_image_url_https': u'https://abs.twimg.com/images/themes/theme1/bg.png', u'verified': False, u'profile_location': None, u'profile_image_url_https': u'https://pbs.twimg.com/profile_images/578691022630309888/q1098UuJ_normal.jpeg', u'profile_sidebar_fill_color': u'DDEEF6', u'entities': {u'description': {u'urls': []}}, u'followers_count': 17, u'profile_sidebar_border_color': u'C0DEED', u'id_str': u'3097897493', u'profile_background_color': u'C0DEED', u'listed_count': 0, u'is_translation_enabled': False, u'utc_offset': None, u'statuses_count': 18, u'description': u\"insta: malahicks.mh .....my names Mala. I live in Scunthorpe. An 18yo girl who doesn't enjoy going out to drink. I'm an endometriosis warrior and proud of it!!!\", u'friends_count': 56, u'location': u'', u'profile_link_color': u'0084B4', u'profile_image_url': u'http://pbs.twimg.com/profile_images/578691022630309888/q1098UuJ_normal.jpeg', u'following': False, u'geo_enabled': False, u'profile_banner_url': u'https://pbs.twimg.com/profile_banners/3097897493/1427070598', u'profile_background_image_url': u'http://abs.twimg.com/images/themes/theme1/bg.png', u'name': u'Mala Chloe', u'lang': u'en', u'profile_background_tile': False, u'favourites_count': 1, u'screen_name': u'chloe_mala', u'notifications': False, u'url': None, u'created_at': u'Thu Mar 19 22:51:59 +0000 2015', u'contributors_enabled': False, u'time_zone': None, u'protected': False, u'default_profile': True, u'is_translator': False}, time_zone=None, id=3097897493, _api=<tweepy.api.API object at 0x10c070f90>, verified=False, profile_location=None, profile_image_url_https=u'https://pbs.twimg.com/profile_images/578691022630309888/q1098UuJ_normal.jpeg', profile_sidebar_fill_color=u'DDEEF6', is_translator=False, geo_enabled=False, entities={u'description': {u'urls': []}}, followers_count=17, protected=False, id_str=u'3097897493', default_profile_image=False, listed_count=0, lang=u'en', utc_offset=None, statuses_count=18, description=u\"insta: malahicks.mh .....my names Mala. I live in Scunthorpe. An 18yo girl who doesn't enjoy going out to drink. I'm an endometriosis warrior and proud of it!!!\", friends_count=56, profile_link_color=u'0084B4', profile_image_url=u'http://pbs.twimg.com/profile_images/578691022630309888/q1098UuJ_normal.jpeg', notifications=False, favourites_count=1, profile_background_image_url_https=u'https://abs.twimg.com/images/themes/theme1/bg.png', profile_background_color=u'C0DEED', profile_banner_url=u'https://pbs.twimg.com/profile_banners/3097897493/1427070598', profile_background_image_url=u'http://abs.twimg.com/images/themes/theme1/bg.png', screen_name=u'chloe_mala', is_translation_enabled=False, profile_background_tile=False, profile_text_color=u'333333', name=u'Mala Chloe', url=None, created_at=datetime.datetime(2015, 3, 19, 22, 51, 59), contributors_enabled=False, location=u'', profile_sidebar_border_color=u'C0DEED', default_profile=True, following=False), geo=None, in_reply_to_user_id_str=None, possibly_sensitive=False, lang=u'en', created_at=datetime.datetime(2015, 3, 23, 0, 21, 26), in_reply_to_status_id_str=None, place=None, source=u'Twitter for Android', extended_entities={u'media': [{u'expanded_url': u'http://twitter.com/chloe_mala/status/579800083690070016/photo/1', u'display_url': u'pic.twitter.com/h8HGLjQBlu', u'url': u'http://t.co/h8HGLjQBlu', u'media_url_https': u'https://pbs.twimg.com/media/CAvdGTXWoAELjge.jpg', u'id_str': u'579800077394419713', u'sizes': {u'small': {u'h': 604, u'resize': u'fit', u'w': 340}, u'large': {u'h': 1024, u'resize': u'fit', u'w': 576}, u'medium': {u'h': 1024, u'resize': u'fit', u'w': 576}, u'thumb': {u'h': 150, u'resize': u'crop', u'w': 150}}, u'indices': [118, 140], u'type': u'photo', u'id': 579800077394419713, u'media_url': u'http://pbs.twimg.com/media/CAvdGTXWoAELjge.jpg'}]}, retweeted=False),\n",
       " Status(contributors=None, truncated=False, text=u'Had a rough time with #endometriosis this weekend... so glad I was at mums for my baby girl Pepper to cheer me up \\u2661\\u2661 http://t.co/KtThDqMXVb', in_reply_to_status_id=None, id=579799195823017984, favorite_count=0, _api=<tweepy.api.API object at 0x10c070f90>, author=User(follow_request_sent=False, profile_use_background_image=True, _json={u'follow_request_sent': False, u'profile_use_background_image': True, u'profile_text_color': u'333333', u'default_profile_image': False, u'id': 3097897493, u'profile_background_image_url_https': u'https://abs.twimg.com/images/themes/theme1/bg.png', u'verified': False, u'profile_location': None, u'profile_image_url_https': u'https://pbs.twimg.com/profile_images/578691022630309888/q1098UuJ_normal.jpeg', u'profile_sidebar_fill_color': u'DDEEF6', u'entities': {u'description': {u'urls': []}}, u'followers_count': 17, u'profile_sidebar_border_color': u'C0DEED', u'id_str': u'3097897493', u'profile_background_color': u'C0DEED', u'listed_count': 0, u'is_translation_enabled': False, u'utc_offset': None, u'statuses_count': 18, u'description': u\"insta: malahicks.mh .....my names Mala. I live in Scunthorpe. An 18yo girl who doesn't enjoy going out to drink. I'm an endometriosis warrior and proud of it!!!\", u'friends_count': 56, u'location': u'', u'profile_link_color': u'0084B4', u'profile_image_url': u'http://pbs.twimg.com/profile_images/578691022630309888/q1098UuJ_normal.jpeg', u'following': False, u'geo_enabled': False, u'profile_banner_url': u'https://pbs.twimg.com/profile_banners/3097897493/1427070598', u'profile_background_image_url': u'http://abs.twimg.com/images/themes/theme1/bg.png', u'name': u'Mala Chloe', u'lang': u'en', u'profile_background_tile': False, u'favourites_count': 1, u'screen_name': u'chloe_mala', u'notifications': False, u'url': None, u'created_at': u'Thu Mar 19 22:51:59 +0000 2015', u'contributors_enabled': False, u'time_zone': None, u'protected': False, u'default_profile': True, u'is_translator': False}, time_zone=None, id=3097897493, _api=<tweepy.api.API object at 0x10c070f90>, verified=False, profile_location=None, profile_image_url_https=u'https://pbs.twimg.com/profile_images/578691022630309888/q1098UuJ_normal.jpeg', profile_sidebar_fill_color=u'DDEEF6', is_translator=False, geo_enabled=False, entities={u'description': {u'urls': []}}, followers_count=17, protected=False, id_str=u'3097897493', default_profile_image=False, listed_count=0, lang=u'en', utc_offset=None, statuses_count=18, description=u\"insta: malahicks.mh .....my names Mala. I live in Scunthorpe. An 18yo girl who doesn't enjoy going out to drink. I'm an endometriosis warrior and proud of it!!!\", friends_count=56, profile_link_color=u'0084B4', profile_image_url=u'http://pbs.twimg.com/profile_images/578691022630309888/q1098UuJ_normal.jpeg', notifications=False, favourites_count=1, profile_background_image_url_https=u'https://abs.twimg.com/images/themes/theme1/bg.png', profile_background_color=u'C0DEED', profile_banner_url=u'https://pbs.twimg.com/profile_banners/3097897493/1427070598', profile_background_image_url=u'http://abs.twimg.com/images/themes/theme1/bg.png', screen_name=u'chloe_mala', is_translation_enabled=False, profile_background_tile=False, profile_text_color=u'333333', name=u'Mala Chloe', url=None, created_at=datetime.datetime(2015, 3, 19, 22, 51, 59), contributors_enabled=False, location=u'', profile_sidebar_border_color=u'C0DEED', default_profile=True, following=False), _json={u'contributors': None, u'truncated': False, u'text': u'Had a rough time with #endometriosis this weekend... so glad I was at mums for my baby girl Pepper to cheer me up \\u2661\\u2661 http://t.co/KtThDqMXVb', u'in_reply_to_status_id': None, u'id': 579799195823017984, u'favorite_count': 0, u'source': u'<a href=\"http://twitter.com/download/android\" rel=\"nofollow\">Twitter for Android</a>', u'retweeted': False, u'coordinates': None, u'entities': {u'symbols': [], u'user_mentions': [], u'hashtags': [{u'indices': [22, 36], u'text': u'endometriosis'}], u'urls': [], u'media': [{u'expanded_url': u'http://twitter.com/chloe_mala/status/579799195823017984/photo/1', u'display_url': u'pic.twitter.com/KtThDqMXVb', u'url': u'http://t.co/KtThDqMXVb', u'media_url_https': u'https://pbs.twimg.com/media/CAvcSpZXEAEYlNk.jpg', u'id_str': u'579799189955219457', u'sizes': {u'small': {u'h': 340, u'resize': u'fit', u'w': 340}, u'large': {u'h': 720, u'resize': u'fit', u'w': 720}, u'medium': {u'h': 600, u'resize': u'fit', u'w': 600}, u'thumb': {u'h': 150, u'resize': u'crop', u'w': 150}}, u'indices': [117, 139], u'type': u'photo', u'id': 579799189955219457, u'media_url': u'http://pbs.twimg.com/media/CAvcSpZXEAEYlNk.jpg'}]}, u'in_reply_to_screen_name': None, u'id_str': u'579799195823017984', u'retweet_count': 0, u'in_reply_to_user_id': None, u'favorited': False, u'user': {u'follow_request_sent': False, u'profile_use_background_image': True, u'profile_text_color': u'333333', u'default_profile_image': False, u'id': 3097897493, u'profile_background_image_url_https': u'https://abs.twimg.com/images/themes/theme1/bg.png', u'verified': False, u'profile_location': None, u'profile_image_url_https': u'https://pbs.twimg.com/profile_images/578691022630309888/q1098UuJ_normal.jpeg', u'profile_sidebar_fill_color': u'DDEEF6', u'entities': {u'description': {u'urls': []}}, u'followers_count': 17, u'profile_sidebar_border_color': u'C0DEED', u'id_str': u'3097897493', u'profile_background_color': u'C0DEED', u'listed_count': 0, u'is_translation_enabled': False, u'utc_offset': None, u'statuses_count': 18, u'description': u\"insta: malahicks.mh .....my names Mala. I live in Scunthorpe. An 18yo girl who doesn't enjoy going out to drink. I'm an endometriosis warrior and proud of it!!!\", u'friends_count': 56, u'location': u'', u'profile_link_color': u'0084B4', u'profile_image_url': u'http://pbs.twimg.com/profile_images/578691022630309888/q1098UuJ_normal.jpeg', u'following': False, u'geo_enabled': False, u'profile_banner_url': u'https://pbs.twimg.com/profile_banners/3097897493/1427070598', u'profile_background_image_url': u'http://abs.twimg.com/images/themes/theme1/bg.png', u'name': u'Mala Chloe', u'lang': u'en', u'profile_background_tile': False, u'favourites_count': 1, u'screen_name': u'chloe_mala', u'notifications': False, u'url': None, u'created_at': u'Thu Mar 19 22:51:59 +0000 2015', u'contributors_enabled': False, u'time_zone': None, u'protected': False, u'default_profile': True, u'is_translator': False}, u'geo': None, u'in_reply_to_user_id_str': None, u'possibly_sensitive': False, u'lang': u'en', u'created_at': u'Mon Mar 23 00:17:55 +0000 2015', u'in_reply_to_status_id_str': None, u'place': None, u'extended_entities': {u'media': [{u'expanded_url': u'http://twitter.com/chloe_mala/status/579799195823017984/photo/1', u'display_url': u'pic.twitter.com/KtThDqMXVb', u'url': u'http://t.co/KtThDqMXVb', u'media_url_https': u'https://pbs.twimg.com/media/CAvcSpZXEAEYlNk.jpg', u'id_str': u'579799189955219457', u'sizes': {u'small': {u'h': 340, u'resize': u'fit', u'w': 340}, u'large': {u'h': 720, u'resize': u'fit', u'w': 720}, u'medium': {u'h': 600, u'resize': u'fit', u'w': 600}, u'thumb': {u'h': 150, u'resize': u'crop', u'w': 150}}, u'indices': [117, 139], u'type': u'photo', u'id': 579799189955219457, u'media_url': u'http://pbs.twimg.com/media/CAvcSpZXEAEYlNk.jpg'}]}}, coordinates=None, entities={u'symbols': [], u'user_mentions': [], u'hashtags': [{u'indices': [22, 36], u'text': u'endometriosis'}], u'urls': [], u'media': [{u'expanded_url': u'http://twitter.com/chloe_mala/status/579799195823017984/photo/1', u'display_url': u'pic.twitter.com/KtThDqMXVb', u'url': u'http://t.co/KtThDqMXVb', u'media_url_https': u'https://pbs.twimg.com/media/CAvcSpZXEAEYlNk.jpg', u'id_str': u'579799189955219457', u'sizes': {u'small': {u'h': 340, u'resize': u'fit', u'w': 340}, u'large': {u'h': 720, u'resize': u'fit', u'w': 720}, u'medium': {u'h': 600, u'resize': u'fit', u'w': 600}, u'thumb': {u'h': 150, u'resize': u'crop', u'w': 150}}, u'indices': [117, 139], u'type': u'photo', u'id': 579799189955219457, u'media_url': u'http://pbs.twimg.com/media/CAvcSpZXEAEYlNk.jpg'}]}, in_reply_to_screen_name=None, id_str=u'579799195823017984', retweet_count=0, in_reply_to_user_id=None, favorited=False, source_url=u'http://twitter.com/download/android', user=User(follow_request_sent=False, profile_use_background_image=True, _json={u'follow_request_sent': False, u'profile_use_background_image': True, u'profile_text_color': u'333333', u'default_profile_image': False, u'id': 3097897493, u'profile_background_image_url_https': u'https://abs.twimg.com/images/themes/theme1/bg.png', u'verified': False, u'profile_location': None, u'profile_image_url_https': u'https://pbs.twimg.com/profile_images/578691022630309888/q1098UuJ_normal.jpeg', u'profile_sidebar_fill_color': u'DDEEF6', u'entities': {u'description': {u'urls': []}}, u'followers_count': 17, u'profile_sidebar_border_color': u'C0DEED', u'id_str': u'3097897493', u'profile_background_color': u'C0DEED', u'listed_count': 0, u'is_translation_enabled': False, u'utc_offset': None, u'statuses_count': 18, u'description': u\"insta: malahicks.mh .....my names Mala. I live in Scunthorpe. An 18yo girl who doesn't enjoy going out to drink. I'm an endometriosis warrior and proud of it!!!\", u'friends_count': 56, u'location': u'', u'profile_link_color': u'0084B4', u'profile_image_url': u'http://pbs.twimg.com/profile_images/578691022630309888/q1098UuJ_normal.jpeg', u'following': False, u'geo_enabled': False, u'profile_banner_url': u'https://pbs.twimg.com/profile_banners/3097897493/1427070598', u'profile_background_image_url': u'http://abs.twimg.com/images/themes/theme1/bg.png', u'name': u'Mala Chloe', u'lang': u'en', u'profile_background_tile': False, u'favourites_count': 1, u'screen_name': u'chloe_mala', u'notifications': False, u'url': None, u'created_at': u'Thu Mar 19 22:51:59 +0000 2015', u'contributors_enabled': False, u'time_zone': None, u'protected': False, u'default_profile': True, u'is_translator': False}, time_zone=None, id=3097897493, _api=<tweepy.api.API object at 0x10c070f90>, verified=False, profile_location=None, profile_image_url_https=u'https://pbs.twimg.com/profile_images/578691022630309888/q1098UuJ_normal.jpeg', profile_sidebar_fill_color=u'DDEEF6', is_translator=False, geo_enabled=False, entities={u'description': {u'urls': []}}, followers_count=17, protected=False, id_str=u'3097897493', default_profile_image=False, listed_count=0, lang=u'en', utc_offset=None, statuses_count=18, description=u\"insta: malahicks.mh .....my names Mala. I live in Scunthorpe. An 18yo girl who doesn't enjoy going out to drink. I'm an endometriosis warrior and proud of it!!!\", friends_count=56, profile_link_color=u'0084B4', profile_image_url=u'http://pbs.twimg.com/profile_images/578691022630309888/q1098UuJ_normal.jpeg', notifications=False, favourites_count=1, profile_background_image_url_https=u'https://abs.twimg.com/images/themes/theme1/bg.png', profile_background_color=u'C0DEED', profile_banner_url=u'https://pbs.twimg.com/profile_banners/3097897493/1427070598', profile_background_image_url=u'http://abs.twimg.com/images/themes/theme1/bg.png', screen_name=u'chloe_mala', is_translation_enabled=False, profile_background_tile=False, profile_text_color=u'333333', name=u'Mala Chloe', url=None, created_at=datetime.datetime(2015, 3, 19, 22, 51, 59), contributors_enabled=False, location=u'', profile_sidebar_border_color=u'C0DEED', default_profile=True, following=False), geo=None, in_reply_to_user_id_str=None, possibly_sensitive=False, lang=u'en', created_at=datetime.datetime(2015, 3, 23, 0, 17, 55), in_reply_to_status_id_str=None, place=None, source=u'Twitter for Android', extended_entities={u'media': [{u'expanded_url': u'http://twitter.com/chloe_mala/status/579799195823017984/photo/1', u'display_url': u'pic.twitter.com/KtThDqMXVb', u'url': u'http://t.co/KtThDqMXVb', u'media_url_https': u'https://pbs.twimg.com/media/CAvcSpZXEAEYlNk.jpg', u'id_str': u'579799189955219457', u'sizes': {u'small': {u'h': 340, u'resize': u'fit', u'w': 340}, u'large': {u'h': 720, u'resize': u'fit', u'w': 720}, u'medium': {u'h': 600, u'resize': u'fit', u'w': 600}, u'thumb': {u'h': 150, u'resize': u'crop', u'w': 150}}, u'indices': [117, 139], u'type': u'photo', u'id': 579799189955219457, u'media_url': u'http://pbs.twimg.com/media/CAvcSpZXEAEYlNk.jpg'}]}, retweeted=False),\n",
       " Status(contributors=None, truncated=False, text=u\"Close up of my #endometriosis #endometriosisawareness #tattoo my own design and I'm in love with it #happyspoonie http://t.co/7iupBpnmgt\", in_reply_to_status_id=None, id=579798502038966273, favorite_count=0, _api=<tweepy.api.API object at 0x10c070f90>, author=User(follow_request_sent=False, profile_use_background_image=True, _json={u'follow_request_sent': False, u'profile_use_background_image': True, u'profile_text_color': u'333333', u'default_profile_image': False, u'id': 3097897493, u'profile_background_image_url_https': u'https://abs.twimg.com/images/themes/theme1/bg.png', u'verified': False, u'profile_location': None, u'profile_image_url_https': u'https://pbs.twimg.com/profile_images/578691022630309888/q1098UuJ_normal.jpeg', u'profile_sidebar_fill_color': u'DDEEF6', u'entities': {u'description': {u'urls': []}}, u'followers_count': 17, u'profile_sidebar_border_color': u'C0DEED', u'id_str': u'3097897493', u'profile_background_color': u'C0DEED', u'listed_count': 0, u'is_translation_enabled': False, u'utc_offset': None, u'statuses_count': 18, u'description': u\"insta: malahicks.mh .....my names Mala. I live in Scunthorpe. An 18yo girl who doesn't enjoy going out to drink. I'm an endometriosis warrior and proud of it!!!\", u'friends_count': 56, u'location': u'', u'profile_link_color': u'0084B4', u'profile_image_url': u'http://pbs.twimg.com/profile_images/578691022630309888/q1098UuJ_normal.jpeg', u'following': False, u'geo_enabled': False, u'profile_banner_url': u'https://pbs.twimg.com/profile_banners/3097897493/1427070598', u'profile_background_image_url': u'http://abs.twimg.com/images/themes/theme1/bg.png', u'name': u'Mala Chloe', u'lang': u'en', u'profile_background_tile': False, u'favourites_count': 1, u'screen_name': u'chloe_mala', u'notifications': False, u'url': None, u'created_at': u'Thu Mar 19 22:51:59 +0000 2015', u'contributors_enabled': False, u'time_zone': None, u'protected': False, u'default_profile': True, u'is_translator': False}, time_zone=None, id=3097897493, _api=<tweepy.api.API object at 0x10c070f90>, verified=False, profile_location=None, profile_image_url_https=u'https://pbs.twimg.com/profile_images/578691022630309888/q1098UuJ_normal.jpeg', profile_sidebar_fill_color=u'DDEEF6', is_translator=False, geo_enabled=False, entities={u'description': {u'urls': []}}, followers_count=17, protected=False, id_str=u'3097897493', default_profile_image=False, listed_count=0, lang=u'en', utc_offset=None, statuses_count=18, description=u\"insta: malahicks.mh .....my names Mala. I live in Scunthorpe. An 18yo girl who doesn't enjoy going out to drink. I'm an endometriosis warrior and proud of it!!!\", friends_count=56, profile_link_color=u'0084B4', profile_image_url=u'http://pbs.twimg.com/profile_images/578691022630309888/q1098UuJ_normal.jpeg', notifications=False, favourites_count=1, profile_background_image_url_https=u'https://abs.twimg.com/images/themes/theme1/bg.png', profile_background_color=u'C0DEED', profile_banner_url=u'https://pbs.twimg.com/profile_banners/3097897493/1427070598', profile_background_image_url=u'http://abs.twimg.com/images/themes/theme1/bg.png', screen_name=u'chloe_mala', is_translation_enabled=False, profile_background_tile=False, profile_text_color=u'333333', name=u'Mala Chloe', url=None, created_at=datetime.datetime(2015, 3, 19, 22, 51, 59), contributors_enabled=False, location=u'', profile_sidebar_border_color=u'C0DEED', default_profile=True, following=False), _json={u'contributors': None, u'truncated': False, u'text': u\"Close up of my #endometriosis #endometriosisawareness #tattoo my own design and I'm in love with it #happyspoonie http://t.co/7iupBpnmgt\", u'in_reply_to_status_id': None, u'id': 579798502038966273, u'favorite_count': 0, u'source': u'<a href=\"http://twitter.com/download/android\" rel=\"nofollow\">Twitter for Android</a>', u'retweeted': False, u'coordinates': None, u'entities': {u'symbols': [], u'user_mentions': [], u'hashtags': [{u'indices': [15, 29], u'text': u'endometriosis'}, {u'indices': [30, 53], u'text': u'endometriosisawareness'}, {u'indices': [54, 61], u'text': u'tattoo'}, {u'indices': [100, 113], u'text': u'happyspoonie'}], u'urls': [], u'media': [{u'expanded_url': u'http://twitter.com/chloe_mala/status/579798502038966273/photo/1', u'display_url': u'pic.twitter.com/7iupBpnmgt', u'url': u'http://t.co/7iupBpnmgt', u'media_url_https': u'https://pbs.twimg.com/media/CAvbqL7W8AAzQl_.jpg', u'id_str': u'579798494849986560', u'sizes': {u'small': {u'h': 604, u'resize': u'fit', u'w': 340}, u'large': {u'h': 1024, u'resize': u'fit', u'w': 576}, u'medium': {u'h': 1024, u'resize': u'fit', u'w': 576}, u'thumb': {u'h': 150, u'resize': u'crop', u'w': 150}}, u'indices': [114, 136], u'type': u'photo', u'id': 579798494849986560, u'media_url': u'http://pbs.twimg.com/media/CAvbqL7W8AAzQl_.jpg'}]}, u'in_reply_to_screen_name': None, u'id_str': u'579798502038966273', u'retweet_count': 0, u'in_reply_to_user_id': None, u'favorited': False, u'user': {u'follow_request_sent': False, u'profile_use_background_image': True, u'profile_text_color': u'333333', u'default_profile_image': False, u'id': 3097897493, u'profile_background_image_url_https': u'https://abs.twimg.com/images/themes/theme1/bg.png', u'verified': False, u'profile_location': None, u'profile_image_url_https': u'https://pbs.twimg.com/profile_images/578691022630309888/q1098UuJ_normal.jpeg', u'profile_sidebar_fill_color': u'DDEEF6', u'entities': {u'description': {u'urls': []}}, u'followers_count': 17, u'profile_sidebar_border_color': u'C0DEED', u'id_str': u'3097897493', u'profile_background_color': u'C0DEED', u'listed_count': 0, u'is_translation_enabled': False, u'utc_offset': None, u'statuses_count': 18, u'description': u\"insta: malahicks.mh .....my names Mala. I live in Scunthorpe. An 18yo girl who doesn't enjoy going out to drink. I'm an endometriosis warrior and proud of it!!!\", u'friends_count': 56, u'location': u'', u'profile_link_color': u'0084B4', u'profile_image_url': u'http://pbs.twimg.com/profile_images/578691022630309888/q1098UuJ_normal.jpeg', u'following': False, u'geo_enabled': False, u'profile_banner_url': u'https://pbs.twimg.com/profile_banners/3097897493/1427070598', u'profile_background_image_url': u'http://abs.twimg.com/images/themes/theme1/bg.png', u'name': u'Mala Chloe', u'lang': u'en', u'profile_background_tile': False, u'favourites_count': 1, u'screen_name': u'chloe_mala', u'notifications': False, u'url': None, u'created_at': u'Thu Mar 19 22:51:59 +0000 2015', u'contributors_enabled': False, u'time_zone': None, u'protected': False, u'default_profile': True, u'is_translator': False}, u'geo': None, u'in_reply_to_user_id_str': None, u'possibly_sensitive': False, u'lang': u'en', u'created_at': u'Mon Mar 23 00:15:09 +0000 2015', u'in_reply_to_status_id_str': None, u'place': None, u'extended_entities': {u'media': [{u'expanded_url': u'http://twitter.com/chloe_mala/status/579798502038966273/photo/1', u'display_url': u'pic.twitter.com/7iupBpnmgt', u'url': u'http://t.co/7iupBpnmgt', u'media_url_https': u'https://pbs.twimg.com/media/CAvbqL7W8AAzQl_.jpg', u'id_str': u'579798494849986560', u'sizes': {u'small': {u'h': 604, u'resize': u'fit', u'w': 340}, u'large': {u'h': 1024, u'resize': u'fit', u'w': 576}, u'medium': {u'h': 1024, u'resize': u'fit', u'w': 576}, u'thumb': {u'h': 150, u'resize': u'crop', u'w': 150}}, u'indices': [114, 136], u'type': u'photo', u'id': 579798494849986560, u'media_url': u'http://pbs.twimg.com/media/CAvbqL7W8AAzQl_.jpg'}]}}, coordinates=None, entities={u'symbols': [], u'user_mentions': [], u'hashtags': [{u'indices': [15, 29], u'text': u'endometriosis'}, {u'indices': [30, 53], u'text': u'endometriosisawareness'}, {u'indices': [54, 61], u'text': u'tattoo'}, {u'indices': [100, 113], u'text': u'happyspoonie'}], u'urls': [], u'media': [{u'expanded_url': u'http://twitter.com/chloe_mala/status/579798502038966273/photo/1', u'display_url': u'pic.twitter.com/7iupBpnmgt', u'url': u'http://t.co/7iupBpnmgt', u'media_url_https': u'https://pbs.twimg.com/media/CAvbqL7W8AAzQl_.jpg', u'id_str': u'579798494849986560', u'sizes': {u'small': {u'h': 604, u'resize': u'fit', u'w': 340}, u'large': {u'h': 1024, u'resize': u'fit', u'w': 576}, u'medium': {u'h': 1024, u'resize': u'fit', u'w': 576}, u'thumb': {u'h': 150, u'resize': u'crop', u'w': 150}}, u'indices': [114, 136], u'type': u'photo', u'id': 579798494849986560, u'media_url': u'http://pbs.twimg.com/media/CAvbqL7W8AAzQl_.jpg'}]}, in_reply_to_screen_name=None, id_str=u'579798502038966273', retweet_count=0, in_reply_to_user_id=None, favorited=False, source_url=u'http://twitter.com/download/android', user=User(follow_request_sent=False, profile_use_background_image=True, _json={u'follow_request_sent': False, u'profile_use_background_image': True, u'profile_text_color': u'333333', u'default_profile_image': False, u'id': 3097897493, u'profile_background_image_url_https': u'https://abs.twimg.com/images/themes/theme1/bg.png', u'verified': False, u'profile_location': None, u'profile_image_url_https': u'https://pbs.twimg.com/profile_images/578691022630309888/q1098UuJ_normal.jpeg', u'profile_sidebar_fill_color': u'DDEEF6', u'entities': {u'description': {u'urls': []}}, u'followers_count': 17, u'profile_sidebar_border_color': u'C0DEED', u'id_str': u'3097897493', u'profile_background_color': u'C0DEED', u'listed_count': 0, u'is_translation_enabled': False, u'utc_offset': None, u'statuses_count': 18, u'description': u\"insta: malahicks.mh .....my names Mala. I live in Scunthorpe. An 18yo girl who doesn't enjoy going out to drink. I'm an endometriosis warrior and proud of it!!!\", u'friends_count': 56, u'location': u'', u'profile_link_color': u'0084B4', u'profile_image_url': u'http://pbs.twimg.com/profile_images/578691022630309888/q1098UuJ_normal.jpeg', u'following': False, u'geo_enabled': False, u'profile_banner_url': u'https://pbs.twimg.com/profile_banners/3097897493/1427070598', u'profile_background_image_url': u'http://abs.twimg.com/images/themes/theme1/bg.png', u'name': u'Mala Chloe', u'lang': u'en', u'profile_background_tile': False, u'favourites_count': 1, u'screen_name': u'chloe_mala', u'notifications': False, u'url': None, u'created_at': u'Thu Mar 19 22:51:59 +0000 2015', u'contributors_enabled': False, u'time_zone': None, u'protected': False, u'default_profile': True, u'is_translator': False}, time_zone=None, id=3097897493, _api=<tweepy.api.API object at 0x10c070f90>, verified=False, profile_location=None, profile_image_url_https=u'https://pbs.twimg.com/profile_images/578691022630309888/q1098UuJ_normal.jpeg', profile_sidebar_fill_color=u'DDEEF6', is_translator=False, geo_enabled=False, entities={u'description': {u'urls': []}}, followers_count=17, protected=False, id_str=u'3097897493', default_profile_image=False, listed_count=0, lang=u'en', utc_offset=None, statuses_count=18, description=u\"insta: malahicks.mh .....my names Mala. I live in Scunthorpe. An 18yo girl who doesn't enjoy going out to drink. I'm an endometriosis warrior and proud of it!!!\", friends_count=56, profile_link_color=u'0084B4', profile_image_url=u'http://pbs.twimg.com/profile_images/578691022630309888/q1098UuJ_normal.jpeg', notifications=False, favourites_count=1, profile_background_image_url_https=u'https://abs.twimg.com/images/themes/theme1/bg.png', profile_background_color=u'C0DEED', profile_banner_url=u'https://pbs.twimg.com/profile_banners/3097897493/1427070598', profile_background_image_url=u'http://abs.twimg.com/images/themes/theme1/bg.png', screen_name=u'chloe_mala', is_translation_enabled=False, profile_background_tile=False, profile_text_color=u'333333', name=u'Mala Chloe', url=None, created_at=datetime.datetime(2015, 3, 19, 22, 51, 59), contributors_enabled=False, location=u'', profile_sidebar_border_color=u'C0DEED', default_profile=True, following=False), geo=None, in_reply_to_user_id_str=None, possibly_sensitive=False, lang=u'en', created_at=datetime.datetime(2015, 3, 23, 0, 15, 9), in_reply_to_status_id_str=None, place=None, source=u'Twitter for Android', extended_entities={u'media': [{u'expanded_url': u'http://twitter.com/chloe_mala/status/579798502038966273/photo/1', u'display_url': u'pic.twitter.com/7iupBpnmgt', u'url': u'http://t.co/7iupBpnmgt', u'media_url_https': u'https://pbs.twimg.com/media/CAvbqL7W8AAzQl_.jpg', u'id_str': u'579798494849986560', u'sizes': {u'small': {u'h': 604, u'resize': u'fit', u'w': 340}, u'large': {u'h': 1024, u'resize': u'fit', u'w': 576}, u'medium': {u'h': 1024, u'resize': u'fit', u'w': 576}, u'thumb': {u'h': 150, u'resize': u'crop', u'w': 150}}, u'indices': [114, 136], u'type': u'photo', u'id': 579798494849986560, u'media_url': u'http://pbs.twimg.com/media/CAvbqL7W8AAzQl_.jpg'}]}, retweeted=False),\n",
       " Status(contributors=None, truncated=False, text=u'#endometriosisawareness tattoo done today..my own design. I am a fighter and proud if it now I can always wear yellow http://t.co/yrHVhKN5Sq', in_reply_to_status_id=None, id=579419740772425728, favorite_count=1, _api=<tweepy.api.API object at 0x10c070f90>, author=User(follow_request_sent=False, profile_use_background_image=True, _json={u'follow_request_sent': False, u'profile_use_background_image': True, u'profile_text_color': u'333333', u'default_profile_image': False, u'id': 3097897493, u'profile_background_image_url_https': u'https://abs.twimg.com/images/themes/theme1/bg.png', u'verified': False, u'profile_location': None, u'profile_image_url_https': u'https://pbs.twimg.com/profile_images/578691022630309888/q1098UuJ_normal.jpeg', u'profile_sidebar_fill_color': u'DDEEF6', u'entities': {u'description': {u'urls': []}}, u'followers_count': 17, u'profile_sidebar_border_color': u'C0DEED', u'id_str': u'3097897493', u'profile_background_color': u'C0DEED', u'listed_count': 0, u'is_translation_enabled': False, u'utc_offset': None, u'statuses_count': 18, u'description': u\"insta: malahicks.mh .....my names Mala. I live in Scunthorpe. An 18yo girl who doesn't enjoy going out to drink. I'm an endometriosis warrior and proud of it!!!\", u'friends_count': 56, u'location': u'', u'profile_link_color': u'0084B4', u'profile_image_url': u'http://pbs.twimg.com/profile_images/578691022630309888/q1098UuJ_normal.jpeg', u'following': False, u'geo_enabled': False, u'profile_banner_url': u'https://pbs.twimg.com/profile_banners/3097897493/1427070598', u'profile_background_image_url': u'http://abs.twimg.com/images/themes/theme1/bg.png', u'name': u'Mala Chloe', u'lang': u'en', u'profile_background_tile': False, u'favourites_count': 1, u'screen_name': u'chloe_mala', u'notifications': False, u'url': None, u'created_at': u'Thu Mar 19 22:51:59 +0000 2015', u'contributors_enabled': False, u'time_zone': None, u'protected': False, u'default_profile': True, u'is_translator': False}, time_zone=None, id=3097897493, _api=<tweepy.api.API object at 0x10c070f90>, verified=False, profile_location=None, profile_image_url_https=u'https://pbs.twimg.com/profile_images/578691022630309888/q1098UuJ_normal.jpeg', profile_sidebar_fill_color=u'DDEEF6', is_translator=False, geo_enabled=False, entities={u'description': {u'urls': []}}, followers_count=17, protected=False, id_str=u'3097897493', default_profile_image=False, listed_count=0, lang=u'en', utc_offset=None, statuses_count=18, description=u\"insta: malahicks.mh .....my names Mala. I live in Scunthorpe. An 18yo girl who doesn't enjoy going out to drink. I'm an endometriosis warrior and proud of it!!!\", friends_count=56, profile_link_color=u'0084B4', profile_image_url=u'http://pbs.twimg.com/profile_images/578691022630309888/q1098UuJ_normal.jpeg', notifications=False, favourites_count=1, profile_background_image_url_https=u'https://abs.twimg.com/images/themes/theme1/bg.png', profile_background_color=u'C0DEED', profile_banner_url=u'https://pbs.twimg.com/profile_banners/3097897493/1427070598', profile_background_image_url=u'http://abs.twimg.com/images/themes/theme1/bg.png', screen_name=u'chloe_mala', is_translation_enabled=False, profile_background_tile=False, profile_text_color=u'333333', name=u'Mala Chloe', url=None, created_at=datetime.datetime(2015, 3, 19, 22, 51, 59), contributors_enabled=False, location=u'', profile_sidebar_border_color=u'C0DEED', default_profile=True, following=False), _json={u'contributors': None, u'truncated': False, u'text': u'#endometriosisawareness tattoo done today..my own design. I am a fighter and proud if it now I can always wear yellow http://t.co/yrHVhKN5Sq', u'in_reply_to_status_id': None, u'id': 579419740772425728, u'favorite_count': 1, u'source': u'<a href=\"http://twitter.com/download/android\" rel=\"nofollow\">Twitter for Android</a>', u'retweeted': False, u'coordinates': None, u'entities': {u'symbols': [], u'user_mentions': [], u'hashtags': [{u'indices': [0, 23], u'text': u'endometriosisawareness'}], u'urls': [], u'media': [{u'expanded_url': u'http://twitter.com/chloe_mala/status/579419740772425728/photo/1', u'display_url': u'pic.twitter.com/yrHVhKN5Sq', u'url': u'http://t.co/yrHVhKN5Sq', u'media_url_https': u'https://pbs.twimg.com/media/CAqDLRuXIAAWcrH.jpg', u'id_str': u'579419731830185984', u'sizes': {u'small': {u'h': 604, u'resize': u'fit', u'w': 340}, u'large': {u'h': 1024, u'resize': u'fit', u'w': 576}, u'medium': {u'h': 1024, u'resize': u'fit', u'w': 576}, u'thumb': {u'h': 150, u'resize': u'crop', u'w': 150}}, u'indices': [118, 140], u'type': u'photo', u'id': 579419731830185984, u'media_url': u'http://pbs.twimg.com/media/CAqDLRuXIAAWcrH.jpg'}]}, u'in_reply_to_screen_name': None, u'id_str': u'579419740772425728', u'retweet_count': 0, u'in_reply_to_user_id': None, u'favorited': False, u'user': {u'follow_request_sent': False, u'profile_use_background_image': True, u'profile_text_color': u'333333', u'default_profile_image': False, u'id': 3097897493, u'profile_background_image_url_https': u'https://abs.twimg.com/images/themes/theme1/bg.png', u'verified': False, u'profile_location': None, u'profile_image_url_https': u'https://pbs.twimg.com/profile_images/578691022630309888/q1098UuJ_normal.jpeg', u'profile_sidebar_fill_color': u'DDEEF6', u'entities': {u'description': {u'urls': []}}, u'followers_count': 17, u'profile_sidebar_border_color': u'C0DEED', u'id_str': u'3097897493', u'profile_background_color': u'C0DEED', u'listed_count': 0, u'is_translation_enabled': False, u'utc_offset': None, u'statuses_count': 18, u'description': u\"insta: malahicks.mh .....my names Mala. I live in Scunthorpe. An 18yo girl who doesn't enjoy going out to drink. I'm an endometriosis warrior and proud of it!!!\", u'friends_count': 56, u'location': u'', u'profile_link_color': u'0084B4', u'profile_image_url': u'http://pbs.twimg.com/profile_images/578691022630309888/q1098UuJ_normal.jpeg', u'following': False, u'geo_enabled': False, u'profile_banner_url': u'https://pbs.twimg.com/profile_banners/3097897493/1427070598', u'profile_background_image_url': u'http://abs.twimg.com/images/themes/theme1/bg.png', u'name': u'Mala Chloe', u'lang': u'en', u'profile_background_tile': False, u'favourites_count': 1, u'screen_name': u'chloe_mala', u'notifications': False, u'url': None, u'created_at': u'Thu Mar 19 22:51:59 +0000 2015', u'contributors_enabled': False, u'time_zone': None, u'protected': False, u'default_profile': True, u'is_translator': False}, u'geo': None, u'in_reply_to_user_id_str': None, u'possibly_sensitive': False, u'lang': u'en', u'created_at': u'Sat Mar 21 23:10:05 +0000 2015', u'in_reply_to_status_id_str': None, u'place': None, u'extended_entities': {u'media': [{u'expanded_url': u'http://twitter.com/chloe_mala/status/579419740772425728/photo/1', u'display_url': u'pic.twitter.com/yrHVhKN5Sq', u'url': u'http://t.co/yrHVhKN5Sq', u'media_url_https': u'https://pbs.twimg.com/media/CAqDLRuXIAAWcrH.jpg', u'id_str': u'579419731830185984', u'sizes': {u'small': {u'h': 604, u'resize': u'fit', u'w': 340}, u'large': {u'h': 1024, u'resize': u'fit', u'w': 576}, u'medium': {u'h': 1024, u'resize': u'fit', u'w': 576}, u'thumb': {u'h': 150, u'resize': u'crop', u'w': 150}}, u'indices': [118, 140], u'type': u'photo', u'id': 579419731830185984, u'media_url': u'http://pbs.twimg.com/media/CAqDLRuXIAAWcrH.jpg'}]}}, coordinates=None, entities={u'symbols': [], u'user_mentions': [], u'hashtags': [{u'indices': [0, 23], u'text': u'endometriosisawareness'}], u'urls': [], u'media': [{u'expanded_url': u'http://twitter.com/chloe_mala/status/579419740772425728/photo/1', u'display_url': u'pic.twitter.com/yrHVhKN5Sq', u'url': u'http://t.co/yrHVhKN5Sq', u'media_url_https': u'https://pbs.twimg.com/media/CAqDLRuXIAAWcrH.jpg', u'id_str': u'579419731830185984', u'sizes': {u'small': {u'h': 604, u'resize': u'fit', u'w': 340}, u'large': {u'h': 1024, u'resize': u'fit', u'w': 576}, u'medium': {u'h': 1024, u'resize': u'fit', u'w': 576}, u'thumb': {u'h': 150, u'resize': u'crop', u'w': 150}}, u'indices': [118, 140], u'type': u'photo', u'id': 579419731830185984, u'media_url': u'http://pbs.twimg.com/media/CAqDLRuXIAAWcrH.jpg'}]}, in_reply_to_screen_name=None, id_str=u'579419740772425728', retweet_count=0, in_reply_to_user_id=None, favorited=False, source_url=u'http://twitter.com/download/android', user=User(follow_request_sent=False, profile_use_background_image=True, _json={u'follow_request_sent': False, u'profile_use_background_image': True, u'profile_text_color': u'333333', u'default_profile_image': False, u'id': 3097897493, u'profile_background_image_url_https': u'https://abs.twimg.com/images/themes/theme1/bg.png', u'verified': False, u'profile_location': None, u'profile_image_url_https': u'https://pbs.twimg.com/profile_images/578691022630309888/q1098UuJ_normal.jpeg', u'profile_sidebar_fill_color': u'DDEEF6', u'entities': {u'description': {u'urls': []}}, u'followers_count': 17, u'profile_sidebar_border_color': u'C0DEED', u'id_str': u'3097897493', u'profile_background_color': u'C0DEED', u'listed_count': 0, u'is_translation_enabled': False, u'utc_offset': None, u'statuses_count': 18, u'description': u\"insta: malahicks.mh .....my names Mala. I live in Scunthorpe. An 18yo girl who doesn't enjoy going out to drink. I'm an endometriosis warrior and proud of it!!!\", u'friends_count': 56, u'location': u'', u'profile_link_color': u'0084B4', u'profile_image_url': u'http://pbs.twimg.com/profile_images/578691022630309888/q1098UuJ_normal.jpeg', u'following': False, u'geo_enabled': False, u'profile_banner_url': u'https://pbs.twimg.com/profile_banners/3097897493/1427070598', u'profile_background_image_url': u'http://abs.twimg.com/images/themes/theme1/bg.png', u'name': u'Mala Chloe', u'lang': u'en', u'profile_background_tile': False, u'favourites_count': 1, u'screen_name': u'chloe_mala', u'notifications': False, u'url': None, u'created_at': u'Thu Mar 19 22:51:59 +0000 2015', u'contributors_enabled': False, u'time_zone': None, u'protected': False, u'default_profile': True, u'is_translator': False}, time_zone=None, id=3097897493, _api=<tweepy.api.API object at 0x10c070f90>, verified=False, profile_location=None, profile_image_url_https=u'https://pbs.twimg.com/profile_images/578691022630309888/q1098UuJ_normal.jpeg', profile_sidebar_fill_color=u'DDEEF6', is_translator=False, geo_enabled=False, entities={u'description': {u'urls': []}}, followers_count=17, protected=False, id_str=u'3097897493', default_profile_image=False, listed_count=0, lang=u'en', utc_offset=None, statuses_count=18, description=u\"insta: malahicks.mh .....my names Mala. I live in Scunthorpe. An 18yo girl who doesn't enjoy going out to drink. I'm an endometriosis warrior and proud of it!!!\", friends_count=56, profile_link_color=u'0084B4', profile_image_url=u'http://pbs.twimg.com/profile_images/578691022630309888/q1098UuJ_normal.jpeg', notifications=False, favourites_count=1, profile_background_image_url_https=u'https://abs.twimg.com/images/themes/theme1/bg.png', profile_background_color=u'C0DEED', profile_banner_url=u'https://pbs.twimg.com/profile_banners/3097897493/1427070598', profile_background_image_url=u'http://abs.twimg.com/images/themes/theme1/bg.png', screen_name=u'chloe_mala', is_translation_enabled=False, profile_background_tile=False, profile_text_color=u'333333', name=u'Mala Chloe', url=None, created_at=datetime.datetime(2015, 3, 19, 22, 51, 59), contributors_enabled=False, location=u'', profile_sidebar_border_color=u'C0DEED', default_profile=True, following=False), geo=None, in_reply_to_user_id_str=None, possibly_sensitive=False, lang=u'en', created_at=datetime.datetime(2015, 3, 21, 23, 10, 5), in_reply_to_status_id_str=None, place=None, source=u'Twitter for Android', extended_entities={u'media': [{u'expanded_url': u'http://twitter.com/chloe_mala/status/579419740772425728/photo/1', u'display_url': u'pic.twitter.com/yrHVhKN5Sq', u'url': u'http://t.co/yrHVhKN5Sq', u'media_url_https': u'https://pbs.twimg.com/media/CAqDLRuXIAAWcrH.jpg', u'id_str': u'579419731830185984', u'sizes': {u'small': {u'h': 604, u'resize': u'fit', u'w': 340}, u'large': {u'h': 1024, u'resize': u'fit', u'w': 576}, u'medium': {u'h': 1024, u'resize': u'fit', u'w': 576}, u'thumb': {u'h': 150, u'resize': u'crop', u'w': 150}}, u'indices': [118, 140], u'type': u'photo', u'id': 579419731830185984, u'media_url': u'http://pbs.twimg.com/media/CAqDLRuXIAAWcrH.jpg'}]}, retweeted=False),\n",
       " Status(contributors=None, truncated=False, text=u'Just painted my nails and now really want to eat my white  chocolate buttons but nope...torture waiting x', in_reply_to_status_id=None, id=578877106630877184, favorite_count=0, _api=<tweepy.api.API object at 0x10c070f90>, author=User(follow_request_sent=False, profile_use_background_image=True, _json={u'follow_request_sent': False, u'profile_use_background_image': True, u'profile_text_color': u'333333', u'default_profile_image': False, u'id': 3097897493, u'profile_background_image_url_https': u'https://abs.twimg.com/images/themes/theme1/bg.png', u'verified': False, u'profile_location': None, u'profile_image_url_https': u'https://pbs.twimg.com/profile_images/578691022630309888/q1098UuJ_normal.jpeg', u'profile_sidebar_fill_color': u'DDEEF6', u'entities': {u'description': {u'urls': []}}, u'followers_count': 17, u'profile_sidebar_border_color': u'C0DEED', u'id_str': u'3097897493', u'profile_background_color': u'C0DEED', u'listed_count': 0, u'is_translation_enabled': False, u'utc_offset': None, u'statuses_count': 18, u'description': u\"insta: malahicks.mh .....my names Mala. I live in Scunthorpe. An 18yo girl who doesn't enjoy going out to drink. I'm an endometriosis warrior and proud of it!!!\", u'friends_count': 56, u'location': u'', u'profile_link_color': u'0084B4', u'profile_image_url': u'http://pbs.twimg.com/profile_images/578691022630309888/q1098UuJ_normal.jpeg', u'following': False, u'geo_enabled': False, u'profile_banner_url': u'https://pbs.twimg.com/profile_banners/3097897493/1427070598', u'profile_background_image_url': u'http://abs.twimg.com/images/themes/theme1/bg.png', u'name': u'Mala Chloe', u'lang': u'en', u'profile_background_tile': False, u'favourites_count': 1, u'screen_name': u'chloe_mala', u'notifications': False, u'url': None, u'created_at': u'Thu Mar 19 22:51:59 +0000 2015', u'contributors_enabled': False, u'time_zone': None, u'protected': False, u'default_profile': True, u'is_translator': False}, time_zone=None, id=3097897493, _api=<tweepy.api.API object at 0x10c070f90>, verified=False, profile_location=None, profile_image_url_https=u'https://pbs.twimg.com/profile_images/578691022630309888/q1098UuJ_normal.jpeg', profile_sidebar_fill_color=u'DDEEF6', is_translator=False, geo_enabled=False, entities={u'description': {u'urls': []}}, followers_count=17, protected=False, id_str=u'3097897493', default_profile_image=False, listed_count=0, lang=u'en', utc_offset=None, statuses_count=18, description=u\"insta: malahicks.mh .....my names Mala. I live in Scunthorpe. An 18yo girl who doesn't enjoy going out to drink. I'm an endometriosis warrior and proud of it!!!\", friends_count=56, profile_link_color=u'0084B4', profile_image_url=u'http://pbs.twimg.com/profile_images/578691022630309888/q1098UuJ_normal.jpeg', notifications=False, favourites_count=1, profile_background_image_url_https=u'https://abs.twimg.com/images/themes/theme1/bg.png', profile_background_color=u'C0DEED', profile_banner_url=u'https://pbs.twimg.com/profile_banners/3097897493/1427070598', profile_background_image_url=u'http://abs.twimg.com/images/themes/theme1/bg.png', screen_name=u'chloe_mala', is_translation_enabled=False, profile_background_tile=False, profile_text_color=u'333333', name=u'Mala Chloe', url=None, created_at=datetime.datetime(2015, 3, 19, 22, 51, 59), contributors_enabled=False, location=u'', profile_sidebar_border_color=u'C0DEED', default_profile=True, following=False), _json={u'contributors': None, u'truncated': False, u'text': u'Just painted my nails and now really want to eat my white  chocolate buttons but nope...torture waiting x', u'in_reply_to_status_id': None, u'id': 578877106630877184, u'favorite_count': 0, u'source': u'<a href=\"http://twitter.com/download/android\" rel=\"nofollow\">Twitter for Android</a>', u'retweeted': False, u'coordinates': None, u'entities': {u'symbols': [], u'user_mentions': [], u'hashtags': [], u'urls': []}, u'in_reply_to_screen_name': None, u'id_str': u'578877106630877184', u'retweet_count': 0, u'in_reply_to_user_id': None, u'favorited': False, u'user': {u'follow_request_sent': False, u'profile_use_background_image': True, u'profile_text_color': u'333333', u'default_profile_image': False, u'id': 3097897493, u'profile_background_image_url_https': u'https://abs.twimg.com/images/themes/theme1/bg.png', u'verified': False, u'profile_location': None, u'profile_image_url_https': u'https://pbs.twimg.com/profile_images/578691022630309888/q1098UuJ_normal.jpeg', u'profile_sidebar_fill_color': u'DDEEF6', u'entities': {u'description': {u'urls': []}}, u'followers_count': 17, u'profile_sidebar_border_color': u'C0DEED', u'id_str': u'3097897493', u'profile_background_color': u'C0DEED', u'listed_count': 0, u'is_translation_enabled': False, u'utc_offset': None, u'statuses_count': 18, u'description': u\"insta: malahicks.mh .....my names Mala. I live in Scunthorpe. An 18yo girl who doesn't enjoy going out to drink. I'm an endometriosis warrior and proud of it!!!\", u'friends_count': 56, u'location': u'', u'profile_link_color': u'0084B4', u'profile_image_url': u'http://pbs.twimg.com/profile_images/578691022630309888/q1098UuJ_normal.jpeg', u'following': False, u'geo_enabled': False, u'profile_banner_url': u'https://pbs.twimg.com/profile_banners/3097897493/1427070598', u'profile_background_image_url': u'http://abs.twimg.com/images/themes/theme1/bg.png', u'name': u'Mala Chloe', u'lang': u'en', u'profile_background_tile': False, u'favourites_count': 1, u'screen_name': u'chloe_mala', u'notifications': False, u'url': None, u'created_at': u'Thu Mar 19 22:51:59 +0000 2015', u'contributors_enabled': False, u'time_zone': None, u'protected': False, u'default_profile': True, u'is_translator': False}, u'geo': None, u'in_reply_to_user_id_str': None, u'lang': u'en', u'created_at': u'Fri Mar 20 11:13:51 +0000 2015', u'in_reply_to_status_id_str': None, u'place': None}, coordinates=None, entities={u'symbols': [], u'user_mentions': [], u'hashtags': [], u'urls': []}, in_reply_to_screen_name=None, id_str=u'578877106630877184', retweet_count=0, in_reply_to_user_id=None, favorited=False, source_url=u'http://twitter.com/download/android', user=User(follow_request_sent=False, profile_use_background_image=True, _json={u'follow_request_sent': False, u'profile_use_background_image': True, u'profile_text_color': u'333333', u'default_profile_image': False, u'id': 3097897493, u'profile_background_image_url_https': u'https://abs.twimg.com/images/themes/theme1/bg.png', u'verified': False, u'profile_location': None, u'profile_image_url_https': u'https://pbs.twimg.com/profile_images/578691022630309888/q1098UuJ_normal.jpeg', u'profile_sidebar_fill_color': u'DDEEF6', u'entities': {u'description': {u'urls': []}}, u'followers_count': 17, u'profile_sidebar_border_color': u'C0DEED', u'id_str': u'3097897493', u'profile_background_color': u'C0DEED', u'listed_count': 0, u'is_translation_enabled': False, u'utc_offset': None, u'statuses_count': 18, u'description': u\"insta: malahicks.mh .....my names Mala. I live in Scunthorpe. An 18yo girl who doesn't enjoy going out to drink. I'm an endometriosis warrior and proud of it!!!\", u'friends_count': 56, u'location': u'', u'profile_link_color': u'0084B4', u'profile_image_url': u'http://pbs.twimg.com/profile_images/578691022630309888/q1098UuJ_normal.jpeg', u'following': False, u'geo_enabled': False, u'profile_banner_url': u'https://pbs.twimg.com/profile_banners/3097897493/1427070598', u'profile_background_image_url': u'http://abs.twimg.com/images/themes/theme1/bg.png', u'name': u'Mala Chloe', u'lang': u'en', u'profile_background_tile': False, u'favourites_count': 1, u'screen_name': u'chloe_mala', u'notifications': False, u'url': None, u'created_at': u'Thu Mar 19 22:51:59 +0000 2015', u'contributors_enabled': False, u'time_zone': None, u'protected': False, u'default_profile': True, u'is_translator': False}, time_zone=None, id=3097897493, _api=<tweepy.api.API object at 0x10c070f90>, verified=False, profile_location=None, profile_image_url_https=u'https://pbs.twimg.com/profile_images/578691022630309888/q1098UuJ_normal.jpeg', profile_sidebar_fill_color=u'DDEEF6', is_translator=False, geo_enabled=False, entities={u'description': {u'urls': []}}, followers_count=17, protected=False, id_str=u'3097897493', default_profile_image=False, listed_count=0, lang=u'en', utc_offset=None, statuses_count=18, description=u\"insta: malahicks.mh .....my names Mala. I live in Scunthorpe. An 18yo girl who doesn't enjoy going out to drink. I'm an endometriosis warrior and proud of it!!!\", friends_count=56, profile_link_color=u'0084B4', profile_image_url=u'http://pbs.twimg.com/profile_images/578691022630309888/q1098UuJ_normal.jpeg', notifications=False, favourites_count=1, profile_background_image_url_https=u'https://abs.twimg.com/images/themes/theme1/bg.png', profile_background_color=u'C0DEED', profile_banner_url=u'https://pbs.twimg.com/profile_banners/3097897493/1427070598', profile_background_image_url=u'http://abs.twimg.com/images/themes/theme1/bg.png', screen_name=u'chloe_mala', is_translation_enabled=False, profile_background_tile=False, profile_text_color=u'333333', name=u'Mala Chloe', url=None, created_at=datetime.datetime(2015, 3, 19, 22, 51, 59), contributors_enabled=False, location=u'', profile_sidebar_border_color=u'C0DEED', default_profile=True, following=False), geo=None, in_reply_to_user_id_str=None, lang=u'en', created_at=datetime.datetime(2015, 3, 20, 11, 13, 51), in_reply_to_status_id_str=None, place=None, source=u'Twitter for Android', retweeted=False),\n",
       " Status(contributors=None, truncated=False, text=u\"Catching up on last night's big bang theory...The best show ever!!! #hilarious\", in_reply_to_status_id=None, id=578860603755876352, favorite_count=0, _api=<tweepy.api.API object at 0x10c070f90>, author=User(follow_request_sent=False, profile_use_background_image=True, _json={u'follow_request_sent': False, u'profile_use_background_image': True, u'profile_text_color': u'333333', u'default_profile_image': False, u'id': 3097897493, u'profile_background_image_url_https': u'https://abs.twimg.com/images/themes/theme1/bg.png', u'verified': False, u'profile_location': None, u'profile_image_url_https': u'https://pbs.twimg.com/profile_images/578691022630309888/q1098UuJ_normal.jpeg', u'profile_sidebar_fill_color': u'DDEEF6', u'entities': {u'description': {u'urls': []}}, u'followers_count': 17, u'profile_sidebar_border_color': u'C0DEED', u'id_str': u'3097897493', u'profile_background_color': u'C0DEED', u'listed_count': 0, u'is_translation_enabled': False, u'utc_offset': None, u'statuses_count': 18, u'description': u\"insta: malahicks.mh .....my names Mala. I live in Scunthorpe. An 18yo girl who doesn't enjoy going out to drink. I'm an endometriosis warrior and proud of it!!!\", u'friends_count': 56, u'location': u'', u'profile_link_color': u'0084B4', u'profile_image_url': u'http://pbs.twimg.com/profile_images/578691022630309888/q1098UuJ_normal.jpeg', u'following': False, u'geo_enabled': False, u'profile_banner_url': u'https://pbs.twimg.com/profile_banners/3097897493/1427070598', u'profile_background_image_url': u'http://abs.twimg.com/images/themes/theme1/bg.png', u'name': u'Mala Chloe', u'lang': u'en', u'profile_background_tile': False, u'favourites_count': 1, u'screen_name': u'chloe_mala', u'notifications': False, u'url': None, u'created_at': u'Thu Mar 19 22:51:59 +0000 2015', u'contributors_enabled': False, u'time_zone': None, u'protected': False, u'default_profile': True, u'is_translator': False}, time_zone=None, id=3097897493, _api=<tweepy.api.API object at 0x10c070f90>, verified=False, profile_location=None, profile_image_url_https=u'https://pbs.twimg.com/profile_images/578691022630309888/q1098UuJ_normal.jpeg', profile_sidebar_fill_color=u'DDEEF6', is_translator=False, geo_enabled=False, entities={u'description': {u'urls': []}}, followers_count=17, protected=False, id_str=u'3097897493', default_profile_image=False, listed_count=0, lang=u'en', utc_offset=None, statuses_count=18, description=u\"insta: malahicks.mh .....my names Mala. I live in Scunthorpe. An 18yo girl who doesn't enjoy going out to drink. I'm an endometriosis warrior and proud of it!!!\", friends_count=56, profile_link_color=u'0084B4', profile_image_url=u'http://pbs.twimg.com/profile_images/578691022630309888/q1098UuJ_normal.jpeg', notifications=False, favourites_count=1, profile_background_image_url_https=u'https://abs.twimg.com/images/themes/theme1/bg.png', profile_background_color=u'C0DEED', profile_banner_url=u'https://pbs.twimg.com/profile_banners/3097897493/1427070598', profile_background_image_url=u'http://abs.twimg.com/images/themes/theme1/bg.png', screen_name=u'chloe_mala', is_translation_enabled=False, profile_background_tile=False, profile_text_color=u'333333', name=u'Mala Chloe', url=None, created_at=datetime.datetime(2015, 3, 19, 22, 51, 59), contributors_enabled=False, location=u'', profile_sidebar_border_color=u'C0DEED', default_profile=True, following=False), _json={u'contributors': None, u'truncated': False, u'text': u\"Catching up on last night's big bang theory...The best show ever!!! #hilarious\", u'in_reply_to_status_id': None, u'id': 578860603755876352, u'favorite_count': 0, u'source': u'<a href=\"http://twitter.com/download/android\" rel=\"nofollow\">Twitter for Android</a>', u'retweeted': False, u'coordinates': None, u'entities': {u'symbols': [], u'user_mentions': [], u'hashtags': [{u'indices': [68, 78], u'text': u'hilarious'}], u'urls': []}, u'in_reply_to_screen_name': None, u'id_str': u'578860603755876352', u'retweet_count': 0, u'in_reply_to_user_id': None, u'favorited': False, u'user': {u'follow_request_sent': False, u'profile_use_background_image': True, u'profile_text_color': u'333333', u'default_profile_image': False, u'id': 3097897493, u'profile_background_image_url_https': u'https://abs.twimg.com/images/themes/theme1/bg.png', u'verified': False, u'profile_location': None, u'profile_image_url_https': u'https://pbs.twimg.com/profile_images/578691022630309888/q1098UuJ_normal.jpeg', u'profile_sidebar_fill_color': u'DDEEF6', u'entities': {u'description': {u'urls': []}}, u'followers_count': 17, u'profile_sidebar_border_color': u'C0DEED', u'id_str': u'3097897493', u'profile_background_color': u'C0DEED', u'listed_count': 0, u'is_translation_enabled': False, u'utc_offset': None, u'statuses_count': 18, u'description': u\"insta: malahicks.mh .....my names Mala. I live in Scunthorpe. An 18yo girl who doesn't enjoy going out to drink. I'm an endometriosis warrior and proud of it!!!\", u'friends_count': 56, u'location': u'', u'profile_link_color': u'0084B4', u'profile_image_url': u'http://pbs.twimg.com/profile_images/578691022630309888/q1098UuJ_normal.jpeg', u'following': False, u'geo_enabled': False, u'profile_banner_url': u'https://pbs.twimg.com/profile_banners/3097897493/1427070598', u'profile_background_image_url': u'http://abs.twimg.com/images/themes/theme1/bg.png', u'name': u'Mala Chloe', u'lang': u'en', u'profile_background_tile': False, u'favourites_count': 1, u'screen_name': u'chloe_mala', u'notifications': False, u'url': None, u'created_at': u'Thu Mar 19 22:51:59 +0000 2015', u'contributors_enabled': False, u'time_zone': None, u'protected': False, u'default_profile': True, u'is_translator': False}, u'geo': None, u'in_reply_to_user_id_str': None, u'lang': u'en', u'created_at': u'Fri Mar 20 10:08:17 +0000 2015', u'in_reply_to_status_id_str': None, u'place': None}, coordinates=None, entities={u'symbols': [], u'user_mentions': [], u'hashtags': [{u'indices': [68, 78], u'text': u'hilarious'}], u'urls': []}, in_reply_to_screen_name=None, id_str=u'578860603755876352', retweet_count=0, in_reply_to_user_id=None, favorited=False, source_url=u'http://twitter.com/download/android', user=User(follow_request_sent=False, profile_use_background_image=True, _json={u'follow_request_sent': False, u'profile_use_background_image': True, u'profile_text_color': u'333333', u'default_profile_image': False, u'id': 3097897493, u'profile_background_image_url_https': u'https://abs.twimg.com/images/themes/theme1/bg.png', u'verified': False, u'profile_location': None, u'profile_image_url_https': u'https://pbs.twimg.com/profile_images/578691022630309888/q1098UuJ_normal.jpeg', u'profile_sidebar_fill_color': u'DDEEF6', u'entities': {u'description': {u'urls': []}}, u'followers_count': 17, u'profile_sidebar_border_color': u'C0DEED', u'id_str': u'3097897493', u'profile_background_color': u'C0DEED', u'listed_count': 0, u'is_translation_enabled': False, u'utc_offset': None, u'statuses_count': 18, u'description': u\"insta: malahicks.mh .....my names Mala. I live in Scunthorpe. An 18yo girl who doesn't enjoy going out to drink. I'm an endometriosis warrior and proud of it!!!\", u'friends_count': 56, u'location': u'', u'profile_link_color': u'0084B4', u'profile_image_url': u'http://pbs.twimg.com/profile_images/578691022630309888/q1098UuJ_normal.jpeg', u'following': False, u'geo_enabled': False, u'profile_banner_url': u'https://pbs.twimg.com/profile_banners/3097897493/1427070598', u'profile_background_image_url': u'http://abs.twimg.com/images/themes/theme1/bg.png', u'name': u'Mala Chloe', u'lang': u'en', u'profile_background_tile': False, u'favourites_count': 1, u'screen_name': u'chloe_mala', u'notifications': False, u'url': None, u'created_at': u'Thu Mar 19 22:51:59 +0000 2015', u'contributors_enabled': False, u'time_zone': None, u'protected': False, u'default_profile': True, u'is_translator': False}, time_zone=None, id=3097897493, _api=<tweepy.api.API object at 0x10c070f90>, verified=False, profile_location=None, profile_image_url_https=u'https://pbs.twimg.com/profile_images/578691022630309888/q1098UuJ_normal.jpeg', profile_sidebar_fill_color=u'DDEEF6', is_translator=False, geo_enabled=False, entities={u'description': {u'urls': []}}, followers_count=17, protected=False, id_str=u'3097897493', default_profile_image=False, listed_count=0, lang=u'en', utc_offset=None, statuses_count=18, description=u\"insta: malahicks.mh .....my names Mala. I live in Scunthorpe. An 18yo girl who doesn't enjoy going out to drink. I'm an endometriosis warrior and proud of it!!!\", friends_count=56, profile_link_color=u'0084B4', profile_image_url=u'http://pbs.twimg.com/profile_images/578691022630309888/q1098UuJ_normal.jpeg', notifications=False, favourites_count=1, profile_background_image_url_https=u'https://abs.twimg.com/images/themes/theme1/bg.png', profile_background_color=u'C0DEED', profile_banner_url=u'https://pbs.twimg.com/profile_banners/3097897493/1427070598', profile_background_image_url=u'http://abs.twimg.com/images/themes/theme1/bg.png', screen_name=u'chloe_mala', is_translation_enabled=False, profile_background_tile=False, profile_text_color=u'333333', name=u'Mala Chloe', url=None, created_at=datetime.datetime(2015, 3, 19, 22, 51, 59), contributors_enabled=False, location=u'', profile_sidebar_border_color=u'C0DEED', default_profile=True, following=False), geo=None, in_reply_to_user_id_str=None, lang=u'en', created_at=datetime.datetime(2015, 3, 20, 10, 8, 17), in_reply_to_status_id_str=None, place=None, source=u'Twitter for Android', retweeted=False),\n",
       " Status(contributors=None, truncated=False, text=u'Hate the fact that I know today will be a lazy day because I know pushed myself too much yesterday #endosucks #feelingit', in_reply_to_status_id=None, id=578838352851517440, favorite_count=0, _api=<tweepy.api.API object at 0x10c070f90>, author=User(follow_request_sent=False, profile_use_background_image=True, _json={u'follow_request_sent': False, u'profile_use_background_image': True, u'profile_text_color': u'333333', u'default_profile_image': False, u'id': 3097897493, u'profile_background_image_url_https': u'https://abs.twimg.com/images/themes/theme1/bg.png', u'verified': False, u'profile_location': None, u'profile_image_url_https': u'https://pbs.twimg.com/profile_images/578691022630309888/q1098UuJ_normal.jpeg', u'profile_sidebar_fill_color': u'DDEEF6', u'entities': {u'description': {u'urls': []}}, u'followers_count': 17, u'profile_sidebar_border_color': u'C0DEED', u'id_str': u'3097897493', u'profile_background_color': u'C0DEED', u'listed_count': 0, u'is_translation_enabled': False, u'utc_offset': None, u'statuses_count': 18, u'description': u\"insta: malahicks.mh .....my names Mala. I live in Scunthorpe. An 18yo girl who doesn't enjoy going out to drink. I'm an endometriosis warrior and proud of it!!!\", u'friends_count': 56, u'location': u'', u'profile_link_color': u'0084B4', u'profile_image_url': u'http://pbs.twimg.com/profile_images/578691022630309888/q1098UuJ_normal.jpeg', u'following': False, u'geo_enabled': False, u'profile_banner_url': u'https://pbs.twimg.com/profile_banners/3097897493/1427070598', u'profile_background_image_url': u'http://abs.twimg.com/images/themes/theme1/bg.png', u'name': u'Mala Chloe', u'lang': u'en', u'profile_background_tile': False, u'favourites_count': 1, u'screen_name': u'chloe_mala', u'notifications': False, u'url': None, u'created_at': u'Thu Mar 19 22:51:59 +0000 2015', u'contributors_enabled': False, u'time_zone': None, u'protected': False, u'default_profile': True, u'is_translator': False}, time_zone=None, id=3097897493, _api=<tweepy.api.API object at 0x10c070f90>, verified=False, profile_location=None, profile_image_url_https=u'https://pbs.twimg.com/profile_images/578691022630309888/q1098UuJ_normal.jpeg', profile_sidebar_fill_color=u'DDEEF6', is_translator=False, geo_enabled=False, entities={u'description': {u'urls': []}}, followers_count=17, protected=False, id_str=u'3097897493', default_profile_image=False, listed_count=0, lang=u'en', utc_offset=None, statuses_count=18, description=u\"insta: malahicks.mh .....my names Mala. I live in Scunthorpe. An 18yo girl who doesn't enjoy going out to drink. I'm an endometriosis warrior and proud of it!!!\", friends_count=56, profile_link_color=u'0084B4', profile_image_url=u'http://pbs.twimg.com/profile_images/578691022630309888/q1098UuJ_normal.jpeg', notifications=False, favourites_count=1, profile_background_image_url_https=u'https://abs.twimg.com/images/themes/theme1/bg.png', profile_background_color=u'C0DEED', profile_banner_url=u'https://pbs.twimg.com/profile_banners/3097897493/1427070598', profile_background_image_url=u'http://abs.twimg.com/images/themes/theme1/bg.png', screen_name=u'chloe_mala', is_translation_enabled=False, profile_background_tile=False, profile_text_color=u'333333', name=u'Mala Chloe', url=None, created_at=datetime.datetime(2015, 3, 19, 22, 51, 59), contributors_enabled=False, location=u'', profile_sidebar_border_color=u'C0DEED', default_profile=True, following=False), _json={u'contributors': None, u'truncated': False, u'text': u'Hate the fact that I know today will be a lazy day because I know pushed myself too much yesterday #endosucks #feelingit', u'in_reply_to_status_id': None, u'id': 578838352851517440, u'favorite_count': 0, u'source': u'<a href=\"http://twitter.com/download/android\" rel=\"nofollow\">Twitter for Android</a>', u'retweeted': False, u'coordinates': None, u'entities': {u'symbols': [], u'user_mentions': [], u'hashtags': [{u'indices': [99, 109], u'text': u'endosucks'}, {u'indices': [110, 120], u'text': u'feelingit'}], u'urls': []}, u'in_reply_to_screen_name': None, u'id_str': u'578838352851517440', u'retweet_count': 0, u'in_reply_to_user_id': None, u'favorited': False, u'user': {u'follow_request_sent': False, u'profile_use_background_image': True, u'profile_text_color': u'333333', u'default_profile_image': False, u'id': 3097897493, u'profile_background_image_url_https': u'https://abs.twimg.com/images/themes/theme1/bg.png', u'verified': False, u'profile_location': None, u'profile_image_url_https': u'https://pbs.twimg.com/profile_images/578691022630309888/q1098UuJ_normal.jpeg', u'profile_sidebar_fill_color': u'DDEEF6', u'entities': {u'description': {u'urls': []}}, u'followers_count': 17, u'profile_sidebar_border_color': u'C0DEED', u'id_str': u'3097897493', u'profile_background_color': u'C0DEED', u'listed_count': 0, u'is_translation_enabled': False, u'utc_offset': None, u'statuses_count': 18, u'description': u\"insta: malahicks.mh .....my names Mala. I live in Scunthorpe. An 18yo girl who doesn't enjoy going out to drink. I'm an endometriosis warrior and proud of it!!!\", u'friends_count': 56, u'location': u'', u'profile_link_color': u'0084B4', u'profile_image_url': u'http://pbs.twimg.com/profile_images/578691022630309888/q1098UuJ_normal.jpeg', u'following': False, u'geo_enabled': False, u'profile_banner_url': u'https://pbs.twimg.com/profile_banners/3097897493/1427070598', u'profile_background_image_url': u'http://abs.twimg.com/images/themes/theme1/bg.png', u'name': u'Mala Chloe', u'lang': u'en', u'profile_background_tile': False, u'favourites_count': 1, u'screen_name': u'chloe_mala', u'notifications': False, u'url': None, u'created_at': u'Thu Mar 19 22:51:59 +0000 2015', u'contributors_enabled': False, u'time_zone': None, u'protected': False, u'default_profile': True, u'is_translator': False}, u'geo': None, u'in_reply_to_user_id_str': None, u'lang': u'en', u'created_at': u'Fri Mar 20 08:39:52 +0000 2015', u'in_reply_to_status_id_str': None, u'place': None}, coordinates=None, entities={u'symbols': [], u'user_mentions': [], u'hashtags': [{u'indices': [99, 109], u'text': u'endosucks'}, {u'indices': [110, 120], u'text': u'feelingit'}], u'urls': []}, in_reply_to_screen_name=None, id_str=u'578838352851517440', retweet_count=0, in_reply_to_user_id=None, favorited=False, source_url=u'http://twitter.com/download/android', user=User(follow_request_sent=False, profile_use_background_image=True, _json={u'follow_request_sent': False, u'profile_use_background_image': True, u'profile_text_color': u'333333', u'default_profile_image': False, u'id': 3097897493, u'profile_background_image_url_https': u'https://abs.twimg.com/images/themes/theme1/bg.png', u'verified': False, u'profile_location': None, u'profile_image_url_https': u'https://pbs.twimg.com/profile_images/578691022630309888/q1098UuJ_normal.jpeg', u'profile_sidebar_fill_color': u'DDEEF6', u'entities': {u'description': {u'urls': []}}, u'followers_count': 17, u'profile_sidebar_border_color': u'C0DEED', u'id_str': u'3097897493', u'profile_background_color': u'C0DEED', u'listed_count': 0, u'is_translation_enabled': False, u'utc_offset': None, u'statuses_count': 18, u'description': u\"insta: malahicks.mh .....my names Mala. I live in Scunthorpe. An 18yo girl who doesn't enjoy going out to drink. I'm an endometriosis warrior and proud of it!!!\", u'friends_count': 56, u'location': u'', u'profile_link_color': u'0084B4', u'profile_image_url': u'http://pbs.twimg.com/profile_images/578691022630309888/q1098UuJ_normal.jpeg', u'following': False, u'geo_enabled': False, u'profile_banner_url': u'https://pbs.twimg.com/profile_banners/3097897493/1427070598', u'profile_background_image_url': u'http://abs.twimg.com/images/themes/theme1/bg.png', u'name': u'Mala Chloe', u'lang': u'en', u'profile_background_tile': False, u'favourites_count': 1, u'screen_name': u'chloe_mala', u'notifications': False, u'url': None, u'created_at': u'Thu Mar 19 22:51:59 +0000 2015', u'contributors_enabled': False, u'time_zone': None, u'protected': False, u'default_profile': True, u'is_translator': False}, time_zone=None, id=3097897493, _api=<tweepy.api.API object at 0x10c070f90>, verified=False, profile_location=None, profile_image_url_https=u'https://pbs.twimg.com/profile_images/578691022630309888/q1098UuJ_normal.jpeg', profile_sidebar_fill_color=u'DDEEF6', is_translator=False, geo_enabled=False, entities={u'description': {u'urls': []}}, followers_count=17, protected=False, id_str=u'3097897493', default_profile_image=False, listed_count=0, lang=u'en', utc_offset=None, statuses_count=18, description=u\"insta: malahicks.mh .....my names Mala. I live in Scunthorpe. An 18yo girl who doesn't enjoy going out to drink. I'm an endometriosis warrior and proud of it!!!\", friends_count=56, profile_link_color=u'0084B4', profile_image_url=u'http://pbs.twimg.com/profile_images/578691022630309888/q1098UuJ_normal.jpeg', notifications=False, favourites_count=1, profile_background_image_url_https=u'https://abs.twimg.com/images/themes/theme1/bg.png', profile_background_color=u'C0DEED', profile_banner_url=u'https://pbs.twimg.com/profile_banners/3097897493/1427070598', profile_background_image_url=u'http://abs.twimg.com/images/themes/theme1/bg.png', screen_name=u'chloe_mala', is_translation_enabled=False, profile_background_tile=False, profile_text_color=u'333333', name=u'Mala Chloe', url=None, created_at=datetime.datetime(2015, 3, 19, 22, 51, 59), contributors_enabled=False, location=u'', profile_sidebar_border_color=u'C0DEED', default_profile=True, following=False), geo=None, in_reply_to_user_id_str=None, lang=u'en', created_at=datetime.datetime(2015, 3, 20, 8, 39, 52), in_reply_to_status_id_str=None, place=None, source=u'Twitter for Android', retweeted=False),\n",
       " Status(contributors=None, truncated=False, text=u\"Okay #endometriosis girls I'm on hormone pills for 3months n been told to think bout an injection make me go to menopause does it #help???\", in_reply_to_status_id=None, id=578693287189557248, favorite_count=0, _api=<tweepy.api.API object at 0x10c070f90>, author=User(follow_request_sent=False, profile_use_background_image=True, _json={u'follow_request_sent': False, u'profile_use_background_image': True, u'profile_text_color': u'333333', u'default_profile_image': False, u'id': 3097897493, u'profile_background_image_url_https': u'https://abs.twimg.com/images/themes/theme1/bg.png', u'verified': False, u'profile_location': None, u'profile_image_url_https': u'https://pbs.twimg.com/profile_images/578691022630309888/q1098UuJ_normal.jpeg', u'profile_sidebar_fill_color': u'DDEEF6', u'entities': {u'description': {u'urls': []}}, u'followers_count': 17, u'profile_sidebar_border_color': u'C0DEED', u'id_str': u'3097897493', u'profile_background_color': u'C0DEED', u'listed_count': 0, u'is_translation_enabled': False, u'utc_offset': None, u'statuses_count': 18, u'description': u\"insta: malahicks.mh .....my names Mala. I live in Scunthorpe. An 18yo girl who doesn't enjoy going out to drink. I'm an endometriosis warrior and proud of it!!!\", u'friends_count': 56, u'location': u'', u'profile_link_color': u'0084B4', u'profile_image_url': u'http://pbs.twimg.com/profile_images/578691022630309888/q1098UuJ_normal.jpeg', u'following': False, u'geo_enabled': False, u'profile_banner_url': u'https://pbs.twimg.com/profile_banners/3097897493/1427070598', u'profile_background_image_url': u'http://abs.twimg.com/images/themes/theme1/bg.png', u'name': u'Mala Chloe', u'lang': u'en', u'profile_background_tile': False, u'favourites_count': 1, u'screen_name': u'chloe_mala', u'notifications': False, u'url': None, u'created_at': u'Thu Mar 19 22:51:59 +0000 2015', u'contributors_enabled': False, u'time_zone': None, u'protected': False, u'default_profile': True, u'is_translator': False}, time_zone=None, id=3097897493, _api=<tweepy.api.API object at 0x10c070f90>, verified=False, profile_location=None, profile_image_url_https=u'https://pbs.twimg.com/profile_images/578691022630309888/q1098UuJ_normal.jpeg', profile_sidebar_fill_color=u'DDEEF6', is_translator=False, geo_enabled=False, entities={u'description': {u'urls': []}}, followers_count=17, protected=False, id_str=u'3097897493', default_profile_image=False, listed_count=0, lang=u'en', utc_offset=None, statuses_count=18, description=u\"insta: malahicks.mh .....my names Mala. I live in Scunthorpe. An 18yo girl who doesn't enjoy going out to drink. I'm an endometriosis warrior and proud of it!!!\", friends_count=56, profile_link_color=u'0084B4', profile_image_url=u'http://pbs.twimg.com/profile_images/578691022630309888/q1098UuJ_normal.jpeg', notifications=False, favourites_count=1, profile_background_image_url_https=u'https://abs.twimg.com/images/themes/theme1/bg.png', profile_background_color=u'C0DEED', profile_banner_url=u'https://pbs.twimg.com/profile_banners/3097897493/1427070598', profile_background_image_url=u'http://abs.twimg.com/images/themes/theme1/bg.png', screen_name=u'chloe_mala', is_translation_enabled=False, profile_background_tile=False, profile_text_color=u'333333', name=u'Mala Chloe', url=None, created_at=datetime.datetime(2015, 3, 19, 22, 51, 59), contributors_enabled=False, location=u'', profile_sidebar_border_color=u'C0DEED', default_profile=True, following=False), _json={u'contributors': None, u'truncated': False, u'text': u\"Okay #endometriosis girls I'm on hormone pills for 3months n been told to think bout an injection make me go to menopause does it #help???\", u'in_reply_to_status_id': None, u'id': 578693287189557248, u'favorite_count': 0, u'source': u'<a href=\"http://twitter.com/download/android\" rel=\"nofollow\">Twitter for Android</a>', u'retweeted': False, u'coordinates': None, u'entities': {u'symbols': [], u'user_mentions': [], u'hashtags': [{u'indices': [5, 19], u'text': u'endometriosis'}, {u'indices': [130, 135], u'text': u'help'}], u'urls': []}, u'in_reply_to_screen_name': None, u'id_str': u'578693287189557248', u'retweet_count': 0, u'in_reply_to_user_id': None, u'favorited': False, u'user': {u'follow_request_sent': False, u'profile_use_background_image': True, u'profile_text_color': u'333333', u'default_profile_image': False, u'id': 3097897493, u'profile_background_image_url_https': u'https://abs.twimg.com/images/themes/theme1/bg.png', u'verified': False, u'profile_location': None, u'profile_image_url_https': u'https://pbs.twimg.com/profile_images/578691022630309888/q1098UuJ_normal.jpeg', u'profile_sidebar_fill_color': u'DDEEF6', u'entities': {u'description': {u'urls': []}}, u'followers_count': 17, u'profile_sidebar_border_color': u'C0DEED', u'id_str': u'3097897493', u'profile_background_color': u'C0DEED', u'listed_count': 0, u'is_translation_enabled': False, u'utc_offset': None, u'statuses_count': 18, u'description': u\"insta: malahicks.mh .....my names Mala. I live in Scunthorpe. An 18yo girl who doesn't enjoy going out to drink. I'm an endometriosis warrior and proud of it!!!\", u'friends_count': 56, u'location': u'', u'profile_link_color': u'0084B4', u'profile_image_url': u'http://pbs.twimg.com/profile_images/578691022630309888/q1098UuJ_normal.jpeg', u'following': False, u'geo_enabled': False, u'profile_banner_url': u'https://pbs.twimg.com/profile_banners/3097897493/1427070598', u'profile_background_image_url': u'http://abs.twimg.com/images/themes/theme1/bg.png', u'name': u'Mala Chloe', u'lang': u'en', u'profile_background_tile': False, u'favourites_count': 1, u'screen_name': u'chloe_mala', u'notifications': False, u'url': None, u'created_at': u'Thu Mar 19 22:51:59 +0000 2015', u'contributors_enabled': False, u'time_zone': None, u'protected': False, u'default_profile': True, u'is_translator': False}, u'geo': None, u'in_reply_to_user_id_str': None, u'lang': u'en', u'created_at': u'Thu Mar 19 23:03:25 +0000 2015', u'in_reply_to_status_id_str': None, u'place': None}, coordinates=None, entities={u'symbols': [], u'user_mentions': [], u'hashtags': [{u'indices': [5, 19], u'text': u'endometriosis'}, {u'indices': [130, 135], u'text': u'help'}], u'urls': []}, in_reply_to_screen_name=None, id_str=u'578693287189557248', retweet_count=0, in_reply_to_user_id=None, favorited=False, source_url=u'http://twitter.com/download/android', user=User(follow_request_sent=False, profile_use_background_image=True, _json={u'follow_request_sent': False, u'profile_use_background_image': True, u'profile_text_color': u'333333', u'default_profile_image': False, u'id': 3097897493, u'profile_background_image_url_https': u'https://abs.twimg.com/images/themes/theme1/bg.png', u'verified': False, u'profile_location': None, u'profile_image_url_https': u'https://pbs.twimg.com/profile_images/578691022630309888/q1098UuJ_normal.jpeg', u'profile_sidebar_fill_color': u'DDEEF6', u'entities': {u'description': {u'urls': []}}, u'followers_count': 17, u'profile_sidebar_border_color': u'C0DEED', u'id_str': u'3097897493', u'profile_background_color': u'C0DEED', u'listed_count': 0, u'is_translation_enabled': False, u'utc_offset': None, u'statuses_count': 18, u'description': u\"insta: malahicks.mh .....my names Mala. I live in Scunthorpe. An 18yo girl who doesn't enjoy going out to drink. I'm an endometriosis warrior and proud of it!!!\", u'friends_count': 56, u'location': u'', u'profile_link_color': u'0084B4', u'profile_image_url': u'http://pbs.twimg.com/profile_images/578691022630309888/q1098UuJ_normal.jpeg', u'following': False, u'geo_enabled': False, u'profile_banner_url': u'https://pbs.twimg.com/profile_banners/3097897493/1427070598', u'profile_background_image_url': u'http://abs.twimg.com/images/themes/theme1/bg.png', u'name': u'Mala Chloe', u'lang': u'en', u'profile_background_tile': False, u'favourites_count': 1, u'screen_name': u'chloe_mala', u'notifications': False, u'url': None, u'created_at': u'Thu Mar 19 22:51:59 +0000 2015', u'contributors_enabled': False, u'time_zone': None, u'protected': False, u'default_profile': True, u'is_translator': False}, time_zone=None, id=3097897493, _api=<tweepy.api.API object at 0x10c070f90>, verified=False, profile_location=None, profile_image_url_https=u'https://pbs.twimg.com/profile_images/578691022630309888/q1098UuJ_normal.jpeg', profile_sidebar_fill_color=u'DDEEF6', is_translator=False, geo_enabled=False, entities={u'description': {u'urls': []}}, followers_count=17, protected=False, id_str=u'3097897493', default_profile_image=False, listed_count=0, lang=u'en', utc_offset=None, statuses_count=18, description=u\"insta: malahicks.mh .....my names Mala. I live in Scunthorpe. An 18yo girl who doesn't enjoy going out to drink. I'm an endometriosis warrior and proud of it!!!\", friends_count=56, profile_link_color=u'0084B4', profile_image_url=u'http://pbs.twimg.com/profile_images/578691022630309888/q1098UuJ_normal.jpeg', notifications=False, favourites_count=1, profile_background_image_url_https=u'https://abs.twimg.com/images/themes/theme1/bg.png', profile_background_color=u'C0DEED', profile_banner_url=u'https://pbs.twimg.com/profile_banners/3097897493/1427070598', profile_background_image_url=u'http://abs.twimg.com/images/themes/theme1/bg.png', screen_name=u'chloe_mala', is_translation_enabled=False, profile_background_tile=False, profile_text_color=u'333333', name=u'Mala Chloe', url=None, created_at=datetime.datetime(2015, 3, 19, 22, 51, 59), contributors_enabled=False, location=u'', profile_sidebar_border_color=u'C0DEED', default_profile=True, following=False), geo=None, in_reply_to_user_id_str=None, lang=u'en', created_at=datetime.datetime(2015, 3, 19, 23, 3, 25), in_reply_to_status_id_str=None, place=None, source=u'Twitter for Android', retweeted=False)]"
      ]
     },
     "execution_count": 14,
     "metadata": {},
     "output_type": "execute_result"
    }
   ],
   "source": [
    "r2"
   ]
  },
  {
   "cell_type": "code",
   "execution_count": null,
   "metadata": {
    "collapsed": true
   },
   "outputs": [],
   "source": [
    "\n",
    "def get_user_tweets(userid, api):\n",
    "    tweets = []\n",
    "    for tweets in tweepy.Cursor(api.user_timeline, id=userid, per_page=20).items():"
   ]
  },
  {
   "cell_type": "code",
   "execution_count": 13,
   "metadata": {},
   "outputs": [
    {
     "data": {
      "text/plain": [
       "18"
      ]
     },
     "execution_count": 13,
     "metadata": {},
     "output_type": "execute_result"
    }
   ],
   "source": [
    "len(r2)"
   ]
  },
  {
   "cell_type": "code",
   "execution_count": 5,
   "metadata": {
    "collapsed": true
   },
   "outputs": [],
   "source": [
    "search_terms = ['Spoonie',\n",
    "                 'CRPS',\n",
    "                 'Migraine',\n",
    "                 'RSD',\n",
    "                 'Fibro',\n",
    "                 'Fibromyalgia',\n",
    "                 'Vulvodynia',\n",
    "                 'ChronicPain',\n",
    "                 'pain',\n",
    "                 'endometriosis',\n",
    "                 'neuropathy',\n",
    "                 'arthritis',\n",
    "                 'neuralgia']"
   ]
  },
  {
   "cell_type": "code",
   "execution_count": 16,
   "metadata": {},
   "outputs": [
    {
     "data": {
      "text/plain": [
       "'CSUNProvost:1develops5'"
      ]
     },
     "execution_count": 16,
     "metadata": {},
     "output_type": "execute_result"
    }
   ],
   "source": [
    "import base64\n",
    "base64.b64decode(\"Q1NVTlByb3Zvc3Q6MWRldmVsb3BzNQ==\")"
   ]
  },
  {
   "cell_type": "code",
   "execution_count": 10,
   "metadata": {},
   "outputs": [],
   "source": [
    "def search_for_users(api, search_term, filepath=DATAFOLDER):\n",
    "    \"\"\"\n",
    "    Searches for users\n",
    "    Args:\n",
    "        api: Tweepy.Api instance\n",
    "        search_term: String to search for\n",
    "    \"\"\"\n",
    "    #assert(instanceof(api, tweepy.API))\n",
    "    assert(type(search_term) is str)\n",
    "    users = []\n",
    "    processed = 0\n",
    "    kept = 0\n",
    "    try:\n",
    "        for user in tweepy.Cursor(api.search_users, q=search_term, per_page=20).items():\n",
    "            processed += 1\n",
    "            if search_term in word_tokenize(user.description):\n",
    "                users.append(user)\n",
    "                kept += 1\n",
    "    except Exception as e:\n",
    "        print e\n",
    "    user_dicts = []\n",
    "    for u in users:\n",
    "        d = {'userid': u.id_str, 'condition': search_term, 'username': u.name, 'screen_name': u.screen_name, 'description': u.description}\n",
    "        user_dicts.append(d)\n",
    "    user_frame = DataFrame(user_dicts)\n",
    "    today = date.isoformat(date.today())\n",
    "    filename = \"%s/%s_user_search_%s.xlsx\" % (filepath, search_term, today)\n",
    "    user_frame.to_excel(filename)\n",
    "    print \"for %s: processed %s kept %s \\n\" % (search_term, processed, kept)"
   ]
  },
  {
   "cell_type": "code",
   "execution_count": 11,
   "metadata": {},
   "outputs": [
    {
     "name": "stdout",
     "output_type": "stream",
     "text": [
      "[{u'message': u'Invalid value 52 for parameter page parameter is invalid.', u'code': 44}]\n",
      "for fibro: processed 1040 kept 204 \n",
      "\n"
     ]
    }
   ],
   "source": [
    "search_for_users(api, 'fibro')"
   ]
  },
  {
   "cell_type": "code",
   "execution_count": null,
   "metadata": {
    "collapsed": true
   },
   "outputs": [],
   "source": [
    "search_for_users(api, 'crps')"
   ]
  },
  {
   "cell_type": "code",
   "execution_count": null,
   "metadata": {
    "collapsed": true
   },
   "outputs": [],
   "source": [
    "search_for_users(api, 'arthritis')"
   ]
  },
  {
   "cell_type": "code",
   "execution_count": null,
   "metadata": {
    "collapsed": true
   },
   "outputs": [],
   "source": [
    "search_for_users(api, 'vulvodynia')"
   ]
  },
  {
   "cell_type": "code",
   "execution_count": null,
   "metadata": {
    "collapsed": true
   },
   "outputs": [],
   "source": [
    "search_for_users(api, 'spoonie')"
   ]
  },
  {
   "cell_type": "code",
   "execution_count": null,
   "metadata": {
    "collapsed": true
   },
   "outputs": [],
   "source": [
    "search_for_users(api, 'neuralgia')"
   ]
  },
  {
   "cell_type": "code",
   "execution_count": null,
   "metadata": {
    "collapsed": true
   },
   "outputs": [],
   "source": []
  },
  {
   "cell_type": "code",
   "execution_count": 19,
   "metadata": {},
   "outputs": [
    {
     "data": {
      "text/plain": [
       "u'At http://t.co/8Ahp8mqd4n, we empower patients and caregivers by providing a platform to learn, educate & connect with peers & healthcare professionals'"
      ]
     },
     "execution_count": 19,
     "metadata": {},
     "output_type": "execute_result"
    }
   ],
   "source": [
    "u = users[0]\n",
    "u.description"
   ]
  },
  {
   "cell_type": "code",
   "execution_count": 9,
   "metadata": {
    "collapsed": true
   },
   "outputs": [],
   "source": [
    "result = api.search_users(q='migraine', per_page=20, page=1)"
   ]
  },
  {
   "cell_type": "code",
   "execution_count": 11,
   "metadata": {},
   "outputs": [
    {
     "data": {
      "text/plain": [
       "User(follow_request_sent=False, profile_use_background_image=True, _json={u'follow_request_sent': False, u'profile_use_background_image': True, u'profile_text_color': u'333333', u'default_profile_image': False, u'id': 158418189, u'profile_background_image_url_https': u'https://pbs.twimg.com/profile_background_images/838543705/7c3a4168d44ccbd5ee28b1df980a69b9.png', u'verified': True, u'profile_location': None, u'profile_image_url_https': u'https://pbs.twimg.com/profile_images/378800000867026515/2Kx8Z-Of_normal.png', u'profile_sidebar_fill_color': u'CFD7E4', u'entities': {u'url': {u'urls': [{u'url': u'http://t.co/n08QKGh3d7', u'indices': [0, 22], u'expanded_url': u'http://migraine.com', u'display_url': u'migraine.com'}]}, u'description': {u'urls': [{u'url': u'http://t.co/8Ahp8mqd4n', u'indices': [3, 25], u'expanded_url': u'http://Migraine.com', u'display_url': u'Migraine.com'}]}}, u'followers_count': 13119, u'profile_sidebar_border_color': u'FFFFFF', u'id_str': u'158418189', u'profile_background_color': u'B7B6B2', u'listed_count': 226, u'status': {u'contributors': None, u'truncated': False, u'text': u'Migraine can take a serious toll on our mental health, but it\\u2019s important not to lose hope. More from Tammy: http://t.co/uFosFGl7m1', u'in_reply_to_status_id': None, u'id': 578273434842595328, u'favorite_count': 2, u'source': u'<a href=\"http://bufferapp.com\" rel=\"nofollow\">Buffer</a>', u'retweeted': False, u'coordinates': None, u'entities': {u'symbols': [], u'user_mentions': [], u'hashtags': [], u'urls': [{u'url': u'http://t.co/uFosFGl7m1', u'indices': [109, 131], u'expanded_url': u'http://migraine.com/?p=59365', u'display_url': u'migraine.com/?p=59365'}]}, u'in_reply_to_screen_name': None, u'id_str': u'578273434842595328', u'retweet_count': 4, u'in_reply_to_user_id': None, u'favorited': False, u'geo': None, u'in_reply_to_user_id_str': None, u'possibly_sensitive': False, u'lang': u'en', u'created_at': u'Wed Mar 18 19:15:05 +0000 2015', u'in_reply_to_status_id_str': None, u'place': None}, u'is_translation_enabled': False, u'utc_offset': -10800, u'statuses_count': 6943, u'description': u'At http://t.co/8Ahp8mqd4n, we empower patients and caregivers by providing a platform to learn, educate & connect with peers & healthcare professionals', u'friends_count': 174, u'location': u'Philadelphia', u'profile_link_color': u'1F5285', u'profile_image_url': u'http://pbs.twimg.com/profile_images/378800000867026515/2Kx8Z-Of_normal.png', u'following': False, u'geo_enabled': False, u'profile_banner_url': u'https://pbs.twimg.com/profile_banners/158418189/1399480184', u'profile_background_image_url': u'http://pbs.twimg.com/profile_background_images/838543705/7c3a4168d44ccbd5ee28b1df980a69b9.png', u'name': u'Migraine.com', u'lang': u'en', u'profile_background_tile': True, u'favourites_count': 259, u'screen_name': u'Migrainedotcom', u'notifications': False, u'url': u'http://t.co/n08QKGh3d7', u'created_at': u'Tue Jun 22 16:52:41 +0000 2010', u'contributors_enabled': False, u'time_zone': u'Atlantic Time (Canada)', u'protected': False, u'default_profile': False, u'is_translator': False}, time_zone=u'Atlantic Time (Canada)', id=158418189, description=u'At http://t.co/8Ahp8mqd4n, we empower patients and caregivers by providing a platform to learn, educate & connect with peers & healthcare professionals', _api=<tweepy.api.API object at 0x111811e10>, verified=True, profile_location=None, profile_image_url_https=u'https://pbs.twimg.com/profile_images/378800000867026515/2Kx8Z-Of_normal.png', profile_sidebar_fill_color=u'CFD7E4', is_translator=False, geo_enabled=False, entities={u'url': {u'urls': [{u'url': u'http://t.co/n08QKGh3d7', u'indices': [0, 22], u'expanded_url': u'http://migraine.com', u'display_url': u'migraine.com'}]}, u'description': {u'urls': [{u'url': u'http://t.co/8Ahp8mqd4n', u'indices': [3, 25], u'expanded_url': u'http://Migraine.com', u'display_url': u'Migraine.com'}]}}, followers_count=13119, protected=False, id_str=u'158418189', default_profile_image=False, listed_count=226, status=Status(contributors=None, truncated=False, text=u'Migraine can take a serious toll on our mental health, but it\\u2019s important not to lose hope. More from Tammy: http://t.co/uFosFGl7m1', in_reply_to_status_id=None, id=578273434842595328, favorite_count=2, _api=<tweepy.api.API object at 0x111811e10>, source=u'Buffer', _json={u'contributors': None, u'truncated': False, u'text': u'Migraine can take a serious toll on our mental health, but it\\u2019s important not to lose hope. More from Tammy: http://t.co/uFosFGl7m1', u'in_reply_to_status_id': None, u'id': 578273434842595328, u'favorite_count': 2, u'source': u'<a href=\"http://bufferapp.com\" rel=\"nofollow\">Buffer</a>', u'retweeted': False, u'coordinates': None, u'entities': {u'symbols': [], u'user_mentions': [], u'hashtags': [], u'urls': [{u'url': u'http://t.co/uFosFGl7m1', u'indices': [109, 131], u'expanded_url': u'http://migraine.com/?p=59365', u'display_url': u'migraine.com/?p=59365'}]}, u'in_reply_to_screen_name': None, u'id_str': u'578273434842595328', u'retweet_count': 4, u'in_reply_to_user_id': None, u'favorited': False, u'geo': None, u'in_reply_to_user_id_str': None, u'possibly_sensitive': False, u'lang': u'en', u'created_at': u'Wed Mar 18 19:15:05 +0000 2015', u'in_reply_to_status_id_str': None, u'place': None}, coordinates=None, entities={u'symbols': [], u'user_mentions': [], u'hashtags': [], u'urls': [{u'url': u'http://t.co/uFosFGl7m1', u'indices': [109, 131], u'expanded_url': u'http://migraine.com/?p=59365', u'display_url': u'migraine.com/?p=59365'}]}, in_reply_to_screen_name=None, id_str=u'578273434842595328', retweet_count=4, in_reply_to_user_id=None, favorited=False, source_url=u'http://bufferapp.com', geo=None, in_reply_to_user_id_str=None, possibly_sensitive=False, lang=u'en', created_at=datetime.datetime(2015, 3, 18, 19, 15, 5), in_reply_to_status_id_str=None, place=None, retweeted=False), lang=u'en', utc_offset=-10800, statuses_count=6943, profile_background_color=u'B7B6B2', friends_count=174, profile_link_color=u'1F5285', profile_image_url=u'http://pbs.twimg.com/profile_images/378800000867026515/2Kx8Z-Of_normal.png', notifications=False, favourites_count=259, profile_background_image_url_https=u'https://pbs.twimg.com/profile_background_images/838543705/7c3a4168d44ccbd5ee28b1df980a69b9.png', profile_banner_url=u'https://pbs.twimg.com/profile_banners/158418189/1399480184', profile_background_image_url=u'http://pbs.twimg.com/profile_background_images/838543705/7c3a4168d44ccbd5ee28b1df980a69b9.png', screen_name=u'Migrainedotcom', is_translation_enabled=False, profile_background_tile=True, profile_text_color=u'333333', name=u'Migraine.com', url=u'http://t.co/n08QKGh3d7', created_at=datetime.datetime(2010, 6, 22, 16, 52, 41), contributors_enabled=False, location=u'Philadelphia', profile_sidebar_border_color=u'FFFFFF', default_profile=False, following=False)"
      ]
     },
     "execution_count": 11,
     "metadata": {},
     "output_type": "execute_result"
    }
   ],
   "source": [
    "result"
   ]
  },
  {
   "cell_type": "code",
   "execution_count": null,
   "metadata": {
    "collapsed": true
   },
   "outputs": [],
   "source": []
  },
  {
   "cell_type": "code",
   "execution_count": 7,
   "metadata": {},
   "outputs": [],
   "source": [
    "twitter_conn = login()\n",
    "#r = twitter_conn.search.users(q='migraine', count=100)  # tweets before ealiest record"
   ]
  },
  {
   "cell_type": "code",
   "execution_count": null,
   "metadata": {
    "collapsed": true
   },
   "outputs": [],
   "source": [
    "twitter_conn.search.users()"
   ]
  },
  {
   "cell_type": "code",
   "execution_count": 2,
   "metadata": {
    "collapsed": true
   },
   "outputs": [],
   "source": [
    "twitter.Twitter??"
   ]
  },
  {
   "cell_type": "code",
   "execution_count": 1,
   "metadata": {
    "collapsed": true
   },
   "outputs": [],
   "source": [
    "import pandas as pd"
   ]
  },
  {
   "cell_type": "code",
   "execution_count": 3,
   "metadata": {},
   "outputs": [],
   "source": [
    "d = pd.read_excel('/Users/ars62917/Dropbox/freq_wordlist.xlsx')"
   ]
  },
  {
   "cell_type": "code",
   "execution_count": 38,
   "metadata": {
    "collapsed": true
   },
   "outputs": [
    {
     "name": "stdout",
     "output_type": "stream",
     "text": [
      "400304160194568192\n",
      "400303671516614656\n",
      "400302725847457792\n",
      "400302446251347968\n",
      "400302426281873409\n",
      "400300849957974016\n",
      "400300443102097408\n",
      "400300183743131648\n",
      "400299882281697280\n",
      "400295706306822144\n",
      "400295517390794752\n",
      "400293886985519104\n",
      "400292509437267969\n",
      "400288922007502848\n",
      "400288835591892993\n",
      "400286315406962688\n",
      "400285127743647744\n",
      "400284364900007937\n",
      "400283369730088961\n",
      "400283357634134016\n",
      "400283314617335809\n",
      "400282931106574338\n",
      "400282587371147264\n",
      "400281884833230848\n",
      "400281516325888000\n",
      "400281312482705408\n",
      "400281080936161280\n",
      "400280629960384515\n",
      "400278452164509696\n",
      "400276469701550080\n",
      "400275644485222400\n",
      "400274941704036352\n",
      "400274802214469632\n",
      "400274638133288961\n",
      "400274636887560192\n",
      "400273747354984448\n",
      "400273092624519168\n",
      "400272928887279616\n",
      "400272388341760001\n",
      "400271990948261889\n",
      "400271791198724096\n",
      "400271102192414720\n",
      "400271043312365568\n",
      "400270800680677376\n",
      "400270755255955456\n",
      "400270690726604800\n",
      "400270564897456128\n",
      "400270535533150208\n",
      "400270401584254977\n",
      "400270184654860288\n",
      "400269038141853696\n",
      "400262180517724160\n",
      "400259639159562241\n",
      "400254924652806144\n",
      "400254646977298433\n"
     ]
    }
   ],
   "source": [
    "import pycurl\n",
    "from StringIO import StringIO\n",
    "import json\n",
    "\n",
    "#print body\n",
    "for r in body['rows']:\n",
    "    print r['id']"
   ]
  },
  {
   "cell_type": "code",
   "execution_count": 36,
   "metadata": {},
   "outputs": [
    {
     "data": {
      "text/plain": [
       "55"
      ]
     },
     "execution_count": 36,
     "metadata": {},
     "output_type": "execute_result"
    }
   ],
   "source": [
    "len(body['rows'])"
   ]
  },
  {
   "cell_type": "code",
   "execution_count": 43,
   "metadata": {},
   "outputs": [],
   "source": [
    "import pycurl\n",
    "from StringIO import StringIO\n",
    "import json\n",
    "import DatabaseAccessObjects.RedisDAOs\n",
    "class CouchIdGetter(DatabaseAccessObjects.RedisDAOs.RedisDAO):\n",
    "    \"\"\"\n",
    "    This pulls all doc ids from couch to find ones missing from tweetids in redis\n",
    "    Attributes:\n",
    "        redisdao: RedisDao object\n",
    "        couchdao: CouchDBDao object\n",
    "        starting_tweet: The minimum value stored in mysql\n",
    "        ending_tweet: The maximum value stored in mysql\n",
    "        increment: The amount to increase the search ids\n",
    "        recorded: Counter for number of tweets recorded\n",
    "    \"\"\"\n",
    "    def __init__(self, dbname='n-search-arthritis', db=0):\n",
    "        self.storage_set_name = 'couchdbtweetIDs'\n",
    "        if db is not 0:\n",
    "            DatabaseAccessObjects.RedisDAOs.RedisDAO.__init__(self, db)\n",
    "        else:\n",
    "            DatabaseAccessObjects.RedisDAOs.RedisDAO.__init__(self)\n",
    "        self.minerip = '169.254.203.246:5984'\n",
    "        self.dbname = dbname\n",
    "        self.starting_tweet = 4021982852191600065\n",
    "        self.bottom_limit = 3300000000000000000\n",
    "        self.increment = 100000000\n",
    "        self.minid = None\n",
    "        self.maxid = None\n",
    "        self.recorded = 0\n",
    "        \n",
    "    def check_for_less_than_starting(self):\n",
    "        \"\"\"\n",
    "        Checks to make sure no tweets in db with ids before starting value\n",
    "        \"\"\"\n",
    "        self.maxid = self.starting_tweet\n",
    "        self.minid = self.maxid - self.increment\n",
    "        while self.maxid <= self.bottom_limit:\n",
    "            query = 'GET //_all_docs?startkey=\"doc2\"&limit=2&descending=true HTTP/1.0'\n",
    "            result = _search(self.minid, self.maxid)\n",
    "            for row in result:\n",
    "                if row['id'] is not '_design/index':\n",
    "                    self.db.sadd(self.storage_set_name, row['id'])\n",
    "                    self.recorded += 1\n",
    "            self.maxid = self.minid\n",
    "            self.minid -= self.increment\n",
    "        print \"%s tweets recorded\" % self.recorded\n",
    "   \n",
    "    \n",
    "    def check_for_greater_than_starting(self):\n",
    "        \"\"\"\n",
    "        Checks for values greater than starting\n",
    "        \"\"\"\n",
    "        self.minid = self.starting_tweet\n",
    "        self.maxid = self.minid + self.increment\n",
    "        while self.minid <= self.ending_tweet:\n",
    "            query = 'GET //_all_docs?startkey=\"doc2\"&limit=2&descending=true HTTP/1.0'\n",
    "            result = _search(self.minid, self.maxid)\n",
    "            for row in result:\n",
    "                if row['id'] is not '_design/index':\n",
    "                    self.db.sadd(self.storage_set_name, row['id'])\n",
    "                    self.recorded += 1\n",
    "            self.minid = self.maxid\n",
    "            self.maxid += self.increment\n",
    "        print \"%s tweets recorded\" % self.recorded\n",
    "            \n",
    "    def _search(self, startid, stopid):\n",
    "        \"\"\"\n",
    "        Returns:\n",
    "            List of dicts with key 'id'\n",
    "        startid = 4021982852191600065\n",
    "        stopid = 400254646977298433\n",
    "        \"\"\"\n",
    "        buffer = StringIO()\n",
    "        request = 'http://%s/%s/_all_docs?startkey_docid=%s&endkey_docid=%s&descending=true' % (self.minerip, self.dbname, startid, stopid)\n",
    "        c = pycurl.Curl()\n",
    "        c.setopt(pycurl.URL, request)\n",
    "        c.setopt(c.WRITEDATA, buffer)\n",
    "        c.perform()\n",
    "        c.close()\n",
    "        body = json.loads(buffer.getvalue())\n",
    "        return body['rows']\n"
   ]
  },
  {
   "cell_type": "code",
   "execution_count": null,
   "metadata": {},
   "outputs": [],
   "source": [
    "logger = SearchLogger(LOGFILE)"
   ]
  },
  {
   "cell_type": "code",
   "execution_count": null,
   "metadata": {},
   "outputs": [],
   "source": [
    "logger.run_start(10)"
   ]
  },
  {
   "cell_type": "code",
   "execution_count": 4,
   "metadata": {},
   "outputs": [],
   "source": [
    "cdao = CouchDAO()\n",
    "cdao.connect('compiled')\n",
    "rs = RedisTools.RedisService()\n",
    "cs = CouchDBTools.CouchService()\n",
    "cs.set_dataservice(cdao)\n",
    "couch_saver = ObserverAndSubscribers.CouchSaver()\n",
    "couch_saver.set_dao(cs)\n",
    "redis_saver = ObserverAndSubscribers.RedisSaver()\n",
    "redis_saver.set_dao(rs)"
   ]
  },
  {
   "cell_type": "code",
   "execution_count": 4,
   "metadata": {},
   "outputs": [],
   "source": [
    "minerip = '169.254.203.246'\n",
    "tweet_id_getter = RedisTools.TweetIdGetter(host=minerip)"
   ]
  },
  {
   "cell_type": "code",
   "execution_count": 6,
   "metadata": {},
   "outputs": [
    {
     "data": {
      "text/plain": [
       "1274099"
      ]
     },
     "execution_count": 6,
     "metadata": {},
     "output_type": "execute_result"
    }
   ],
   "source": [
    "tweet_id_getter.count_in_source()"
   ]
  },
  {
   "cell_type": "code",
   "execution_count": 5,
   "metadata": {},
   "outputs": [
    {
     "name": "stdout",
     "output_type": "stream",
     "text": [
      "http://169.254.203.246:5984\n"
     ]
    },
    {
     "data": {
      "text/plain": [
       "True"
      ]
     },
     "execution_count": 5,
     "metadata": {},
     "output_type": "execute_result"
    }
   ],
   "source": [
    "server = \"http://%s:%s\" % (minerip, 5984)\n",
    "print server\n",
    "tweet_retriever = CouchDBTools.TweetRetriever(server=server)\n",
    "tweet_retriever._check_connected()"
   ]
  },
  {
   "cell_type": "code",
   "execution_count": 6,
   "metadata": {},
   "outputs": [
    {
     "ename": "ResourceNotFound",
     "evalue": "(u'not_found', u'missing')",
     "output_type": "error",
     "traceback": [
      "\u001b[0;31m---------------------------------------------------------------------------\u001b[0m",
      "\u001b[0;31mResourceNotFound\u001b[0m                          Traceback (most recent call last)",
      "\u001b[0;32m<ipython-input-6-572400e84892>\u001b[0m in \u001b[0;36m<module>\u001b[0;34m()\u001b[0m\n\u001b[0;32m----> 1\u001b[0;31m \u001b[0mtweet\u001b[0m \u001b[0;34m=\u001b[0m \u001b[0mtweet_retriever\u001b[0m\u001b[0;34m.\u001b[0m\u001b[0mget_tweet\u001b[0m\u001b[0;34m(\u001b[0m\u001b[0;34m'574653811685457920'\u001b[0m\u001b[0;34m)\u001b[0m\u001b[0;34m\u001b[0m\u001b[0m\n\u001b[0m",
      "\u001b[0;32m/Users/ars62917/Dropbox/PainNarrativesLab/TwitterMining/CouchDBTools.py\u001b[0m in \u001b[0;36mget_tweet\u001b[0;34m(self, tweetID)\u001b[0m\n\u001b[1;32m    167\u001b[0m             \u001b[0mTweetDataProcessors\u001b[0m\u001b[0;34m.\u001b[0m\u001b[0mTweet\u001b[0m \u001b[0mobject\u001b[0m \u001b[0;32mwith\u001b[0m \u001b[0mvalues\u001b[0m \u001b[0mall\u001b[0m \u001b[0mset\u001b[0m\u001b[0;34m\u001b[0m\u001b[0m\n\u001b[1;32m    168\u001b[0m         \"\"\"\n\u001b[0;32m--> 169\u001b[0;31m         \u001b[0mtweetraw\u001b[0m \u001b[0;34m=\u001b[0m \u001b[0mself\u001b[0m\u001b[0;34m.\u001b[0m\u001b[0mdb\u001b[0m\u001b[0;34m[\u001b[0m\u001b[0mtweetID\u001b[0m\u001b[0;34m]\u001b[0m\u001b[0;34m\u001b[0m\u001b[0m\n\u001b[0m\u001b[1;32m    170\u001b[0m         \u001b[0mtweet\u001b[0m \u001b[0;34m=\u001b[0m \u001b[0mself\u001b[0m\u001b[0;34m.\u001b[0m\u001b[0mtweet_factory\u001b[0m\u001b[0;34m.\u001b[0m\u001b[0mmake_tweet\u001b[0m\u001b[0;34m(\u001b[0m\u001b[0mtweetraw\u001b[0m\u001b[0;34m)\u001b[0m\u001b[0;34m\u001b[0m\u001b[0m\n\u001b[1;32m    171\u001b[0m         \u001b[0;32mreturn\u001b[0m \u001b[0mtweet\u001b[0m\u001b[0;34m\u001b[0m\u001b[0m\n",
      "\u001b[0;32m/usr/local/lib/python2.7/site-packages/couchdb/client.pyc\u001b[0m in \u001b[0;36m__getitem__\u001b[0;34m(self, id)\u001b[0m\n\u001b[1;32m    335\u001b[0m         \u001b[0;34m:\u001b[0m\u001b[0mrtype\u001b[0m\u001b[0;34m:\u001b[0m \u001b[0;34m`\u001b[0m\u001b[0mDocument\u001b[0m\u001b[0;34m`\u001b[0m\u001b[0;34m\u001b[0m\u001b[0m\n\u001b[1;32m    336\u001b[0m         \"\"\"\n\u001b[0;32m--> 337\u001b[0;31m         \u001b[0m_\u001b[0m\u001b[0;34m,\u001b[0m \u001b[0m_\u001b[0m\u001b[0;34m,\u001b[0m \u001b[0mdata\u001b[0m \u001b[0;34m=\u001b[0m \u001b[0m_doc_resource\u001b[0m\u001b[0;34m(\u001b[0m\u001b[0mself\u001b[0m\u001b[0;34m.\u001b[0m\u001b[0mresource\u001b[0m\u001b[0;34m,\u001b[0m \u001b[0mid\u001b[0m\u001b[0;34m)\u001b[0m\u001b[0;34m.\u001b[0m\u001b[0mget_json\u001b[0m\u001b[0;34m(\u001b[0m\u001b[0;34m)\u001b[0m\u001b[0;34m\u001b[0m\u001b[0m\n\u001b[0m\u001b[1;32m    338\u001b[0m         \u001b[0;32mreturn\u001b[0m \u001b[0mDocument\u001b[0m\u001b[0;34m(\u001b[0m\u001b[0mdata\u001b[0m\u001b[0;34m)\u001b[0m\u001b[0;34m\u001b[0m\u001b[0m\n\u001b[1;32m    339\u001b[0m \u001b[0;34m\u001b[0m\u001b[0m\n",
      "\u001b[0;32m/usr/local/lib/python2.7/site-packages/couchdb/http.pyc\u001b[0m in \u001b[0;36mget_json\u001b[0;34m(self, path, headers, **params)\u001b[0m\n\u001b[1;32m    508\u001b[0m \u001b[0;34m\u001b[0m\u001b[0m\n\u001b[1;32m    509\u001b[0m     \u001b[0;32mdef\u001b[0m \u001b[0mget_json\u001b[0m\u001b[0;34m(\u001b[0m\u001b[0mself\u001b[0m\u001b[0;34m,\u001b[0m \u001b[0mpath\u001b[0m\u001b[0;34m=\u001b[0m\u001b[0mNone\u001b[0m\u001b[0;34m,\u001b[0m \u001b[0mheaders\u001b[0m\u001b[0;34m=\u001b[0m\u001b[0mNone\u001b[0m\u001b[0;34m,\u001b[0m \u001b[0;34m**\u001b[0m\u001b[0mparams\u001b[0m\u001b[0;34m)\u001b[0m\u001b[0;34m:\u001b[0m\u001b[0;34m\u001b[0m\u001b[0m\n\u001b[0;32m--> 510\u001b[0;31m         \u001b[0;32mreturn\u001b[0m \u001b[0mself\u001b[0m\u001b[0;34m.\u001b[0m\u001b[0m_request_json\u001b[0m\u001b[0;34m(\u001b[0m\u001b[0;34m'GET'\u001b[0m\u001b[0;34m,\u001b[0m \u001b[0mpath\u001b[0m\u001b[0;34m,\u001b[0m \u001b[0mheaders\u001b[0m\u001b[0;34m=\u001b[0m\u001b[0mheaders\u001b[0m\u001b[0;34m,\u001b[0m \u001b[0;34m**\u001b[0m\u001b[0mparams\u001b[0m\u001b[0;34m)\u001b[0m\u001b[0;34m\u001b[0m\u001b[0m\n\u001b[0m\u001b[1;32m    511\u001b[0m \u001b[0;34m\u001b[0m\u001b[0m\n\u001b[1;32m    512\u001b[0m     \u001b[0;32mdef\u001b[0m \u001b[0mpost_json\u001b[0m\u001b[0;34m(\u001b[0m\u001b[0mself\u001b[0m\u001b[0;34m,\u001b[0m \u001b[0mpath\u001b[0m\u001b[0;34m=\u001b[0m\u001b[0mNone\u001b[0m\u001b[0;34m,\u001b[0m \u001b[0mbody\u001b[0m\u001b[0;34m=\u001b[0m\u001b[0mNone\u001b[0m\u001b[0;34m,\u001b[0m \u001b[0mheaders\u001b[0m\u001b[0;34m=\u001b[0m\u001b[0mNone\u001b[0m\u001b[0;34m,\u001b[0m \u001b[0;34m**\u001b[0m\u001b[0mparams\u001b[0m\u001b[0;34m)\u001b[0m\u001b[0;34m:\u001b[0m\u001b[0;34m\u001b[0m\u001b[0m\n",
      "\u001b[0;32m/usr/local/lib/python2.7/site-packages/couchdb/http.pyc\u001b[0m in \u001b[0;36m_request_json\u001b[0;34m(self, method, path, body, headers, **params)\u001b[0m\n\u001b[1;32m    531\u001b[0m     \u001b[0;32mdef\u001b[0m \u001b[0m_request_json\u001b[0m\u001b[0;34m(\u001b[0m\u001b[0mself\u001b[0m\u001b[0;34m,\u001b[0m \u001b[0mmethod\u001b[0m\u001b[0;34m,\u001b[0m \u001b[0mpath\u001b[0m\u001b[0;34m=\u001b[0m\u001b[0mNone\u001b[0m\u001b[0;34m,\u001b[0m \u001b[0mbody\u001b[0m\u001b[0;34m=\u001b[0m\u001b[0mNone\u001b[0m\u001b[0;34m,\u001b[0m \u001b[0mheaders\u001b[0m\u001b[0;34m=\u001b[0m\u001b[0mNone\u001b[0m\u001b[0;34m,\u001b[0m \u001b[0;34m**\u001b[0m\u001b[0mparams\u001b[0m\u001b[0;34m)\u001b[0m\u001b[0;34m:\u001b[0m\u001b[0;34m\u001b[0m\u001b[0m\n\u001b[1;32m    532\u001b[0m         status, headers, data = self._request(method, path, body=body,\n\u001b[0;32m--> 533\u001b[0;31m                                               headers=headers, **params)\n\u001b[0m\u001b[1;32m    534\u001b[0m         \u001b[0;32mif\u001b[0m \u001b[0;34m'application/json'\u001b[0m \u001b[0;32min\u001b[0m \u001b[0mheaders\u001b[0m\u001b[0;34m.\u001b[0m\u001b[0mget\u001b[0m\u001b[0;34m(\u001b[0m\u001b[0;34m'content-type'\u001b[0m\u001b[0;34m,\u001b[0m \u001b[0;34m''\u001b[0m\u001b[0;34m)\u001b[0m\u001b[0;34m:\u001b[0m\u001b[0;34m\u001b[0m\u001b[0m\n\u001b[1;32m    535\u001b[0m             \u001b[0mdata\u001b[0m \u001b[0;34m=\u001b[0m \u001b[0mjson\u001b[0m\u001b[0;34m.\u001b[0m\u001b[0mdecode\u001b[0m\u001b[0;34m(\u001b[0m\u001b[0mdata\u001b[0m\u001b[0;34m.\u001b[0m\u001b[0mread\u001b[0m\u001b[0;34m(\u001b[0m\u001b[0;34m)\u001b[0m\u001b[0;34m.\u001b[0m\u001b[0mdecode\u001b[0m\u001b[0;34m(\u001b[0m\u001b[0;34m'utf-8'\u001b[0m\u001b[0;34m)\u001b[0m\u001b[0;34m)\u001b[0m\u001b[0;34m\u001b[0m\u001b[0m\n",
      "\u001b[0;32m/usr/local/lib/python2.7/site-packages/couchdb/http.pyc\u001b[0m in \u001b[0;36m_request\u001b[0;34m(self, method, path, body, headers, **params)\u001b[0m\n\u001b[1;32m    527\u001b[0m         return self.session.request(method, url, body=body,\n\u001b[1;32m    528\u001b[0m                                     \u001b[0mheaders\u001b[0m\u001b[0;34m=\u001b[0m\u001b[0mall_headers\u001b[0m\u001b[0;34m,\u001b[0m\u001b[0;34m\u001b[0m\u001b[0m\n\u001b[0;32m--> 529\u001b[0;31m                                     credentials=self.credentials)\n\u001b[0m\u001b[1;32m    530\u001b[0m \u001b[0;34m\u001b[0m\u001b[0m\n\u001b[1;32m    531\u001b[0m     \u001b[0;32mdef\u001b[0m \u001b[0m_request_json\u001b[0m\u001b[0;34m(\u001b[0m\u001b[0mself\u001b[0m\u001b[0;34m,\u001b[0m \u001b[0mmethod\u001b[0m\u001b[0;34m,\u001b[0m \u001b[0mpath\u001b[0m\u001b[0;34m=\u001b[0m\u001b[0mNone\u001b[0m\u001b[0;34m,\u001b[0m \u001b[0mbody\u001b[0m\u001b[0;34m=\u001b[0m\u001b[0mNone\u001b[0m\u001b[0;34m,\u001b[0m \u001b[0mheaders\u001b[0m\u001b[0;34m=\u001b[0m\u001b[0mNone\u001b[0m\u001b[0;34m,\u001b[0m \u001b[0;34m**\u001b[0m\u001b[0mparams\u001b[0m\u001b[0;34m)\u001b[0m\u001b[0;34m:\u001b[0m\u001b[0;34m\u001b[0m\u001b[0m\n",
      "\u001b[0;32m/usr/local/lib/python2.7/site-packages/couchdb/http.pyc\u001b[0m in \u001b[0;36mrequest\u001b[0;34m(self, method, url, body, headers, credentials, num_redirects)\u001b[0m\n\u001b[1;32m    375\u001b[0m                 \u001b[0;32mraise\u001b[0m \u001b[0mUnauthorized\u001b[0m\u001b[0;34m(\u001b[0m\u001b[0merror\u001b[0m\u001b[0;34m)\u001b[0m\u001b[0;34m\u001b[0m\u001b[0m\n\u001b[1;32m    376\u001b[0m             \u001b[0;32melif\u001b[0m \u001b[0mstatus\u001b[0m \u001b[0;34m==\u001b[0m \u001b[0;36m404\u001b[0m\u001b[0;34m:\u001b[0m\u001b[0;34m\u001b[0m\u001b[0m\n\u001b[0;32m--> 377\u001b[0;31m                 \u001b[0;32mraise\u001b[0m \u001b[0mResourceNotFound\u001b[0m\u001b[0;34m(\u001b[0m\u001b[0merror\u001b[0m\u001b[0;34m)\u001b[0m\u001b[0;34m\u001b[0m\u001b[0m\n\u001b[0m\u001b[1;32m    378\u001b[0m             \u001b[0;32melif\u001b[0m \u001b[0mstatus\u001b[0m \u001b[0;34m==\u001b[0m \u001b[0;36m409\u001b[0m\u001b[0;34m:\u001b[0m\u001b[0;34m\u001b[0m\u001b[0m\n\u001b[1;32m    379\u001b[0m                 \u001b[0;32mraise\u001b[0m \u001b[0mResourceConflict\u001b[0m\u001b[0;34m(\u001b[0m\u001b[0merror\u001b[0m\u001b[0;34m)\u001b[0m\u001b[0;34m\u001b[0m\u001b[0m\n",
      "\u001b[0;31mResourceNotFound\u001b[0m: (u'not_found', u'missing')"
     ]
    }
   ],
   "source": [
    "tweet = tweet_retriever.get_tweet('574653811685457920')"
   ]
  },
  {
   "cell_type": "code",
   "execution_count": null,
   "metadata": {},
   "outputs": [],
   "source": [
    "tr = TweetRetriever()\n",
    "tweet = tr.get_tweet('574653811685457920')\n"
   ]
  },
  {
   "cell_type": "code",
   "execution_count": null,
   "metadata": {},
   "outputs": [],
   "source": [
    "d = cdao.db['574653811685457920']\n",
    "t = tweet_factory.make_tweet(d)\n",
    "t.hashtags"
   ]
  },
  {
   "cell_type": "code",
   "execution_count": null,
   "metadata": {
    "collapsed": true
   },
   "outputs": [],
   "source": [
    "tweet = Tweet()\n",
    "tweet.set_raw_tweet({'id_str': '10001', 'raw_tweet': 'Raw tweet object'})\n",
    "testtweets = [{'id_str': '10001', 'raw_tweet': 'weet tweet'}, \n",
    "              {'id_str': '10002',  'raw_tweet': 'weet tweet'}, \n",
    "              {'id_str': '10003', 'raw_tweet': 'weet tweet'}]"
   ]
  },
  {
   "cell_type": "code",
   "execution_count": null,
   "metadata": {},
   "outputs": [],
   "source": [
    "import DatabaseAccessObjects\n",
    "class TweetIdGetter(DatabaseAccessObjects.RedisDAOs.RedisDAO):\n",
    "    \"\"\"\n",
    "    Attributes:\n",
    "        temp_queue_name: String name of the redis set to create\n",
    "        storage_set_name: String name of the set where tweet ids are stored\n",
    "    \"\"\"\n",
    "    def __init__(self, db=0):\n",
    "        self.temp_queue_name = 'tweetqueue'\n",
    "        self.storage_set_name = 'tweetIDs'\n",
    "        if db is not 0:\n",
    "            DatabaseAccessObjects.RedisDAOs.RedisDAO.__init__(self, db)\n",
    "        else:\n",
    "            DatabaseAccessObjects.RedisDAOs.RedisDAO.__init__(self)\n",
    "\n",
    "    def make_queue(self):\n",
    "        \"\"\"\n",
    "        Copies tweet id set into tweetqueue\n",
    "        Returns:\n",
    "            Number of tweetids copied\n",
    "        \"\"\"\n",
    "        #rs = RedisTools.RedisService()\n",
    "        numtweets = self.db.sunionstore(self.temp_queue_name, self.storage_set_name)\n",
    "        return numtweets\n",
    "\n",
    "    def get_tweetid(self):\n",
    "        \"\"\"\n",
    "        Pops a random tweet id off the queue and returns it\n",
    "        Returns:\n",
    "            String tweetid (e.g., '574310279153999872')\n",
    "        \"\"\"\n",
    "        return self.db.spop(self.temp_queue_name)\n",
    "    \n",
    "    def count_in_source(self):\n",
    "        \"\"\"\n",
    "        Returns the number of tweetids in the source set\n",
    "        \"\"\"\n",
    "        return self.db.scard(self.storage_set_name)\n",
    "    \n",
    "    def count_in_queue(self):\n",
    "        \"\"\"\n",
    "        Returns the number of tweetids in the queue\n",
    "        \"\"\"\n",
    "        return self.db.scard(self.temp_queue_name)\n",
    "    \n",
    "    def erase_queue(self):\n",
    "        \"\"\"\n",
    "        Removes all values from the temporary queue\n",
    "        \"\"\"\n",
    "        for x in self.db.smembers(self.temp_queue_name): \n",
    "            self.db.srem(self.temp_queue_name, x)\n",
    "\n",
    "class TweetRetriever(CouchDAO):\n",
    "    def __init__(self, db_name='compiled'):\n",
    "        CouchDAO.__init__(self)\n",
    "        self.connect(db_name)\n",
    "        self.tweet_factory = TweetDataProcessors.TweetFactory()\n",
    "    \n",
    "    def get_tweet(self, tweetID):\n",
    "        \"\"\"\n",
    "        Queries couchdb for the tweetid and returns tweet object\n",
    "        Returns:\n",
    "            TweetDataProcessors.Tweet object with values all set\n",
    "        \"\"\"\n",
    "        tweetraw = self.db[tweetID]\n",
    "        tweet = self.tweet_factory.make_tweet(tweetraw)\n",
    "        return tweet  "
   ]
  },
  {
   "cell_type": "code",
   "execution_count": 3,
   "metadata": {},
   "outputs": [
    {
     "ename": "error",
     "evalue": "[Errno 61] Connection refused",
     "output_type": "error",
     "traceback": [
      "\u001b[0;31m---------------------------------------------------------------------------\u001b[0m",
      "\u001b[0;31merror\u001b[0m                                     Traceback (most recent call last)",
      "\u001b[0;32m<ipython-input-3-aa4f680070b1>\u001b[0m in \u001b[0;36m<module>\u001b[0;34m()\u001b[0m\n\u001b[1;32m      1\u001b[0m \u001b[0mcdb\u001b[0m \u001b[0;34m=\u001b[0m \u001b[0mCouchDAO\u001b[0m\u001b[0;34m(\u001b[0m\u001b[0;34m)\u001b[0m\u001b[0;34m\u001b[0m\u001b[0m\n\u001b[0;32m----> 2\u001b[0;31m \u001b[0mcdb\u001b[0m\u001b[0;34m.\u001b[0m\u001b[0mconnect\u001b[0m\u001b[0;34m(\u001b[0m\u001b[0;34m'compiled'\u001b[0m\u001b[0;34m)\u001b[0m\u001b[0;34m\u001b[0m\u001b[0m\n\u001b[0m\u001b[1;32m      3\u001b[0m \u001b[0mrdao\u001b[0m \u001b[0;34m=\u001b[0m \u001b[0mRedisDAO\u001b[0m\u001b[0;34m(\u001b[0m\u001b[0;34m)\u001b[0m\u001b[0;34m\u001b[0m\u001b[0m\n\u001b[1;32m      4\u001b[0m \u001b[0;32mfor\u001b[0m \u001b[0mtid\u001b[0m \u001b[0;32min\u001b[0m \u001b[0mcdb\u001b[0m\u001b[0;34m.\u001b[0m\u001b[0mdb\u001b[0m\u001b[0;34m:\u001b[0m\u001b[0;34m\u001b[0m\u001b[0m\n\u001b[1;32m      5\u001b[0m     \u001b[0mrdao\u001b[0m\u001b[0;34m.\u001b[0m\u001b[0msadd\u001b[0m\u001b[0;34m(\u001b[0m\u001b[0;34m'alltweets'\u001b[0m\u001b[0;34m,\u001b[0m \u001b[0mtid\u001b[0m\u001b[0;34m)\u001b[0m\u001b[0;34m\u001b[0m\u001b[0m\n",
      "\u001b[0;32m/Users/adam/Dropbox/PainNarrativesLab/TwitterMining/DatabaseAccessObjects/CouchDBDAOs.pyc\u001b[0m in \u001b[0;36mconnect\u001b[0;34m(self, database_name)\u001b[0m\n\u001b[1;32m     28\u001b[0m         \"\"\"\n\u001b[1;32m     29\u001b[0m         \u001b[0;32mtry\u001b[0m\u001b[0;34m:\u001b[0m\u001b[0;34m\u001b[0m\u001b[0m\n\u001b[0;32m---> 30\u001b[0;31m             \u001b[0mself\u001b[0m\u001b[0;34m.\u001b[0m\u001b[0mdb\u001b[0m \u001b[0;34m=\u001b[0m \u001b[0mself\u001b[0m\u001b[0;34m.\u001b[0m\u001b[0mserver\u001b[0m\u001b[0;34m.\u001b[0m\u001b[0mcreate\u001b[0m\u001b[0;34m(\u001b[0m\u001b[0mdatabase_name\u001b[0m\u001b[0;34m)\u001b[0m\u001b[0;34m\u001b[0m\u001b[0m\n\u001b[0m\u001b[1;32m     31\u001b[0m         \u001b[0;32mexcept\u001b[0m \u001b[0mcouchdb\u001b[0m\u001b[0;34m.\u001b[0m\u001b[0mhttp\u001b[0m\u001b[0;34m.\u001b[0m\u001b[0mPreconditionFailed\u001b[0m\u001b[0;34m,\u001b[0m \u001b[0me\u001b[0m\u001b[0;34m:\u001b[0m\u001b[0;34m\u001b[0m\u001b[0m\n\u001b[1;32m     32\u001b[0m             \u001b[0mself\u001b[0m\u001b[0;34m.\u001b[0m\u001b[0mdb\u001b[0m \u001b[0;34m=\u001b[0m \u001b[0mself\u001b[0m\u001b[0;34m.\u001b[0m\u001b[0mserver\u001b[0m\u001b[0;34m[\u001b[0m\u001b[0mdatabase_name\u001b[0m\u001b[0;34m]\u001b[0m\u001b[0;34m\u001b[0m\u001b[0m\n",
      "\u001b[0;32m/usr/local/lib/python2.7/site-packages/couchdb/client.pyc\u001b[0m in \u001b[0;36mcreate\u001b[0;34m(self, name)\u001b[0m\n\u001b[1;32m    200\u001b[0m         \u001b[0;34m:\u001b[0m\u001b[0;32mraise\u001b[0m \u001b[0mPreconditionFailed\u001b[0m\u001b[0;34m:\u001b[0m \u001b[0;32mif\u001b[0m \u001b[0ma\u001b[0m \u001b[0mdatabase\u001b[0m \u001b[0;32mwith\u001b[0m \u001b[0mthat\u001b[0m \u001b[0mname\u001b[0m \u001b[0malready\u001b[0m \u001b[0mexists\u001b[0m\u001b[0;34m\u001b[0m\u001b[0m\n\u001b[1;32m    201\u001b[0m         \"\"\"\n\u001b[0;32m--> 202\u001b[0;31m         \u001b[0mself\u001b[0m\u001b[0;34m.\u001b[0m\u001b[0mresource\u001b[0m\u001b[0;34m.\u001b[0m\u001b[0mput_json\u001b[0m\u001b[0;34m(\u001b[0m\u001b[0mname\u001b[0m\u001b[0;34m)\u001b[0m\u001b[0;34m\u001b[0m\u001b[0m\n\u001b[0m\u001b[1;32m    203\u001b[0m         \u001b[0;32mreturn\u001b[0m \u001b[0mself\u001b[0m\u001b[0;34m[\u001b[0m\u001b[0mname\u001b[0m\u001b[0;34m]\u001b[0m\u001b[0;34m\u001b[0m\u001b[0m\n\u001b[1;32m    204\u001b[0m \u001b[0;34m\u001b[0m\u001b[0m\n",
      "\u001b[0;32m/usr/local/lib/python2.7/site-packages/couchdb/http.pyc\u001b[0m in \u001b[0;36mput_json\u001b[0;34m(self, path, body, headers, **params)\u001b[0m\n\u001b[1;32m    529\u001b[0m     \u001b[0;32mdef\u001b[0m \u001b[0mput_json\u001b[0m\u001b[0;34m(\u001b[0m\u001b[0mself\u001b[0m\u001b[0;34m,\u001b[0m \u001b[0mpath\u001b[0m\u001b[0;34m=\u001b[0m\u001b[0mNone\u001b[0m\u001b[0;34m,\u001b[0m \u001b[0mbody\u001b[0m\u001b[0;34m=\u001b[0m\u001b[0mNone\u001b[0m\u001b[0;34m,\u001b[0m \u001b[0mheaders\u001b[0m\u001b[0;34m=\u001b[0m\u001b[0mNone\u001b[0m\u001b[0;34m,\u001b[0m \u001b[0;34m**\u001b[0m\u001b[0mparams\u001b[0m\u001b[0;34m)\u001b[0m\u001b[0;34m:\u001b[0m\u001b[0;34m\u001b[0m\u001b[0m\n\u001b[1;32m    530\u001b[0m         return self._request_json('PUT', path, body=body, headers=headers,\n\u001b[0;32m--> 531\u001b[0;31m                                   **params)\n\u001b[0m\u001b[1;32m    532\u001b[0m \u001b[0;34m\u001b[0m\u001b[0m\n\u001b[1;32m    533\u001b[0m     \u001b[0;32mdef\u001b[0m \u001b[0m_request\u001b[0m\u001b[0;34m(\u001b[0m\u001b[0mself\u001b[0m\u001b[0;34m,\u001b[0m \u001b[0mmethod\u001b[0m\u001b[0;34m,\u001b[0m \u001b[0mpath\u001b[0m\u001b[0;34m=\u001b[0m\u001b[0mNone\u001b[0m\u001b[0;34m,\u001b[0m \u001b[0mbody\u001b[0m\u001b[0;34m=\u001b[0m\u001b[0mNone\u001b[0m\u001b[0;34m,\u001b[0m \u001b[0mheaders\u001b[0m\u001b[0;34m=\u001b[0m\u001b[0mNone\u001b[0m\u001b[0;34m,\u001b[0m \u001b[0;34m**\u001b[0m\u001b[0mparams\u001b[0m\u001b[0;34m)\u001b[0m\u001b[0;34m:\u001b[0m\u001b[0;34m\u001b[0m\u001b[0m\n",
      "\u001b[0;32m/usr/local/lib/python2.7/site-packages/couchdb/http.pyc\u001b[0m in \u001b[0;36m_request_json\u001b[0;34m(self, method, path, body, headers, **params)\u001b[0m\n\u001b[1;32m    544\u001b[0m     \u001b[0;32mdef\u001b[0m \u001b[0m_request_json\u001b[0m\u001b[0;34m(\u001b[0m\u001b[0mself\u001b[0m\u001b[0;34m,\u001b[0m \u001b[0mmethod\u001b[0m\u001b[0;34m,\u001b[0m \u001b[0mpath\u001b[0m\u001b[0;34m=\u001b[0m\u001b[0mNone\u001b[0m\u001b[0;34m,\u001b[0m \u001b[0mbody\u001b[0m\u001b[0;34m=\u001b[0m\u001b[0mNone\u001b[0m\u001b[0;34m,\u001b[0m \u001b[0mheaders\u001b[0m\u001b[0;34m=\u001b[0m\u001b[0mNone\u001b[0m\u001b[0;34m,\u001b[0m \u001b[0;34m**\u001b[0m\u001b[0mparams\u001b[0m\u001b[0;34m)\u001b[0m\u001b[0;34m:\u001b[0m\u001b[0;34m\u001b[0m\u001b[0m\n\u001b[1;32m    545\u001b[0m         status, headers, data = self._request(method, path, body=body,\n\u001b[0;32m--> 546\u001b[0;31m                                               headers=headers, **params)\n\u001b[0m\u001b[1;32m    547\u001b[0m         \u001b[0;32mif\u001b[0m \u001b[0;34m'application/json'\u001b[0m \u001b[0;32min\u001b[0m \u001b[0mheaders\u001b[0m\u001b[0;34m.\u001b[0m\u001b[0mget\u001b[0m\u001b[0;34m(\u001b[0m\u001b[0;34m'content-type'\u001b[0m\u001b[0;34m)\u001b[0m\u001b[0;34m:\u001b[0m\u001b[0;34m\u001b[0m\u001b[0m\n\u001b[1;32m    548\u001b[0m             \u001b[0mdata\u001b[0m \u001b[0;34m=\u001b[0m \u001b[0mjson\u001b[0m\u001b[0;34m.\u001b[0m\u001b[0mdecode\u001b[0m\u001b[0;34m(\u001b[0m\u001b[0mdata\u001b[0m\u001b[0;34m.\u001b[0m\u001b[0mread\u001b[0m\u001b[0;34m(\u001b[0m\u001b[0;34m)\u001b[0m\u001b[0;34m)\u001b[0m\u001b[0;34m\u001b[0m\u001b[0m\n",
      "\u001b[0;32m/usr/local/lib/python2.7/site-packages/couchdb/http.pyc\u001b[0m in \u001b[0;36m_request\u001b[0;34m(self, method, path, body, headers, **params)\u001b[0m\n\u001b[1;32m    540\u001b[0m         return self.session.request(method, url, body=body,\n\u001b[1;32m    541\u001b[0m                                     \u001b[0mheaders\u001b[0m\u001b[0;34m=\u001b[0m\u001b[0mall_headers\u001b[0m\u001b[0;34m,\u001b[0m\u001b[0;34m\u001b[0m\u001b[0m\n\u001b[0;32m--> 542\u001b[0;31m                                     credentials=self.credentials)\n\u001b[0m\u001b[1;32m    543\u001b[0m \u001b[0;34m\u001b[0m\u001b[0m\n\u001b[1;32m    544\u001b[0m     \u001b[0;32mdef\u001b[0m \u001b[0m_request_json\u001b[0m\u001b[0;34m(\u001b[0m\u001b[0mself\u001b[0m\u001b[0;34m,\u001b[0m \u001b[0mmethod\u001b[0m\u001b[0;34m,\u001b[0m \u001b[0mpath\u001b[0m\u001b[0;34m=\u001b[0m\u001b[0mNone\u001b[0m\u001b[0;34m,\u001b[0m \u001b[0mbody\u001b[0m\u001b[0;34m=\u001b[0m\u001b[0mNone\u001b[0m\u001b[0;34m,\u001b[0m \u001b[0mheaders\u001b[0m\u001b[0;34m=\u001b[0m\u001b[0mNone\u001b[0m\u001b[0;34m,\u001b[0m \u001b[0;34m**\u001b[0m\u001b[0mparams\u001b[0m\u001b[0;34m)\u001b[0m\u001b[0;34m:\u001b[0m\u001b[0;34m\u001b[0m\u001b[0m\n",
      "\u001b[0;32m/usr/local/lib/python2.7/site-packages/couchdb/http.pyc\u001b[0m in \u001b[0;36mrequest\u001b[0;34m(self, method, url, body, headers, credentials, num_redirects)\u001b[0m\n\u001b[1;32m    278\u001b[0m \u001b[0;34m\u001b[0m\u001b[0m\n\u001b[1;32m    279\u001b[0m         \u001b[0mpath_query\u001b[0m \u001b[0;34m=\u001b[0m \u001b[0murlunsplit\u001b[0m\u001b[0;34m(\u001b[0m\u001b[0;34m(\u001b[0m\u001b[0;34m''\u001b[0m\u001b[0;34m,\u001b[0m \u001b[0;34m''\u001b[0m\u001b[0;34m)\u001b[0m \u001b[0;34m+\u001b[0m \u001b[0murlsplit\u001b[0m\u001b[0;34m(\u001b[0m\u001b[0murl\u001b[0m\u001b[0;34m)\u001b[0m\u001b[0;34m[\u001b[0m\u001b[0;36m2\u001b[0m\u001b[0;34m:\u001b[0m\u001b[0;36m4\u001b[0m\u001b[0;34m]\u001b[0m \u001b[0;34m+\u001b[0m \u001b[0;34m(\u001b[0m\u001b[0;34m''\u001b[0m\u001b[0;34m,\u001b[0m\u001b[0;34m)\u001b[0m\u001b[0;34m)\u001b[0m\u001b[0;34m\u001b[0m\u001b[0m\n\u001b[0;32m--> 280\u001b[0;31m         \u001b[0mconn\u001b[0m \u001b[0;34m=\u001b[0m \u001b[0mself\u001b[0m\u001b[0;34m.\u001b[0m\u001b[0mconnection_pool\u001b[0m\u001b[0;34m.\u001b[0m\u001b[0mget\u001b[0m\u001b[0;34m(\u001b[0m\u001b[0murl\u001b[0m\u001b[0;34m)\u001b[0m\u001b[0;34m\u001b[0m\u001b[0m\n\u001b[0m\u001b[1;32m    281\u001b[0m \u001b[0;34m\u001b[0m\u001b[0m\n\u001b[1;32m    282\u001b[0m         \u001b[0;32mdef\u001b[0m \u001b[0m_try_request_with_retries\u001b[0m\u001b[0;34m(\u001b[0m\u001b[0mretries\u001b[0m\u001b[0;34m)\u001b[0m\u001b[0;34m:\u001b[0m\u001b[0;34m\u001b[0m\u001b[0m\n",
      "\u001b[0;32m/usr/local/lib/python2.7/site-packages/couchdb/http.pyc\u001b[0m in \u001b[0;36mget\u001b[0;34m(self, url)\u001b[0m\n\u001b[1;32m    468\u001b[0m                 \u001b[0;32mraise\u001b[0m \u001b[0mValueError\u001b[0m\u001b[0;34m(\u001b[0m\u001b[0;34m'%s is not a supported scheme'\u001b[0m \u001b[0;34m%\u001b[0m \u001b[0mscheme\u001b[0m\u001b[0;34m)\u001b[0m\u001b[0;34m\u001b[0m\u001b[0m\n\u001b[1;32m    469\u001b[0m             \u001b[0mconn\u001b[0m \u001b[0;34m=\u001b[0m \u001b[0mcls\u001b[0m\u001b[0;34m(\u001b[0m\u001b[0mhost\u001b[0m\u001b[0;34m,\u001b[0m \u001b[0mtimeout\u001b[0m\u001b[0;34m=\u001b[0m\u001b[0mself\u001b[0m\u001b[0;34m.\u001b[0m\u001b[0mtimeout\u001b[0m\u001b[0;34m)\u001b[0m\u001b[0;34m\u001b[0m\u001b[0m\n\u001b[0;32m--> 470\u001b[0;31m             \u001b[0mconn\u001b[0m\u001b[0;34m.\u001b[0m\u001b[0mconnect\u001b[0m\u001b[0;34m(\u001b[0m\u001b[0;34m)\u001b[0m\u001b[0;34m\u001b[0m\u001b[0m\n\u001b[0m\u001b[1;32m    471\u001b[0m \u001b[0;34m\u001b[0m\u001b[0m\n\u001b[1;32m    472\u001b[0m         \u001b[0;32mreturn\u001b[0m \u001b[0mconn\u001b[0m\u001b[0;34m\u001b[0m\u001b[0m\n",
      "\u001b[0;32m/usr/local/Cellar/python/2.7.9/Frameworks/Python.framework/Versions/2.7/lib/python2.7/httplib.pyc\u001b[0m in \u001b[0;36mconnect\u001b[0;34m(self)\u001b[0m\n\u001b[1;32m    791\u001b[0m         \u001b[0;34m\"\"\"Connect to the host and port specified in __init__.\"\"\"\u001b[0m\u001b[0;34m\u001b[0m\u001b[0m\n\u001b[1;32m    792\u001b[0m         self.sock = self._create_connection((self.host,self.port),\n\u001b[0;32m--> 793\u001b[0;31m                                            self.timeout, self.source_address)\n\u001b[0m\u001b[1;32m    794\u001b[0m \u001b[0;34m\u001b[0m\u001b[0m\n\u001b[1;32m    795\u001b[0m         \u001b[0;32mif\u001b[0m \u001b[0mself\u001b[0m\u001b[0;34m.\u001b[0m\u001b[0m_tunnel_host\u001b[0m\u001b[0;34m:\u001b[0m\u001b[0;34m\u001b[0m\u001b[0m\n",
      "\u001b[0;32m/usr/local/Cellar/python/2.7.9/Frameworks/Python.framework/Versions/2.7/lib/python2.7/socket.pyc\u001b[0m in \u001b[0;36mcreate_connection\u001b[0;34m(address, timeout, source_address)\u001b[0m\n\u001b[1;32m    569\u001b[0m \u001b[0;34m\u001b[0m\u001b[0m\n\u001b[1;32m    570\u001b[0m     \u001b[0;32mif\u001b[0m \u001b[0merr\u001b[0m \u001b[0;32mis\u001b[0m \u001b[0;32mnot\u001b[0m \u001b[0mNone\u001b[0m\u001b[0;34m:\u001b[0m\u001b[0;34m\u001b[0m\u001b[0m\n\u001b[0;32m--> 571\u001b[0;31m         \u001b[0;32mraise\u001b[0m \u001b[0merr\u001b[0m\u001b[0;34m\u001b[0m\u001b[0m\n\u001b[0m\u001b[1;32m    572\u001b[0m     \u001b[0;32melse\u001b[0m\u001b[0;34m:\u001b[0m\u001b[0;34m\u001b[0m\u001b[0m\n\u001b[1;32m    573\u001b[0m         \u001b[0;32mraise\u001b[0m \u001b[0merror\u001b[0m\u001b[0;34m(\u001b[0m\u001b[0;34m\"getaddrinfo returns an empty list\"\u001b[0m\u001b[0;34m)\u001b[0m\u001b[0;34m\u001b[0m\u001b[0m\n",
      "\u001b[0;31merror\u001b[0m: [Errno 61] Connection refused"
     ]
    }
   ],
   "source": [
    "cdb = CouchDAO()\n",
    "cdb.connect('compiled')\n",
    "rdao = RedisDAO()\n",
    "for tid in cdb.db:\n",
    "    rdao.sadd('alltweets', tid)"
   ]
  },
  {
   "cell_type": "code",
   "execution_count": null,
   "metadata": {},
   "outputs": [],
   "source": [
    "couch_saver.save([tweet])"
   ]
  },
  {
   "cell_type": "code",
   "execution_count": null,
   "metadata": {},
   "outputs": [],
   "source": [
    "redis_saver.save(testtweets)"
   ]
  },
  {
   "cell_type": "code",
   "execution_count": null,
   "metadata": {},
   "outputs": [],
   "source": [
    "rs.save_tweet_id('10001')"
   ]
  },
  {
   "cell_type": "code",
   "execution_count": null,
   "metadata": {
    "collapsed": true
   },
   "outputs": [],
   "source": [
    "rs.loadkeys()"
   ]
  },
  {
   "cell_type": "code",
   "execution_count": null,
   "metadata": {},
   "outputs": [],
   "source": [
    "rs.keys"
   ]
  },
  {
   "cell_type": "code",
   "execution_count": null,
   "metadata": {},
   "outputs": [],
   "source": [
    "#max id\n",
    "rs.db.sort('tweetIDs', start=0, num=1, desc=True)"
   ]
  },
  {
   "cell_type": "code",
   "execution_count": null,
   "metadata": {
    "collapsed": true
   },
   "outputs": [],
   "source": [
    "import RedisTools\n",
    "import CouchDBTools\n",
    "\n",
    "def checker(tweetid):\n",
    "    if tweetid is None:\n",
    "        return False\n",
    "    else:\n",
    "        return True\n",
    "\n",
    "tig = RedisTools.TweetIdGetter()\n",
    "tweet_retriever = CouchDBTools.TweetRetriever()\n",
    "numtweets = tig.make_queue()\n",
    "print \"%s tweetids to process\" % numtweets\n",
    "go = True\n",
    "while True:\n",
    "    tweetid = tig.get_tweetid()\n",
    "    go = checker(tweetid)\n",
    "    print tweetid\n",
    "    tweet = tweet_retriever.get_tweet(tweetid)\n",
    "    print tweet.tweetID\n",
    "        \n",
    "        "
   ]
  },
  {
   "cell_type": "code",
   "execution_count": null,
   "metadata": {},
   "outputs": [],
   "source": []
  },
  {
   "cell_type": "code",
   "execution_count": null,
   "metadata": {},
   "outputs": [],
   "source": [
    "tig.count_in_source()"
   ]
  },
  {
   "cell_type": "code",
   "execution_count": null,
   "metadata": {},
   "outputs": [],
   "source": [
    "tig = TweetIdGetter()\n",
    "tig.erase_queue()\n",
    "tig.count_in_queue()"
   ]
  },
  {
   "cell_type": "code",
   "execution_count": null,
   "metadata": {},
   "outputs": [],
   "source": [
    "tid = tig.get_tweetid()\n",
    "if tid is None:\n",
    "    print 'cat'"
   ]
  },
  {
   "cell_type": "code",
   "execution_count": null,
   "metadata": {},
   "outputs": [],
   "source": []
  },
  {
   "cell_type": "code",
   "execution_count": null,
   "metadata": {
    "collapsed": true
   },
   "outputs": [],
   "source": [
    "rs.db.smembers('tweetqueue')"
   ]
  },
  {
   "cell_type": "code",
   "execution_count": 4,
   "metadata": {
    "collapsed": true
   },
   "outputs": [],
   "source": [
    "data = [8, 4]\n",
    "assert(type(data) is list)"
   ]
  },
  {
   "cell_type": "code",
   "execution_count": null,
   "metadata": {
    "scrolled": true
   },
   "outputs": [],
   "source": [
    "%run Automine4\n",
    "getNewerTweets()"
   ]
  },
  {
   "cell_type": "code",
   "execution_count": null,
   "metadata": {},
   "outputs": [],
   "source": [
    "len(Searcher._observers[0]._tweet_queue)"
   ]
  },
  {
   "cell_type": "markdown",
   "metadata": {},
   "source": [
    "'Spoonie',\n",
    "'CRPS',\n",
    "'Migraine',\n",
    "'RSD',\n",
    "'Fibro',\n",
    "'Fibromyalgia',\n",
    "'Vulvodynia',\n",
    "'ChronicPain',\n",
    "'pain',\n",
    "'endometriosis',\n",
    "'neuropathy',\n",
    "'arthritis',\n",
    "'neuralgia']\n",
    "Shingles, MS, low back pain"
   ]
  },
  {
   "cell_type": "code",
   "execution_count": null,
   "metadata": {},
   "outputs": [],
   "source": [
    "\n",
    "LOGFILE = '%s/Desktop/twitter_miner_log.txt' % UPATH\n",
    "\n",
    "DB_NAME = 'n-search-crps'\n",
    "\n",
    "tag_helper = TagHelpers()\n",
    "# Initialize mysql handler classes\n",
    "credentials = SqlCredentials.Credentials()\n",
    "credentials.load_credentials(SQL_CREDENTIALS)\n",
    "mysql_dao = TwitterSQLService.SQLService(credentials)\n",
    "# Initialize services for mysql\n",
    "TweetService = TweetService()\n",
    "TweetService.set_dao(mysql_dao)\n",
    "TweetService.set_helper(tag_helper)\n",
    "\n",
    "HashtagService = HashtagService()\n",
    "HashtagService.set_helper(tag_helper)\n",
    "HashtagService.set_dao(mysql_dao)\n",
    "\n",
    "extractor = Extractors()\n",
    "\n",
    "UserService = UserService()\n",
    "UserService.set_dao(mysql_dao)\n",
    "\n",
    "Logger = SearchLogger()\n",
    "Logger.set_log_file(LOGFILE)\n",
    "Logger.write('ready')"
   ]
  },
  {
   "cell_type": "code",
   "execution_count": 12,
   "metadata": {},
   "outputs": [
    {
     "ename": "OperationalError",
     "evalue": "(2003, \"Can't connect to MySQL server on 'adams-imac.csun.edu' (60)\")",
     "output_type": "error",
     "traceback": [
      "\u001b[0;31m---------------------------------------------------------------------------\u001b[0m",
      "\u001b[0;31mOperationalError\u001b[0m                          Traceback (most recent call last)",
      "\u001b[0;32m<ipython-input-12-a9c6e097925a>\u001b[0m in \u001b[0;36m<module>\u001b[0;34m()\u001b[0m\n\u001b[1;32m     10\u001b[0m                                   \u001b[0muser\u001b[0m\u001b[0;34m=\u001b[0m\u001b[0mcredentials\u001b[0m\u001b[0;34m.\u001b[0m\u001b[0musername\u001b[0m\u001b[0;34m(\u001b[0m\u001b[0;34m)\u001b[0m\u001b[0;34m,\u001b[0m\u001b[0;34m\u001b[0m\u001b[0m\n\u001b[1;32m     11\u001b[0m                                   \u001b[0mpasswd\u001b[0m\u001b[0;34m=\u001b[0m\u001b[0mcredentials\u001b[0m\u001b[0;34m.\u001b[0m\u001b[0mpassword\u001b[0m\u001b[0;34m(\u001b[0m\u001b[0;34m)\u001b[0m\u001b[0;34m,\u001b[0m\u001b[0;34m\u001b[0m\u001b[0m\n\u001b[0;32m---> 12\u001b[0;31m                                   db=credentials.database())#,\n\u001b[0m\u001b[1;32m     13\u001b[0m                                   \u001b[0;31m# charset='utf8',\u001b[0m\u001b[0;34m\u001b[0m\u001b[0;34m\u001b[0m\u001b[0m\n\u001b[1;32m     14\u001b[0m                                   \u001b[0;31m# use_unicode=1)\u001b[0m\u001b[0;34m\u001b[0m\u001b[0;34m\u001b[0m\u001b[0m\n",
      "\u001b[0;32m/usr/local/lib/python2.7/site-packages/MySQLdb/__init__.pyc\u001b[0m in \u001b[0;36mConnect\u001b[0;34m(*args, **kwargs)\u001b[0m\n\u001b[1;32m     79\u001b[0m     \u001b[0;34m\"\"\"Factory function for connections.Connection.\"\"\"\u001b[0m\u001b[0;34m\u001b[0m\u001b[0m\n\u001b[1;32m     80\u001b[0m     \u001b[0;32mfrom\u001b[0m \u001b[0mMySQLdb\u001b[0m\u001b[0;34m.\u001b[0m\u001b[0mconnections\u001b[0m \u001b[0;32mimport\u001b[0m \u001b[0mConnection\u001b[0m\u001b[0;34m\u001b[0m\u001b[0m\n\u001b[0;32m---> 81\u001b[0;31m     \u001b[0;32mreturn\u001b[0m \u001b[0mConnection\u001b[0m\u001b[0;34m(\u001b[0m\u001b[0;34m*\u001b[0m\u001b[0margs\u001b[0m\u001b[0;34m,\u001b[0m \u001b[0;34m**\u001b[0m\u001b[0mkwargs\u001b[0m\u001b[0;34m)\u001b[0m\u001b[0;34m\u001b[0m\u001b[0m\n\u001b[0m\u001b[1;32m     82\u001b[0m \u001b[0;34m\u001b[0m\u001b[0m\n\u001b[1;32m     83\u001b[0m \u001b[0mconnect\u001b[0m \u001b[0;34m=\u001b[0m \u001b[0mConnection\u001b[0m \u001b[0;34m=\u001b[0m \u001b[0mConnect\u001b[0m\u001b[0;34m\u001b[0m\u001b[0m\n",
      "\u001b[0;32m/usr/local/lib/python2.7/site-packages/MySQLdb/connections.pyc\u001b[0m in \u001b[0;36m__init__\u001b[0;34m(self, *args, **kwargs)\u001b[0m\n\u001b[1;32m    191\u001b[0m         \u001b[0mautocommit\u001b[0m \u001b[0;34m=\u001b[0m \u001b[0mkwargs2\u001b[0m\u001b[0;34m.\u001b[0m\u001b[0mpop\u001b[0m\u001b[0;34m(\u001b[0m\u001b[0;34m'autocommit'\u001b[0m\u001b[0;34m,\u001b[0m \u001b[0mFalse\u001b[0m\u001b[0;34m)\u001b[0m\u001b[0;34m\u001b[0m\u001b[0m\n\u001b[1;32m    192\u001b[0m \u001b[0;34m\u001b[0m\u001b[0m\n\u001b[0;32m--> 193\u001b[0;31m         \u001b[0msuper\u001b[0m\u001b[0;34m(\u001b[0m\u001b[0mConnection\u001b[0m\u001b[0;34m,\u001b[0m \u001b[0mself\u001b[0m\u001b[0;34m)\u001b[0m\u001b[0;34m.\u001b[0m\u001b[0m__init__\u001b[0m\u001b[0;34m(\u001b[0m\u001b[0;34m*\u001b[0m\u001b[0margs\u001b[0m\u001b[0;34m,\u001b[0m \u001b[0;34m**\u001b[0m\u001b[0mkwargs2\u001b[0m\u001b[0;34m)\u001b[0m\u001b[0;34m\u001b[0m\u001b[0m\n\u001b[0m\u001b[1;32m    194\u001b[0m         \u001b[0mself\u001b[0m\u001b[0;34m.\u001b[0m\u001b[0mcursorclass\u001b[0m \u001b[0;34m=\u001b[0m \u001b[0mcursorclass\u001b[0m\u001b[0;34m\u001b[0m\u001b[0m\n\u001b[1;32m    195\u001b[0m         self.encoders = dict([ (k, v) for k, v in conv.items()\n",
      "\u001b[0;31mOperationalError\u001b[0m: (2003, \"Can't connect to MySQL server on 'adams-imac.csun.edu' (60)\")"
     ]
    }
   ],
   "source": [
    "#testing mysql connection\n",
    "import MySQLdb as msq\n",
    "import MySQLdb.cursors\n",
    "from DatabaseAccessObjects import SqlCredentials\n",
    "SQL_CREDENTIALS = \"%s/private_credentials/sql_miner_credentials.xml\" % BASE\n",
    "credentials = SqlCredentials.Credentials()\n",
    "credentials.load_credentials(SQL_CREDENTIALS)\n",
    "\n",
    "db = msq.connect(host=credentials.host(), port=credentials.port(),\n",
    "                                  user=credentials.username(), \n",
    "                                  passwd=credentials.password(),\n",
    "                                  db=credentials.database())#,\n",
    "                                  # charset='utf8',\n",
    "                                  # use_unicode=1)\n",
    "                                 # cursorclass=MySQLdb.cursors.DictCursor)"
   ]
  },
  {
   "cell_type": "code",
   "execution_count": 9,
   "metadata": {},
   "outputs": [],
   "source": [
    "import MySQLdb as msq"
   ]
  },
  {
   "cell_type": "code",
   "execution_count": null,
   "metadata": {},
   "outputs": [],
   "source": [
    "# Initialize couchdb handler classes\n",
    "couch_dao = CouchDAO(server='http://169.254.113.17:5984')\n",
    "couch_dao.connect(DB_NAME)\n",
    "result = couch_dao.query(\"\"\"function(doc){emit (doc.id, doc);}\"\"\")"
   ]
  },
  {
   "cell_type": "code",
   "execution_count": null,
   "metadata": {},
   "outputs": [],
   "source": [
    "attempts = 0\n",
    "errors = 0\n",
    "tweetids = 0\n",
    "\n",
    "try:\n",
    "    for r in result:\n",
    "        attempts += 1\n",
    "        UserService.recordUser(r['value']['user'])\n",
    "        TweetService.recordTweetData(r['id'], r['value'])\n",
    "        tags = tag_helper.getHashtags(r['value'])\n",
    "     #   tags = Extractors.extractHashtags(r)       \n",
    "#        for t in r['value']['entities']['hashtags']:\n",
    "#            tags.append(t['text'])\n",
    "        if len(tags) > 0:\n",
    "            #for t in tags:\n",
    "             #   print t\n",
    "               # HashtagService._recordTagText(t)\n",
    "            HashtagService.recordHashtags(r['id'], tags)\n",
    "        tweetids += 1\n",
    "except Exception as e:\n",
    "    errors += 1\n",
    "    print e\n",
    "\n",
    "finally:\n",
    "    print '%i tweets processed' % attempts\n",
    "    print '%i errors in processing tweets' % errors\n",
    "    print '%i tweets successfully processed' % tweetids"
   ]
  },
  {
   "cell_type": "code",
   "execution_count": null,
   "metadata": {},
   "outputs": [],
   "source": [
    "result.total_rows"
   ]
  },
  {
   "cell_type": "code",
   "execution_count": null,
   "metadata": {},
   "outputs": [],
   "source": [
    "from BeautifulSoup import BeautifulStoneSoup\n",
    "def ff(text):\n",
    "    clean = unicode(BeautifulStoneSoup(text, convertEntities=BeautifulStoneSoup.ALL_ENTITIES))\n",
    "    return clean\n"
   ]
  },
  {
   "cell_type": "code",
   "execution_count": null,
   "metadata": {},
   "outputs": [],
   "source": [
    "t = ff('複合性局所疼痛症候群')\n",
    "t.lower()"
   ]
  },
  {
   "cell_type": "code",
   "execution_count": null,
   "metadata": {},
   "outputs": [],
   "source": [
    "k = []\n",
    "for j in result:\n",
    "    k.append(j)\n",
    "q = k[0]['value']['entities']['hashtags']"
   ]
  },
  {
   "cell_type": "code",
   "execution_count": null,
   "metadata": {},
   "outputs": [],
   "source": [
    "q"
   ]
  },
  {
   "cell_type": "code",
   "execution_count": null,
   "metadata": {},
   "outputs": [],
   "source": [
    "tag_helper.format(q[0]['text'])"
   ]
  },
  {
   "cell_type": "code",
   "execution_count": null,
   "metadata": {},
   "outputs": [],
   "source": [
    "for r in result:\n",
    "    UserService.recordUser(r['value']['user'])\n",
    "    TweetService.recordTweetData(r['id'], r['value'])\n",
    "    for t in r['value']['entities']['hashtags']:\n",
    "        tags = []\n",
    "        tags.append(t['text'])\n",
    "    HashtagService.recordHashtags(r['id'], tags)"
   ]
  },
  {
   "cell_type": "code",
   "execution_count": null,
   "metadata": {},
   "outputs": [],
   "source": [
    "for r in result:\n",
    "    UserService.recordUser(r['value']['user'])"
   ]
  },
  {
   "cell_type": "code",
   "execution_count": null,
   "metadata": {},
   "outputs": [],
   "source": [
    "for r in result:\n",
    "    TweetService.recordTweetData(r['id'], r['value'])"
   ]
  },
  {
   "cell_type": "code",
   "execution_count": null,
   "metadata": {},
   "outputs": [],
   "source": [
    "for r in result:\n",
    "    tags = []\n",
    "    for t in r['value']['entities']['hashtags']:\n",
    "        tags.append(t['text'])\n",
    "    print tags, r['id']\n",
    "    #HashtagService.recordHashtags(r['id'], tags)"
   ]
  },
  {
   "cell_type": "code",
   "execution_count": null,
   "metadata": {},
   "outputs": [],
   "source": [
    "tweets = []\n",
    "for r in result:\n",
    "    tweets.append((r['id'], r['value']['user'], r['value'], r.value['entities']['hashtags']))"
   ]
  },
  {
   "cell_type": "code",
   "execution_count": null,
   "metadata": {},
   "outputs": [],
   "source": [
    "len(result)"
   ]
  },
  {
   "cell_type": "code",
   "execution_count": null,
   "metadata": {},
   "outputs": [],
   "source": [
    "tweets[0]"
   ]
  },
  {
   "cell_type": "code",
   "execution_count": null,
   "metadata": {},
   "outputs": [],
   "source": [
    "(tweetid, tweet, tags, user)"
   ]
  },
  {
   "cell_type": "code",
   "execution_count": null,
   "metadata": {},
   "outputs": [],
   "source": [
    "CREDENTIALS_FILE = \"%s/private_credentials/twittercredentials.xml\" % BASE\n",
    "DB_CREDENTIALS = \"%s/private_credentials/sql_local_credentials.xml\" % BASE\n",
    "#DB_CREDENTIALS = \"/Users/ars62917/Dropbox/PainNarrativesLab/private_credentials/sql_csun_read_credentials.xml\"\n",
    "#DB_CREDENTIALS = \"/Users/ars62917/Dropbox/PainNarrativesLab/private_credentials/sql_csun_write_credentials.xml\""
   ]
  },
  {
   "cell_type": "code",
   "execution_count": null,
   "metadata": {},
   "outputs": [],
   "source": []
  },
  {
   "cell_type": "code",
   "execution_count": null,
   "metadata": {},
   "outputs": [],
   "source": [
    "import TwitterLogin"
   ]
  },
  {
   "cell_type": "code",
   "execution_count": null,
   "metadata": {},
   "outputs": [],
   "source": [
    "%debug \n",
    "t = TwitterLogin.Login(CREDENTIALS_FILE)"
   ]
  },
  {
   "cell_type": "code",
   "execution_count": null,
   "metadata": {},
   "outputs": [],
   "source": [
    "t.AP"
   ]
  },
  {
   "cell_type": "code",
   "execution_count": null,
   "metadata": {
    "collapsed": true
   },
   "outputs": [],
   "source": []
  },
  {
   "cell_type": "code",
   "execution_count": null,
   "metadata": {},
   "outputs": [],
   "source": [
    "t.ACCESS_TOKEN"
   ]
  },
  {
   "cell_type": "code",
   "execution_count": null,
   "metadata": {},
   "outputs": [],
   "source": [
    "t.search.tweets(q='cat')"
   ]
  },
  {
   "cell_type": "code",
   "execution_count": null,
   "metadata": {},
   "outputs": [],
   "source": [
    "j.text"
   ]
  },
  {
   "cell_type": "code",
   "execution_count": null,
   "metadata": {},
   "outputs": [],
   "source": [
    "from DatabaseAccessObjects import SqlCredentials\n",
    "c = SqlCredentials.Credentials()\n",
    "#c = Credentials()\n",
    "c.load_credentials(DB_CREDENTIALS)"
   ]
  },
  {
   "cell_type": "code",
   "execution_count": null,
   "metadata": {},
   "outputs": [],
   "source": [
    "c.sql_alchemy_engine()"
   ]
  },
  {
   "cell_type": "code",
   "execution_count": null,
   "metadata": {},
   "outputs": [],
   "source": [
    "class Credentials(object):\n",
    "   \n",
    "    def __init__(self):\n",
    "        self.db_host = \"mysqlent.csun.edu\"\n",
    "        self.db_user = ''\n",
    "        self.db_name = ''\n",
    "        self.db_password = ''\n",
    "        self.db_port = '42424'\n",
    "        \n",
    "    def host(self):\n",
    "        return self.db_host;\n",
    "    \n",
    "    def username(self):\n",
    "        return self.db_user\n",
    "    \n",
    "    def database(self):\n",
    "        return self.db_name\n",
    "    \n",
    "    def port(self):\n",
    "        return self.db_port\n",
    "\n",
    "class RemoteTestingCredentials(Credentials):\n",
    "        db_host = 'testhost'\n",
    "        \n",
    "        def __init__(self):\n",
    "            Credentials.__init__(self) \n",
    "            self.username = 'testusername'\n",
    "            self.db_name = 'testdbname'\n",
    "            self.password = 'testpassword'\n",
    "            self.port = 'testport'\n",
    "\n",
    "class RemoteReadOnlyCredentials(Credentials):\n",
    "        \n",
    "        def __init__(self):\n",
    "            Credentials.__init__(self)\n",
    "            #self.db_host = \"mysqlent.csun.edu\"\n",
    "            self.username = 'ds_ars629'\n",
    "            self.db_name = 'ars62917'\n",
    "            self.password = 'select'\n",
    "            #self.port = '42424'"
   ]
  },
  {
   "cell_type": "code",
   "execution_count": null,
   "metadata": {},
   "outputs": [],
   "source": [
    "rct = RemoteTestingCredentials()\n",
    "rct.host()"
   ]
  },
  {
   "cell_type": "code",
   "execution_count": null,
   "metadata": {},
   "outputs": [],
   "source": [
    "from TwitterSqlDaos import TwitterSQLDAO as SqlDao\n",
    "from SaveToMySQL import *\n",
    "from TweetSaverService import *\n",
    "from TwitterDataProcessors import *"
   ]
  },
  {
   "cell_type": "code",
   "execution_count": null,
   "metadata": {},
   "outputs": [],
   "source": [
    "#Load test tweets \n",
    "%cd tests\n",
    "from TwitterProjectTestEntities import *\n",
    "%cd twitterproject"
   ]
  },
  {
   "cell_type": "code",
   "execution_count": null,
   "metadata": {},
   "outputs": [],
   "source": [
    "#Maker for tweet objects\n",
    "TF = TweetFactory()\n",
    "TF.set_extractors(Extractors())\n",
    "#Make a test tweet object\n",
    "test2 = TF.make_tweet(test_tweet2)"
   ]
  },
  {
   "cell_type": "code",
   "execution_count": null,
   "metadata": {},
   "outputs": [],
   "source": [
    "test2.user"
   ]
  },
  {
   "cell_type": "code",
   "execution_count": null,
   "metadata": {},
   "outputs": [],
   "source": []
  },
  {
   "cell_type": "markdown",
   "metadata": {},
   "source": [
    "###MySQL interaction"
   ]
  },
  {
   "cell_type": "code",
   "execution_count": null,
   "metadata": {},
   "outputs": [],
   "source": [
    "#MySQL interaction daos\n",
    "tweetservice = TweetService()\n",
    "tweetservice.set_dao(SqlDao(test=True))\n",
    "tweetservice.set_taghelper(TagHelpers())\n",
    "#User handling\n",
    "userservice = UserService()\n",
    "userservice.set_dao(SqlDao(test=True))\n",
    "#Hashtag handling\n",
    "tagservice = HashtagService()\n",
    "tagservice.set_dao(SqlDao(test=True))\n",
    "tagservice.set_taghelper(TagHelpers())"
   ]
  },
  {
   "cell_type": "code",
   "execution_count": null,
   "metadata": {},
   "outputs": [],
   "source": [
    "#Test recording user in mysql\n",
    "userservice.recordUser(t.user)"
   ]
  },
  {
   "cell_type": "code",
   "execution_count": null,
   "metadata": {},
   "outputs": [],
   "source": []
  },
  {
   "cell_type": "code",
   "execution_count": null,
   "metadata": {},
   "outputs": [],
   "source": [
    "tweetservice.recordTweetData(10000230, record)"
   ]
  },
  {
   "cell_type": "markdown",
   "metadata": {},
   "source": [
    "###Tweet harvester"
   ]
  },
  {
   "cell_type": "code",
   "execution_count": null,
   "metadata": {},
   "outputs": [],
   "source": [
    "#%load_ext autoreload\n",
    "#%autoreload 2\n",
    "#dreload(Automine4)\n",
    "%run Automine4.py\n",
    "#getNewerTweets()"
   ]
  },
  {
   "cell_type": "markdown",
   "metadata": {},
   "source": [
    "###Saving in couchdb"
   ]
  },
  {
   "cell_type": "code",
   "execution_count": null,
   "metadata": {},
   "outputs": [],
   "source": [
    "#Test saving in couchdb\n",
    "from TwitterServiceClasses import CouchService\n",
    "DB_NAME = 'compiled'\n",
    "CouchService = CouchService(DB_NAME)\n",
    "CouchSaver = CouchSaver()\n",
    "CouchSaver.set_dao(CouchService)"
   ]
  },
  {
   "cell_type": "code",
   "execution_count": null,
   "metadata": {},
   "outputs": [],
   "source": [
    "CouchSaver.save([t])"
   ]
  },
  {
   "cell_type": "code",
   "execution_count": null,
   "metadata": {},
   "outputs": [],
   "source": []
  },
  {
   "cell_type": "code",
   "execution_count": null,
   "metadata": {},
   "outputs": [],
   "source": []
  },
  {
   "cell_type": "code",
   "execution_count": null,
   "metadata": {},
   "outputs": [],
   "source": []
  },
  {
   "cell_type": "code",
   "execution_count": null,
   "metadata": {},
   "outputs": [],
   "source": []
  },
  {
   "cell_type": "code",
   "execution_count": null,
   "metadata": {},
   "outputs": [],
   "source": []
  },
  {
   "cell_type": "code",
   "execution_count": null,
   "metadata": {},
   "outputs": [],
   "source": [
    "###For putting in mysql\n",
    "\"\"\"😷💔📺💊\"\"\"\n",
    "\n",
    "record = {\"_id\": \"401352093598253056\",\n",
    "   \"_rev\": \"2-64861d45d1696f848786975706ad3bf9\",\n",
    "   \"truncated\": 'false',\n",
    "   \"text\": \"\\\"I might have vulvodynia\\\". Reminds me of Charlotte 😷💔📺💊 #satc #sexology #vulvodynia @ Ganzenplein http://t.co/C1E4pgiu2T\",\n",
    "   \"in_reply_to_status_id\": 'null',\n",
    "   \"id\": 401352093598253060,\n",
    "   \"favorite_count\": 0,\n",
    "   \"source\": \"<a href=\\\"http://instagram.com\\\" rel=\\\"nofollow\\\">Instagram</a>\",\n",
    "   \"retweeted\": 'false',\n",
    "  \n",
    "   \"entities\": {\n",
    "       \"symbols\": [\n",
    "       ],\n",
    "       \"user_mentions\": [\n",
    "       ],\n",
    "       \"hashtags\": [\n",
    "           {\n",
    "               \"indices\": [\n",
    "                   56,\n",
    "                   61\n",
    "               ],\n",
    "               \"text\": \"satc\"\n",
    "           },\n",
    "           {\n",
    "               \"indices\": [\n",
    "                   62,\n",
    "                   71\n",
    "               ],\n",
    "               \"text\": \"sexology\"\n",
    "           },\n",
    "           {\n",
    "               \"indices\": [\n",
    "                   72,\n",
    "                   83\n",
    "               ],\n",
    "               \"text\": \"vulvodynia\"\n",
    "           }\n",
    "       ],\n",
    "       \"urls\": [\n",
    "           {\n",
    "               \"url\": \"http://t.co/C1E4pgiu2T\",\n",
    "               \"indices\": [\n",
    "                   98,\n",
    "                   120\n",
    "               ],\n",
    "               \"expanded_url\": \"http://instagram.com/p/gvPYnCDEPm/\",\n",
    "               \"display_url\": \"instagram.com/p/gvPYnCDEPm/\"\n",
    "           }\n",
    "       ]\n",
    "   },\n",
    "   \"in_reply_to_screen_name\": 'null',\n",
    "   \"in_reply_to_user_id\": 'null',\n",
    "   \"retweet_count\": 0,\n",
    "   \"id_str\": \"401352093598253056\",\n",
    "   \"favorited\": 'false',\n",
    "   \"user\": {\n",
    "  \n",
    "       \"id\": 319297935,\n",
    "       \"verified\": 'false',\n",
    "         \"entities\": {\n",
    "           \"url\": {\n",
    "               \"urls\": [\n",
    "                   {\n",
    "                       \"url\": \"http://t.co/845k6L9q1k\",\n",
    "                       \"indices\": [\n",
    "                           0,\n",
    "                           22\n",
    "                       ],\n",
    "                       \"expanded_url\": \"http://www.facebook.com/niels.jacobus\",\n",
    "                       \"display_url\": \"facebook.com/niels.jacobus\"\n",
    "                   }\n",
    "               ]\n",
    "           },\n",
    "           \"description\": {\n",
    "               \"urls\": [\n",
    "               ]\n",
    "           }\n",
    "       },\n",
    "       \"followers_count\": 69,\n",
    "   \n",
    "       \"id_str\": \"319297935\",\n",
    "   \n",
    "       \"utc_offset\": 7200,\n",
    "       \"statuses_count\": 137,\n",
    "       \"description\": \"Student seksuologie @KU_Leuven | KSA\",\n",
    "       \"friends_count\": 81,\n",
    "       \"location\": \"Leuven\",\n",
    "       \"screen_name\": \"NielsJacobus\",\n",
    "       \"lang\": \"en\",\n",
    "       \"profile_background_tile\": 'false',\n",
    "       \"favourites_count\": 19,\n",
    "       \"name\": \"Niels ☕\",\n",
    "       \"url\": \"http://t.co/845k6L9q1k\",\n",
    "       \"created_at\": \"Fri Jun 17 21:54:43 +0000 2011\",\n",
    "        \"time_zone\": \"Athens\",\n",
    "   },\n",
    "   \n",
    "   \"lang\": \"de\",\n",
    "   \"created_at\": \"Fri Nov 15 14:12:50 +0000 2013\",\n",
    "   \n",
    "   \"place\": 'null',\n",
    "   \"metadata\": {\n",
    "       \"iso_language_code\": \"de\",\n",
    "       \"result_type\": \"recent\"\n",
    "   }\n",
    "                            }"
   ]
  },
  {
   "cell_type": "code",
   "execution_count": null,
   "metadata": {},
   "outputs": [],
   "source": [
    "%cd uscproject\n",
    "#General tools\n",
    "import sys\n",
    "import locale\n",
    "import json\n",
    "import time\n",
    "from random import shuffle\n",
    "import itertools #For set operations\n",
    "from urllib2 import URLError\n",
    "\n",
    "import networkx as nx\n",
    "#Twitter specific\n",
    "import twitter\n",
    "import twitter_text # easy_install twitter-text-py\n",
    "\n",
    "from TwitterLogin import login\n",
    "from TwitterUtilities import makeTwitterRequest\n",
    "\n",
    "#Data storage\n",
    "import redis\n",
    "import couchdb\n",
    "from couchdb.design import ViewDefinition\n",
    "\n",
    "t = login()\n",
    "\n",
    "#%%bash couchdb\n",
    "import TwitterServiceClasses as TSC\n",
    "import TwitterSearcher as TS\n",
    "import TwitterDataProcessors as TDP\n",
    "\n",
    "#Data manipulation and cleaning\n",
    "from TwitterDataProcessors import Tags\n",
    "from TwitterDataProcessors import Extractors\n",
    "from TwitterDataProcessors import TagsFromSearch"
   ]
  },
  {
   "cell_type": "code",
   "execution_count": null,
   "metadata": {},
   "outputs": [],
   "source": [
    "#log setup\n",
    "LOGFILE = '/Users/adam/Desktop/twitter_miner_log.txt'\n",
    "\n",
    "import logging\n",
    "\n",
    "class LogWriter: \n",
    "  def write(self, stuff):\n",
    "    f = open(LOGFILE, 'a')\n",
    "    f.write(stuff)\n",
    "    f.close()\n",
    "\n",
    "def stdin2file(func, file_like):\n",
    "  def innerfunc(*args, **kwargs):\n",
    "    old = sys.stdout\n",
    "    sys.stdout = file_like\n",
    "    try:\n",
    "      return func(*args, **kwargs)\n",
    "    finally:\n",
    "      sys.stdout = old\n",
    "  return innerfunc\n",
    "\"\"\"\n",
    "   # Decorator to redirect any calls to stdout (print) to LogWriter\n",
    "\"\"\"\n",
    "\"\"\"    \n",
    "def redirect_stdin(fi):\n",
    "    def stdin2file(func, fi):\n",
    "        def innerfunc(*args, **kwargs):\n",
    "          old = sys.stdout\n",
    "          sys.stdout = fi\n",
    "          try:\n",
    "            return func(*args, **kwargs)\n",
    "          finally:\n",
    "            sys.stdout = old\n",
    "        return innerfunc\n",
    "    return stdin2file\n",
    "def t(): pass\n",
    "\"\"\"\n",
    "#@redirect_stdin(t, LogWriter())\n",
    "def jip():\n",
    "    print 'jop'\n",
    "jip()\n",
    "\n",
    "jip = stdin2file(jip, LogWriter())\n",
    "\n",
    "jip()\n"
   ]
  },
  {
   "cell_type": "code",
   "execution_count": null,
   "metadata": {},
   "outputs": [],
   "source": [
    "LogWriter().write('j')"
   ]
  },
  {
   "cell_type": "code",
   "execution_count": null,
   "metadata": {},
   "outputs": [],
   "source": [
    "out.getvalue()"
   ]
  },
  {
   "cell_type": "code",
   "execution_count": null,
   "metadata": {},
   "outputs": [],
   "source": [
    "x = str(45)\n",
    "x.lower()"
   ]
  },
  {
   "cell_type": "code",
   "execution_count": null,
   "metadata": {},
   "outputs": [],
   "source": [
    "logging.basicConfig(filename=LOGFILE, mode='a')\n",
    "logging.warning('jip')"
   ]
  },
  {
   "cell_type": "markdown",
   "metadata": {},
   "source": [
    "#Loading to mysql"
   ]
  },
  {
   "cell_type": "code",
   "execution_count": null,
   "metadata": {},
   "outputs": [],
   "source": [
    "\"\"\"\n",
    "The following was moved to SaveToMySQL.py\n",
    "\"\"\"\n",
    "\n",
    "#TODO: Better error handling. \n",
    "#TODO: Maybe get all ids then transfer one by one\n",
    "import TwitterSQLService\n",
    "\n",
    "from BeautifulSoup import BeautifulStoneSoup\n",
    "class TweetError:\n",
    "    def __init__(self, tweetID):\n",
    "        self.tweetID = tweetID\n",
    "    def __repr__(self):\n",
    "        return \"%s went bad on tweetID %s\" % (self.kind, self.tweetID)\n",
    "\n",
    "class TweetServiceError(TweetError):\n",
    "    def __init__(self, tweetID):\n",
    "        self.kind = 'TweetService'\n",
    "        TweetError.__init__(self, tweetID)\n",
    "        \n",
    "class HashtagServiceError(TweetError):\n",
    "    def __init__(self, tweetID):\n",
    "        self.kind = 'HashtagService'\n",
    "        TweetError.__init__(self, tweetID)\n",
    "\n",
    "class UserServiceError(TweetError):\n",
    "    def __init__(self, tweetID):\n",
    "        self.kind = 'UserService'\n",
    "        TweetError.__init__(self, tweetID)\n",
    "\n",
    "\n",
    "class TweetService(TwitterSQLService.SQLService):\n",
    "    def __init__(self, test=False, local=True):\n",
    "        TwitterSQLService.SQLService.__init__(self, test, local)\n",
    "         \n",
    "    def HTMLEntitiesToUnicode(self, text):\n",
    "        \"\"\"Converts HTML entities to unicode.  For example '&amp;' becomes '&'.\"\"\"\n",
    "        text = unicode(BeautifulStoneSoup(text, convertEntities=BeautifulStoneSoup.ALL_ENTITIES))\n",
    "        return text\n",
    "\n",
    "    def recordTweetData(self, tweetID, tweet):\n",
    "        \"\"\"\n",
    "        @param tweetid ID of the tweet from id_str\n",
    "        \"\"\"\n",
    "        ##Make sure urder id is recorded\n",
    "        try:\n",
    "            text = tweet['text']\n",
    "#            text = self.HTMLEntitiesToUnicode(tweet['text'])\n",
    "            self.query = \"\"\"INSERT INTO tweets (tweetID, tweetText, favorite_count, source, retweeted, in_reply_to_screen_name, retweet_count, favorited, userID, lang, created_at)\n",
    "             VALUES (%s, %s, %s, %s, %s, %s, %s, %s, %s, %s, %s)\"\"\"\n",
    "            self.val = [tweetID, text, \n",
    "                      tweet['favorite_count'], tweet['source'], \n",
    "                      tweet['retweeted'], tweet['in_reply_to_screen_name'], \n",
    "                      tweet['retweet_count'], tweet['favorited'], \n",
    "                      tweet['user']['id'], tweet['lang'], tweet['created_at']]\n",
    "            self.executeQuery()\n",
    "            ##run query\n",
    "        except:\n",
    "            raise TweetServiceError(tweetID)\n",
    "            #print \"Error in recording tweet %s. \\n %s\" % (tweetID, e)\n",
    "\n",
    "class HashtagService(TwitterSQLService.SQLService):\n",
    "    def __init__(self, test=False, local=True):\n",
    "        TwitterSQLService.SQLService.__init__(self, test, local)\n",
    "    \n",
    "    def tagFormatter(self, tagText):\n",
    "        \"\"\"\n",
    "        Make the appropriate transformations to the hashtag\n",
    "        \"\"\"\n",
    "        try:\n",
    "            tag = unicode(BeautifulStoneSoup(tagText, convertEntities=BeautifulStoneSoup.ALL_ENTITIES))\n",
    "            tag = str(tag)\n",
    "            return tag.lower()\n",
    "        except:\n",
    "            raise HashtagServiceError(tagText)\n",
    "        finally:\n",
    "            return tagText\n",
    "            #print \"Tag formatting failed for tag text: %s \\n %s\" % (tagText, e)\n",
    "\n",
    "    def getHashtags(self, record):\n",
    "        hashtags = []\n",
    "        for r in record['entities']['hashtags']:\n",
    "            hashtags.append(r['text'])\n",
    "        return hashtags\n",
    "\n",
    "    def getTagID(self, tagText):\n",
    "        \"\"\"\n",
    "        The text of the hashtag to get\n",
    "        \"\"\"\n",
    "        tag = self.tagFormatter(tagText)\n",
    "        self.query = \"\"\"SELECT tagID FROM hashtags WHERE hashtag = %s\"\"\"\n",
    "        self.val = [tagText]\n",
    "        self.returnOne()\n",
    "        return self.results\n",
    "    \n",
    "    def recordTagText(self, tagText):\n",
    "        \"\"\"\n",
    "        If the tag is new, records the tag text\n",
    "        \"\"\"\n",
    "        tag = self.tagFormatter(tagText)\n",
    "        self.query = \"\"\"INSERT INTO hashtags (hashtag) VALUES (%s)\"\"\"\n",
    "        self.val = [tag]\n",
    "        self.executeQuery()\n",
    "    \n",
    "    def recordTagAssoc(self, tweetID, tagID):\n",
    "        \"\"\"\n",
    "        Associates a tag with a tweet\n",
    "        \"\"\"\n",
    "        self.query = \"\"\"INSERT IGNORE INTO tweetsXtags (tweetID, tagID) VALUES (%s, %s)\"\"\"\n",
    "        self.val = [tweetID, tagID]\n",
    "        self.executeQuery()\n",
    "        \n",
    "    def recordHashtags(self, tweetID, tags):\n",
    "        \"\"\"\n",
    "        @param tweetid int ID of the tweet from id_str\n",
    "        @param tags list of tag strings\n",
    "        \"\"\"\n",
    "        for tag in tags:\n",
    "            try:\n",
    "                #Lookup tag id\n",
    "                tagID = self.getTagID(tag)\n",
    "                if tagID == None:\n",
    "                    #Insert the tag text into hashtags table\n",
    "                    self.recordTagText(tag)\n",
    "                    tagID = self.getTagID(tag)\n",
    "                if tagID != None: #Now have id. Make association\n",
    "                   self.recordTagAssoc(tweetID, tagID['tagID']) \n",
    "            except:\n",
    "                raise HashtagServiceError(tweetID)\n",
    "            #except Exception as e:\n",
    "            #    print \"Error in recording hashtags for tweetid %s. \\n Tag: %s \\n %s\" % (tweetID, tag, e)    \n",
    "\n",
    "class UserService(TwitterSQLService.SQLService):\n",
    "    def __init__(self, test=False, local=True):\n",
    "        TwitterSQLService.SQLService.__init__(self, test, local)\n",
    "        self.ignorecolumns = ['id', 'entities',\n",
    "        'follow_request_sent',\n",
    "        'profile_use_background_image',\n",
    "        'profile_text_color',\n",
    "        'profile_image_url_https',\n",
    "        'profile_sidebar_fill_color',\n",
    "        'is_translator',\n",
    "        'geo_enabled',\n",
    "        'protected',\n",
    "        'default_profile_image','profile_link_color', 'profile_image_url','notifications',\n",
    "        'profile_background_image_url_https', 'profile_background_color','profile_banner_url',\n",
    "        'profile_background_image_url', 'profile_background_tile','contributors_enabled',\n",
    "        'profile_sidebar_border_color','default_profile', 'following','listed_count',\n",
    "        'follow_request_sent']\n",
    "       \n",
    "    def checkUser(self, userID):\n",
    "        \"\"\"\n",
    "        Used to check whether user already exists\n",
    "        \"\"\"\n",
    "        self.query = \"\"\"SELECT userID FROM users WHERE userID = %s\"\"\"\n",
    "        self.val = [userID]\n",
    "        self.returnAll()\n",
    "        if len(self.results) > 0:\n",
    "            return True\n",
    "        else:\n",
    "            return False\n",
    "    \n",
    "    def createUser(self, userDict):\n",
    "        \"\"\"\n",
    "        Creates the user record. Only necessarily does useriD\n",
    "        @param userDict Dictionary containing user info\n",
    "        \"\"\"\n",
    "        #Insert the userID\n",
    "        self.query = \"\"\"INSERT INTO users (userID) VALUES (%s)\"\"\"\n",
    "        self.val = [userDict['id']]\n",
    "        self.executeQuery()\n",
    "        if self.checkUser(userDict['id']) == True:\n",
    "            touse = [x for x in userDict.keys() if x not in self.ignorecolumns]\n",
    "            #Then update\n",
    "            for k in touse:\n",
    "                #try:\n",
    "                #if (k != 'id') and (k != 'entities'):\n",
    "                self.query = \"\"\"UPDATE users SET %s = %%s WHERE userID = %%s\"\"\" % k\n",
    "                self.val = [userDict[k], userDict['id']]\n",
    "                self.executeQuery()       \n",
    "                #except Exception as e:\n",
    "                 #   print e             \n",
    "        else: \n",
    "            raise UserServiceError(userDict['id'])\n",
    "\n",
    "    def recordUser(self, userDict):\n",
    "        if self.checkUser(userDict['id']) == True:\n",
    "            return True\n",
    "        else:\n",
    "            self.createUser(userDict)\n",
    "            if self.checkUser(userDict['id']) == True:\n",
    "                return True\n",
    "            else:\n",
    "                raise UserServiceError(userDict['id'])\n"
   ]
  },
  {
   "cell_type": "code",
   "execution_count": null,
   "metadata": {},
   "outputs": [],
   "source": [
    "#connect to imac couchdb\n",
    "%run CouchDBDAOs\n",
    "C =  CouchDAO('http://192.168.1.111:5984')\n",
    "C.connect('compiled')\n",
    "\n",
    "#Run the conversion\n",
    "TEST = False; LOCAL = True\n",
    "us = UserService(test=TEST, local=LOCAL)\n",
    "ts = TweetService(test=TEST, local=LOCAL)\n",
    "hts = HashtagService(test=TEST, local=LOCAL)\n",
    "\"\"\"\n",
    "for tweet in C.db.query(\"\"\"function(doc){emit (doc.id, doc);}\"\"\"):\n",
    "    try:\n",
    "        tweetID = tweet.key\n",
    "        record = tweet.value\n",
    "        #First put user into users table\n",
    "        us.recordUser(record['user'])\n",
    "        #Second, record tweet\n",
    "        ts.recordTweetData(tweetID, record)\n",
    "        #Third, record hashtags\n",
    "        hts.recordHashtags(tweetID, hts.getHashtags(record))\n",
    "    except ValueError:\n",
    "        print 'value error for id: %s' % tweetID\n",
    "    except KeyError:\n",
    "        print 'key error for %s' % tweetID\n",
    "    except TweetError, x:\n",
    "        print x\n",
    "#    except Exception as e:\n",
    " #       print 'Error on tweetID: % \\n %s' % (tweetID, e)\n",
    "\"\"\""
   ]
  },
  {
   "cell_type": "code",
   "execution_count": null,
   "metadata": {},
   "outputs": [],
   "source": [
    "tw = C.db.query(\"\"\"function(doc){emit (doc.id, doc);}\"\"\")\n",
    "tw[1]\n"
   ]
  },
  {
   "cell_type": "code",
   "execution_count": null,
   "metadata": {},
   "outputs": [],
   "source": [
    "TEST = True; LOCAL = True\n",
    "us = UserService(test=TEST, local=LOCAL)\n",
    "ts = TweetService(test=TEST, local=LOCAL)\n",
    "hts = HashtagService(test=TEST, local=LOCAL)\n",
    "\n",
    "##Record tweet\n",
    "tid = record[\"id_str\"]\n",
    "#First put user into users table\n",
    "us.recordUser(record['user'])\n",
    "#Second, record tweet\n",
    "ts.recordTweetData(tid, record)\n",
    "#Third, record hashtags\n",
    "hts.recordHashtags(tid, hts.getHashtags(record))"
   ]
  },
  {
   "cell_type": "code",
   "execution_count": null,
   "metadata": {},
   "outputs": [],
   "source": [
    "record.keys()\n",
    "##Get tags from record\n",
    "tags = record['entities']['hashtags']\n",
    "taglist = []\n",
    "for t in tags:\n",
    "    taglist.append(t['text'])"
   ]
  },
  {
   "cell_type": "code",
   "execution_count": null,
   "metadata": {},
   "outputs": [],
   "source": [
    "from CouchDBDAOs import CouchDAO as cdao\n",
    "C = cdao()"
   ]
  },
  {
   "cell_type": "code",
   "execution_count": null,
   "metadata": {},
   "outputs": [],
   "source": [
    "reload(cdao)"
   ]
  },
  {
   "cell_type": "markdown",
   "metadata": {},
   "source": [
    "###Create columns of tweets table\n",
    "ALTER TABLE  tweets \n",
    "ADD COLUMN userID BIGINT(30) NOT NULL,\n",
    "ADD COLUMN tweetText TEXT NOT NULL, \n",
    "ADD COLUMN favorite_count INT(10), \n",
    "ADD COLUMN source VARCHAR(100), \n",
    "ADD COLUMN retweeted VARCHAR(10), \n",
    "ADD COLUMN in_reply_to_screen_name VARCHAR(100), \n",
    "ADD COLUMN retweet_count INT(10), \n",
    "ADD COLUMN favorited VARCHAR (10),  \n",
    "ADD COLUMN lang VARCHAR(100), \n",
    "ADD COLUMN created_at VARCHAR(100),\n",
    "ADD COLUMN updated TIMESTAMP;\n",
    "###Create columns of users table\n",
    "ALTER TABLE users \n",
    "ADD COLUMN lang VARCHAR(100),\n",
    "ADD COLUMN utc_offset VARCHAR(100),\n",
    "ADD COLUMN verified VARCHAR(100),\n",
    "ADD COLUMN description VARCHAR(100),\n",
    "ADD COLUMN friends_count INT(10),\n",
    "ADD COLUMN url VARCHAR(100),\n",
    "ADD COLUMN time_zone VARCHAR(100),\n",
    "ADD COLUMN created_at VARCHAR(100),\n",
    "ADD COLUMN name VARCHAR(100),\n",
    "ADD COLUMN entities VARCHAR(100),\n",
    "ADD COLUMN followers_count VARCHAR(100),\n",
    "ADD COLUMN screen_name VARCHAR(100),\n",
    "ADD COLUMN id_str VARCHAR(100),\n",
    "ADD COLUMN favourites_count INT(10),\n",
    "ADD COLUMN statuses_count INT(10),\n",
    "ADD COLUMN id VARCHAR(100),\n",
    "ADD COLUMN location VARCHAR(100)\n"
   ]
  },
  {
   "cell_type": "code",
   "execution_count": null,
   "metadata": {},
   "outputs": [],
   "source": [
    "RS = TSC.RedisService()"
   ]
  },
  {
   "cell_type": "code",
   "execution_count": null,
   "metadata": {},
   "outputs": [],
   "source": [
    "import RedisDAOs\n",
    "class RemoteRedisService(RedisDAOs.RedisDAO):\n",
    "    def __init__(self, host, port, db=0):\n",
    "        RedisDAOs.RedisDAO.__init__(self, host, port, db)\n",
    "    #    self.loadkeys()\n",
    "    \n",
    "    def loadkeys(self):\n",
    "        self.keys = self.db.keys('*')\n",
    "rrs = RemoteRedisService(host='192.168.1.111', port=6379)\n",
    "#rrs.db.info()\n",
    "#rrs.loadkeys()"
   ]
  },
  {
   "cell_type": "code",
   "execution_count": null,
   "metadata": {},
   "outputs": [],
   "source": [
    "keys = RS.db.keys('unique_tweets:tweet_id:*')"
   ]
  },
  {
   "cell_type": "code",
   "execution_count": null,
   "metadata": {},
   "outputs": [],
   "source": [
    "[TSC.RedisFormat.tweet_id_remove(k) for k in keys]\n",
    "keys[:4]"
   ]
  },
  {
   "cell_type": "code",
   "execution_count": null,
   "metadata": {},
   "outputs": [],
   "source": [
    "mykey = 'tweetIDs'\n",
    "v = 99\n",
    "#RS.db.zadd(mykey, name1=23, name2=63, name3=32, name4=44)\n",
    "RS.db.sadd(mykey, v)\n",
    "#RS.db.zadd(mykey, name=v)"
   ]
  },
  {
   "cell_type": "code",
   "execution_count": null,
   "metadata": {},
   "outputs": [],
   "source": [
    "RS.db.sort(mykey, start=0, num=1, desc=True)"
   ]
  },
  {
   "cell_type": "code",
   "execution_count": null,
   "metadata": {},
   "outputs": [],
   "source": [
    "#RS.keys.sort()\n",
    "mx = max(RS.keys)"
   ]
  },
  {
   "cell_type": "code",
   "execution_count": null,
   "metadata": {},
   "outputs": [],
   "source": [
    "mx = max(RS.keys)\n",
    "TSC.RedisFormat.tweet_id_remove(mx)"
   ]
  },
  {
   "cell_type": "code",
   "execution_count": null,
   "metadata": {},
   "outputs": [],
   "source": [
    "RS.keys[:4]"
   ]
  },
  {
   "cell_type": "code",
   "execution_count": null,
   "metadata": {},
   "outputs": [],
   "source": []
  },
  {
   "cell_type": "code",
   "execution_count": null,
   "metadata": {},
   "outputs": [],
   "source": [
    "import datetime"
   ]
  },
  {
   "cell_type": "code",
   "execution_count": null,
   "metadata": {},
   "outputs": [],
   "source": [
    "from datetime import time\n",
    "datetime.datetime.now().strftime(\"%I:%M%p on %B %d, %Y\")\n",
    "#date.isoformat(date.today())\n"
   ]
  },
  {
   "cell_type": "code",
   "execution_count": null,
   "metadata": {},
   "outputs": [],
   "source": [
    "import networkx as nx\n",
    "#Save each day's tags in a graph. That way saves processing time; later can combine graphs\n",
    "today = date.isoformat(date.today())\n",
    "graphFile = 'tweet_hashtags_graph_%s.gexf' % today\n",
    "#g = nx.Graph()\n",
    "try:\n",
    "    graph = nx.read_gexf(graphFile)\n",
    "except:\n",
    "    g = nx.Graph()\n",
    "    try:\n",
    "        nx.write_gexf(g, graphFile)\n",
    "        graph = nx.read_gexf(graphFile)\n",
    "    except:\n",
    "        print 'Something is very wrong with the graphfile retrieval'"
   ]
  },
  {
   "cell_type": "code",
   "execution_count": null,
   "metadata": {},
   "outputs": [],
   "source": [
    "nx.info(graph)"
   ]
  },
  {
   "cell_type": "markdown",
   "metadata": {},
   "source": [
    "### Working on integrating builder"
   ]
  },
  {
   "cell_type": "code",
   "execution_count": null,
   "metadata": {},
   "outputs": [],
   "source": [
    "%cd uscproject\n",
    "from TwitterDataProcessors import Extractors\n",
    "from TwitterLogin import login\n",
    "\n",
    "twitter_conn = login()\n",
    "search_results = twitter_conn.search.tweets(q='pain', count=100)\n",
    "#for status in self.search_results['statuses']:\n",
    "\n",
    "statuses = search_results['statuses']  # This is the list returned which contains all the tweets\n"
   ]
  },
  {
   "cell_type": "code",
   "execution_count": null,
   "metadata": {},
   "outputs": [],
   "source": [
    "import networkx as nx\n",
    "import sys\n",
    "graphFile = 'tweet_hashtags_graph_MASTER.gexf'\n",
    "try:\n",
    "    graph = nx.read_gexf(graphFile)\n",
    "    print 'Start graph info', nx.info(graph)\n",
    "except Exception as e:\n",
    "    print 'Error loading graph from %s: %s' % (graphFile, e)    \n",
    "    #Prevent further execution\n",
    "    sys.exit()\n",
    "#Add to graph\n",
    "try:\n",
    "    for tweet in statuses:\n",
    "        tweet_tuples = []\n",
    "        entities = Extractors.getEntities(tweet)\n",
    "        if len(entities['hashtags']) >= 1:\n",
    "            list_of_hashtags = entities['hashtags']\n",
    "            for tag in list_of_hashtags:\n",
    "                tag_cleaned = str(tag['text'])\n",
    "                tag_cleaned = tag_cleaned.lower()\n",
    "                tweetid = tweet['id_str']\n",
    "                tweet_tuple = (tweetid, tag_cleaned)\n",
    "                tweet_tuples.append(tweet_tuple)\n",
    "            try:\n",
    "                graph.add_edges_from(tweet_tuples)\n",
    "            except Exception as e:\n",
    "                print 'Error adding edges to graph %s', e\n",
    "except Exception as e:\n",
    "    print 'Error in building graph %s' % e\n",
    "finally:\n",
    "    nx.write_gexf(graph, graphFile)\n",
    "    print 'Saved graph info : ', nx.info(graph)"
   ]
  },
  {
   "cell_type": "code",
   "execution_count": null,
   "metadata": {},
   "outputs": [],
   "source": [
    "tweet_tuples"
   ]
  },
  {
   "cell_type": "code",
   "execution_count": null,
   "metadata": {},
   "outputs": [],
   "source": [
    "import networkx as nx\n",
    "graphFile = 'tweet_hashtags_graph_MASTER.gexf'\n",
    "try:\n",
    "    graph = nx.read_gexf(graphFile)\n",
    "except Exception as e:\n",
    "    print 'Error loading graph from %s: %s' % (graphFile, e)    \n",
    "#Add to graph\n",
    "try:\n",
    "    graph.add_edges_from(tweet_tuples)\n",
    "except Exception as e:\n",
    "    print 'Error adding edges to graph %s', e\n",
    "    \n",
    "nx.write_gexf(graph, self.graphFile)\n",
    "        "
   ]
  },
  {
   "cell_type": "code",
   "execution_count": null,
   "metadata": {},
   "outputs": [],
   "source": [
    "['trtags = Extractors.extractHashtags(statuses)"
   ]
  },
  {
   "cell_type": "code",
   "execution_count": null,
   "metadata": {},
   "outputs": [],
   "source": [
    "from TwitterDataProcessors import Extractors\n",
    "from TwitterLogin import login\n",
    "\n",
    "twitter_con = login()\n",
    "search_results = twitter_conn.search.tweets(q=self.query, count=100)\n",
    "#for status in self.search_results['statuses']:\n",
    "\n",
    "statuses = self.search_results['statuses']  # This is the list returned which contains all the tweets\n",
    "\n",
    "for tweet in statuses:\n",
    "tags = Extractors.extractHashtags(tweet)\n",
    "#tags = tweet['hashtags']\n",
    "tweetkey = tweet['id_str']\n",
    "except Exception as e:\n",
    "print 'Failed to extract %s' % e\n",
    "##tags = []\n",
    "#if tweet.value is not None:\n",
    "for tag in tags: #tweet.value:\n",
    "try:\n",
    "        #Make lowercase and convert to string\n",
    "        #tag_cleaned = str(tag['text'])\n",
    "        tag_cleaned = str(tag)\n",
    "        tag_cleaned = tag_cleaned.lower()\n",
    "        #Make tuple of tweetid and tag\n",
    "        self.tweet_tuples.append((tweetkey, tag_cleaned))\n",
    "        #self.tweet_tuples.append((tweet.key, tag_cleaned))\n",
    "except:\n",
    "        self.errors.append(tweetkey)\n",
    "except Exception as e:\n",
    "print 'bad thing happened %s' % e\n",
    "#pass\n"
   ]
  },
  {
   "cell_type": "markdown",
   "metadata": {},
   "source": [
    "### ----end builder"
   ]
  },
  {
   "cell_type": "markdown",
   "metadata": {},
   "source": [
    "#To Do\n",
    "Try doing the analysis on twitter users rather than tweets"
   ]
  },
  {
   "cell_type": "markdown",
   "metadata": {},
   "source": [
    "# Move below here"
   ]
  },
  {
   "cell_type": "code",
   "execution_count": null,
   "metadata": {},
   "outputs": [],
   "source": []
  },
  {
   "cell_type": "code",
   "execution_count": null,
   "metadata": {},
   "outputs": [],
   "source": []
  },
  {
   "cell_type": "markdown",
   "metadata": {},
   "source": [
    "# Mining tweets"
   ]
  },
  {
   "cell_type": "code",
   "execution_count": null,
   "metadata": {},
   "outputs": [],
   "source": [
    "reload(TSC)\n",
    "#doc = {'key' : 1, 'value' : test}\n",
    "t = statuses[0]\n",
    "#t['_id'] = t['id_str']\n",
    "t['_id'] = str(1)\n",
    "#TSC.CouchSaver.save('search-pain', t) \n",
    "cs = TSC.CouchService('search-pain')\n",
    "cs.db.save(t)"
   ]
  },
  {
   "cell_type": "code",
   "execution_count": null,
   "metadata": {},
   "outputs": [],
   "source": [
    "#Mine tweets (this is best taken care of with TwitterAutoMine in idle)\n",
    "reload(TS)\n",
    "ts = TS.Search()\n",
    "ts.execute('#spoonie', 'False')\n",
    "search_terms = ['#Spoonie', '#CRPS', '#Migraine', '#TN', '#RSD', '#Fibro', '#Fibromyalgia']\n",
    "#for s in search_terms:\n",
    "    #ts.execute(s, 'False')"
   ]
  },
  {
   "cell_type": "code",
   "execution_count": null,
   "metadata": {},
   "outputs": [],
   "source": [
    "test = {u'contributors': None,\n",
    " u'coordinates': None,\n",
    " u'created_at': u'Tue May 14 21:13:18 +0000 2013',\n",
    " u'entities': {u'hashtags': [],\n",
    "  u'symbols': [],\n",
    "  u'urls': [],\n",
    "  u'user_mentions': []},\n",
    " u'favorite_count': 0,\n",
    " u'favorited': False,\n",
    " u'geo': None,\n",
    " u'id': 334416152052768768,\n",
    " u'id_str': u'334416152052768768',\n",
    " u'in_reply_to_screen_name': None,\n",
    " u'in_reply_to_status_id': None,\n",
    " u'in_reply_to_status_id_str': None,\n",
    " u'in_reply_to_user_id': None,\n",
    " u'in_reply_to_user_id_str': None,\n",
    " u'lang': u'en',\n",
    " u'metadata': {u'iso_language_code': u'en', u'result_type': u'recent'},\n",
    " u'place': None,\n",
    " u'retweet_count': 0,\n",
    " u'retweeted': False,\n",
    " u'source': u'<a href=\"http://twitter.com/download/android\" rel=\"nofollow\">Twitter for Android</a>',\n",
    " u'text': u'For the ones who hide the truth to protect others. For the ones who have the truth when everybody is lying. For those who suffer the truth.',\n",
    " u'truncated': False,\n",
    " u'user': {u'contributors_enabled': False,\n",
    "  u'created_at': u'Wed Apr 10 13:57:07 +0000 2013',\n",
    "  u'default_profile': True,\n",
    "  u'default_profile_image': False,\n",
    "  u'description': u'Always forward unto dawn',\n",
    "  u'entities': {u'description': {u'urls': []}},\n",
    "  u'favourites_count': 17,\n",
    "  u'follow_request_sent': None,\n",
    "  u'followers_count': 24,\n",
    "  u'following': None,\n",
    "  u'friends_count': 49,\n",
    "  u'geo_enabled': False,\n",
    "  u'id': 1341982466,\n",
    "  u'id_str': u'1341982466',\n",
    "  u'is_translator': False,\n",
    "  u'lang': u'es',\n",
    "  u'listed_count': 0,\n",
    "  u'location': u'',\n",
    "  u'name': u'Juan [CRPS]',\n",
    "  u'notifications': None,\n",
    "  u'profile_background_color': u'C0DEED',\n",
    "  u'profile_background_image_url': u'http://a0.twimg.com/images/themes/theme1/bg.png',\n",
    "  u'profile_background_image_url_https': u'https://si0.twimg.com/images/themes/theme1/bg.png',\n",
    "  u'profile_background_tile': False,\n",
    "  u'profile_image_url': u'http://a0.twimg.com/profile_images/3502376973/5b0cf2c9a0fe53047c8b19d75378d251_normal.jpeg',\n",
    "  u'profile_image_url_https': u'https://si0.twimg.com/profile_images/3502376973/5b0cf2c9a0fe53047c8b19d75378d251_normal.jpeg',\n",
    "  u'profile_link_color': u'0084B4',\n",
    "  u'profile_sidebar_border_color': u'C0DEED',\n",
    "  u'profile_sidebar_fill_color': u'DDEEF6',\n",
    "  u'profile_text_color': u'333333',\n",
    "  u'profile_use_background_image': True,\n",
    "  u'protected': False,\n",
    "  u'screen_name': u'Juan_CRPS_',\n",
    "  u'statuses_count': 87,\n",
    "  u'time_zone': None,\n",
    "  u'url': None,\n",
    "  u'utc_offset': None,\n",
    "  u'verified': False}}"
   ]
  },
  {
   "cell_type": "markdown",
   "metadata": {},
   "source": [
    "# Processing tweets"
   ]
  },
  {
   "cell_type": "code",
   "execution_count": null,
   "metadata": {},
   "outputs": [],
   "source": [
    "#also need to store the total number of hashtags; tags per posts; total posts\n",
    "# Need to write the hashtag isolator into the view --so it won't retrieve every damn record"
   ]
  },
  {
   "cell_type": "markdown",
   "metadata": {},
   "source": [
    "### Condense tags into Redis"
   ]
  },
  {
   "cell_type": "code",
   "execution_count": null,
   "metadata": {},
   "outputs": [],
   "source": [
    "#check new size of redis db\n",
    "reload(TSC)\n",
    "RS = TSC.RedisService()\n",
    "info = RS.db.info() \n",
    "size = info['db0']\n",
    "print size\n"
   ]
  },
  {
   "cell_type": "code",
   "execution_count": null,
   "metadata": {},
   "outputs": [],
   "source": [
    "3.35pm 13424"
   ]
  },
  {
   "cell_type": "code",
   "execution_count": null,
   "metadata": {},
   "outputs": [],
   "source": [
    "r = redis.Redis(host='localhost', port=6379, db=0)\n",
    "r.hgetall(333940296658325505)\n",
    "\n",
    "#RS.db.getse)['333940296658325505']"
   ]
  },
  {
   "cell_type": "code",
   "execution_count": null,
   "metadata": {},
   "outputs": [],
   "source": [
    "tid = self.search_results['statuses'][0]['id_str']\n",
    "print tid\n",
    "present = self.redis_service.lookup_tweet_id(tid)\n",
    "if present == False:\n",
    "#Record in redis\n",
    "self.redis_service.save_tweet_id_to_master_list(tid)\n",
    "self.tweets += self.search_results['statuses']\n",
    "else:\n",
    "print 'already have tweet %s' % str(tid)\n",
    "except Exception as e:\n",
    "print 'problem looking up tweet'\n",
    "j['statuses'][0]['id_str']\n",
    "\t\t\t\t\t"
   ]
  },
  {
   "cell_type": "code",
   "execution_count": null,
   "metadata": {},
   "outputs": [],
   "source": [
    "results = []\n",
    "keys = RS.db.keys('*')\n",
    "keys[:5]\n",
    "if 'unique_tweets:tweet_id:333219385986670593' in keys:\n",
    "    print 'jip'\n",
    "else:\n",
    "    print 'gland'"
   ]
  },
  {
   "cell_type": "code",
   "execution_count": null,
   "metadata": {},
   "outputs": [],
   "source": [
    "#RS.get_all_tags()\n",
    "#RS.results[:4]\n",
    "#db['unique_tweets:tweet_id:333940296658325505']\n",
    "#RS.db.getset('unique_tweets:tweet_id:333940296658325505')\n",
    "RS.lookup_tweet_id(333948787221463041)"
   ]
  },
  {
   "cell_type": "code",
   "execution_count": null,
   "metadata": {},
   "outputs": [],
   "source": [
    "RS.remove_redis_format_from_results()\n",
    "len(RS.clean_results)"
   ]
  },
  {
   "cell_type": "code",
   "execution_count": null,
   "metadata": {},
   "outputs": [],
   "source": [
    "len(pairs)"
   ]
  },
  {
   "cell_type": "code",
   "execution_count": null,
   "metadata": {},
   "outputs": [],
   "source": [
    "reload(TSC)\n",
    "a = TSC.RedisFormat.tag_add('catfish') \n",
    "b = TSC.RedisFormat.tweet_id_add(45)"
   ]
  },
  {
   "cell_type": "code",
   "execution_count": null,
   "metadata": {},
   "outputs": [],
   "source": [
    "TSC.RedisFormat.tweet_id_remove(b)"
   ]
  },
  {
   "cell_type": "markdown",
   "metadata": {},
   "source": [
    "## Make networkx graph"
   ]
  },
  {
   "cell_type": "code",
   "execution_count": null,
   "metadata": {},
   "outputs": [],
   "source": [
    " import pickle \n",
    " filehandler = open('pairs', 'r') \n",
    " pair_data = pickle.load(filehandler) \n",
    "\n"
   ]
  },
  {
   "cell_type": "code",
   "execution_count": null,
   "metadata": {},
   "outputs": [],
   "source": [
    "import networkx as nx\n",
    "\n",
    "g = nx.Graph()\n",
    "g.add_edges_from(pair_data)"
   ]
  },
  {
   "cell_type": "code",
   "execution_count": null,
   "metadata": {},
   "outputs": [],
   "source": [
    "nx.write_gexf(g, 'charts_and_graphs/hashtagtest2.gexf')\n"
   ]
  },
  {
   "cell_type": "markdown",
   "metadata": {},
   "source": [
    "#---------------------------------"
   ]
  },
  {
   "cell_type": "code",
   "execution_count": null,
   "metadata": {},
   "outputs": [],
   "source": [
    "r = CS.db.query(\"\"\"function(doc){emit (doc.entities.hashtags);}\"\"\")\n"
   ]
  },
  {
   "cell_type": "code",
   "execution_count": null,
   "metadata": {},
   "outputs": [],
   "source": [
    "def get_tweet_texts():\n",
    "    query = db.query(\"\"\"function(doc){emit (null, doc.text);}\"\"\")\n",
    "    text = []\n",
    "    for i in query:\n",
    "        text.append(i.value)\n",
    "    return text\n"
   ]
  },
  {
   "cell_type": "markdown",
   "metadata": {},
   "source": [
    "# ------------------ various book things"
   ]
  },
  {
   "cell_type": "code",
   "execution_count": null,
   "metadata": {},
   "outputs": [],
   "source": [
    "def makeTwitterRequest(t, twitterFunction, max_errors=3, *args, **kwArgs): \n",
    "    wait_period = 2\n",
    "    error_count = 0\n",
    "    while True:\n",
    "        try:\n",
    "            return twitterFunction(*args, **kwArgs)\n",
    "        except twitter.api.TwitterHTTPError, e:\n",
    "            error_count = 0\n",
    "            wait_period = handleTwitterHTTPError(e, t, wait_period)\n",
    "            if wait_period is None:\n",
    "                return\n",
    "        except URLError, e:\n",
    "            error_count += 1\n",
    "            print >> sys.stderr, \"URLError encountered. Continuing.\"\n",
    "            if error_count > max_errors:\n",
    "                print >> sys.stderr, \"Too many consecutive errors...bailing out.\"\n",
    "                raise\n",
    "\n",
    "def _getRemainingHits(t):\n",
    "    return t.account.rate_limit_status()['remaining_hits']\n",
    "\n",
    "# Handle the common HTTPErrors. Return an updated value for wait_period\n",
    "# if the problem is a 503 error. Block until the rate limit is reset if\n",
    "# a rate limiting issue\n",
    "def handleTwitterHTTPError(e, t, wait_period=2):\n",
    "    if wait_period > 3600: # Seconds\n",
    "        print >> sys.stderr, 'Too many retries. Quitting.'\n",
    "        raise e\n",
    "    if e.e.code == 401:\n",
    "        print >> sys.stderr, 'Encountered 401 Error (Not Authorized)'\n",
    "        return None\n",
    "    elif e.e.code in (502, 503):\n",
    "        print >> sys.stderr, 'Encountered %i Error. Will retry in %i seconds' % (e.e.code,\n",
    "                wait_period)\n",
    "        time.sleep(wait_period)\n",
    "        wait_period *= 1.5\n",
    "        return wait_period\n",
    "    elif _getRemainingHits(t) == 0:\n",
    "        status = t.account.rate_limit_status()\n",
    "        now = time.time()  # UTC\n",
    "        when_rate_limit_resets = status['reset_time_in_seconds']  # UTC\n",
    "        sleep_time = max(when_rate_limit_resets - now, 5) # Prevent negative numbers\n",
    "        print >> sys.stderr, 'Rate limit reached: sleeping for %i secs' % (sleep_time, )\n",
    "        time.sleep(sleep_time)\n",
    "        return 2\n",
    "    else:\n",
    "        raise e\n",
    "\n"
   ]
  },
  {
   "cell_type": "code",
   "execution_count": null,
   "metadata": {},
   "outputs": [],
   "source": [
    "import sys\n",
    "import twitter\n",
    "import couchdb\n",
    "from couchdb.design import ViewDefinition\n",
    "from twitter__util import makeTwitterRequest\n",
    "from twitter__login import login\n",
    "\n",
    "Q = sys.argv[1]\n",
    "MAX_PAGES = 5\n",
    "\n",
    "server = couchdb.Server('http://localhost:5984')\n",
    "DB = 'search-%s' % (Q.lower().replace('#', '').replace('@', ''), )\n",
    "\n",
    "t = login()\n",
    "search_results = t.search.tweets(q=Q, count=100)\n",
    "tweets = search_results['statuses']\n",
    "\n",
    "for _ in range(MAX_PAGES-1): # Get more pages\n",
    "    next_results = search_results['search_metadata']['next_results']\n",
    "\n",
    "    # Create a dictionary from the query string params\n",
    "    kwargs = dict([ kv.split('=') for kv in next_results[1:].split(\"&\") ]) \n",
    "\n",
    "    search_results = t.search.tweets(**kwargs)\n",
    "    tweets += search_results['statuses']\n",
    "\n",
    "    if len(search_results['statuses']) == 0:\n",
    "        break\n",
    "\n",
    "    print 'Fetched %i tweets so far' % (len(tweets),)\n",
    "\n",
    "# Store the data\n",
    "try:\n",
    "    db = server.create(DB)\n",
    "except couchdb.http.PreconditionFailed, e:\n",
    "    # Already exists, so append to it (but be mindful of appending duplicates with repeat searches.)\n",
    "    # The refresh_url in the search_metadata or streaming API might also be\n",
    "    # appropriate to use here.\n",
    "    db = server[DB]\n",
    "\n",
    "db.update(tweets, all_or_nothing=True)\n",
    "print 'Done. Stored data to CouchDB - http://localhost:5984/_utils/database.html?%s' % (DB,)"
   ]
  },
  {
   "cell_type": "code",
   "execution_count": null,
   "metadata": {},
   "outputs": [],
   "source": [
    "# Recorded in TwitterServiceClasses\n",
    "def redis_result_list_fixer(redis_result_list):\n",
    "    tags = []\n",
    "    for r in redis_result_list:\n",
    "        t = tag_breaker(r)\n",
    "        tags.append(t)\n",
    "    return tags\n",
    "\n",
    "def tag_remove_redis_format(redisified_tag):\n",
    "    junk, sep, tag = redisified_tag.partition(':')\n",
    "    return tag"
   ]
  },
  {
   "cell_type": "markdown",
   "metadata": {},
   "source": [
    "# ------------------------ MY ATTEMPT"
   ]
  },
  {
   "cell_type": "code",
   "execution_count": null,
   "metadata": {},
   "outputs": [],
   "source": [
    "%cd uscproject\n",
    "import twitter__util\n",
    "reload(twitter__util)"
   ]
  },
  {
   "cell_type": "code",
   "execution_count": null,
   "metadata": {},
   "outputs": [],
   "source": [
    "t.users.show(screen_name='PainPhD')"
   ]
  },
  {
   "cell_type": "code",
   "execution_count": null,
   "metadata": {},
   "outputs": [],
   "source": [
    "max_id_of_search = crps['search_metadata']['max_id'] #Include this in subsequent searches to make sure no overlap"
   ]
  },
  {
   "cell_type": "code",
   "execution_count": null,
   "metadata": {},
   "outputs": [],
   "source": [
    "crps2 = t.search.tweets(q='#CRPS', max_id=max_id_of_search)"
   ]
  },
  {
   "cell_type": "code",
   "execution_count": null,
   "metadata": {},
   "outputs": [],
   "source": [
    "#MY attempt\n",
    "\n",
    "i = 1\n",
    "limit = 5\n",
    "records = []\n",
    "maxids = ['', '']\n",
    "mid = None\n",
    "\n",
    "def tweetget(i, mid):\n",
    "    if i == 1:\n",
    "        ht = t.search.tweets(q='#CRPS')\n",
    "    else:\n",
    "        ht = t.search.tweets(q='#CRPS', max_id=mid)\n",
    "    #Store maxid for next loop\n",
    "    maxid = ht['search_metadata']['max_id']\n",
    "    mid = maxid\n",
    "    maxids.append(maxid)\n",
    "    #Get hashtags\n",
    "    tags = extractHashtags(ht)\n",
    "    records.append(tags)\n",
    "    print i\n",
    "    print maxids\n",
    "\n",
    "while i <= limit:\n",
    "    tweetget(i, mid)\n",
    "    i += 1"
   ]
  },
  {
   "cell_type": "code",
   "execution_count": null,
   "metadata": {},
   "outputs": [],
   "source": [
    "crps = t.search.tweets(q='#CRPS')\n",
    "max_id_of_search = crps['search_metadata']['max_id'] #Include this in subsequent searches to make sure no overlap\n",
    "crps2 = t.search.tweets(q='#CRPS', max_id=max_id_of_search)\n",
    "tagset = extractHashtags(crps)"
   ]
  },
  {
   "cell_type": "code",
   "execution_count": null,
   "metadata": {},
   "outputs": [],
   "source": [
    "i = 0\n",
    "limit = 5\n",
    "\n",
    "maxid = None\n",
    "\n",
    "while i <= limit:\n",
    "    if i = 0:\n",
    "        crps = t.search.tweets(q='#CRPS')\n",
    "        maxid = crps['search_metadata']['max_id'] #Include this in subsequent searches to make sure no overlap\n",
    "        return maxid\n",
    "    \n",
    "    else:\n",
    "        crps2 = t.search.tweets(q='#CRPS', max_id=maxid)"
   ]
  }
 ],
 "metadata": {
  "kernelspec": {
   "display_name": "Python 3",
   "language": "python",
   "name": "python3"
  },
  "language_info": {
   "codemirror_mode": {
    "name": "ipython",
    "version": 3
   },
   "file_extension": ".py",
   "mimetype": "text/x-python",
   "name": "python",
   "nbconvert_exporter": "python",
   "pygments_lexer": "ipython3",
   "version": "3.4.3"
  },
  "latex_envs": {
   "bibliofile": "biblio.bib",
   "cite_by": "apalike",
   "current_citInitial": 1,
   "eqLabelWithNumbers": true,
   "eqNumInitial": 0
  },
  "toc": {
   "colors": {
    "hover_highlight": "#DAA520",
    "navigate_num": "#000000",
    "navigate_text": "#333333",
    "running_highlight": "#FF0000",
    "selected_highlight": "#FFD700",
    "sidebar_border": "#EEEEEE",
    "wrapper_background": "#FFFFFF"
   },
   "moveMenuLeft": true,
   "nav_menu": {
    "height": "179px",
    "width": "252px"
   },
   "navigate_menu": true,
   "number_sections": true,
   "sideBar": true,
   "threshold": 4,
   "toc_cell": false,
   "toc_section_display": "block",
   "toc_window_display": false,
   "widenNotebook": false
  }
 },
 "nbformat": 4,
 "nbformat_minor": 1
}
